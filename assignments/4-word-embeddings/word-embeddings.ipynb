{
 "cells": [
  {
   "cell_type": "markdown",
   "id": "4fd3d56b",
   "metadata": {},
   "source": [
    "# Word Embeddings\n",
    "\n",
    "Aluno:\n",
    "\n",
    "- Henrique Krausburg Correa"
   ]
  },
  {
   "cell_type": "code",
   "execution_count": 4,
   "id": "f25fb877",
   "metadata": {
    "vscode": {
     "languageId": "shellscript"
    }
   },
   "outputs": [
    {
     "name": "stdout",
     "output_type": "stream",
     "text": [
      "Requirement already satisfied: unidecode in /workspaces/class-nlp-ir/.venv/lib/python3.10/site-packages (1.3.8)\n",
      "Requirement already satisfied: nltk in /workspaces/class-nlp-ir/.venv/lib/python3.10/site-packages (3.9.1)\n",
      "Requirement already satisfied: pandas in /workspaces/class-nlp-ir/.venv/lib/python3.10/site-packages (2.2.3)\n",
      "Requirement already satisfied: numpy in /workspaces/class-nlp-ir/.venv/lib/python3.10/site-packages (1.26.4)\n",
      "Requirement already satisfied: matplotlib in /workspaces/class-nlp-ir/.venv/lib/python3.10/site-packages (3.10.1)\n",
      "Requirement already satisfied: seaborn in /workspaces/class-nlp-ir/.venv/lib/python3.10/site-packages (0.13.2)\n",
      "Requirement already satisfied: scikit-learn in /workspaces/class-nlp-ir/.venv/lib/python3.10/site-packages (1.6.1)\n",
      "Requirement already satisfied: yellowbrick in /workspaces/class-nlp-ir/.venv/lib/python3.10/site-packages (1.5)\n",
      "Requirement already satisfied: setuptools in /workspaces/class-nlp-ir/.venv/lib/python3.10/site-packages (65.5.1)\n",
      "Requirement already satisfied: plotly in /workspaces/class-nlp-ir/.venv/lib/python3.10/site-packages (6.0.1)\n",
      "Requirement already satisfied: nbformat in /workspaces/class-nlp-ir/.venv/lib/python3.10/site-packages (5.10.4)\n",
      "Requirement already satisfied: gensim==4.3.1 in /workspaces/class-nlp-ir/.venv/lib/python3.10/site-packages (4.3.1)\n",
      "Requirement already satisfied: scipy==1.10.1 in /workspaces/class-nlp-ir/.venv/lib/python3.10/site-packages (1.10.1)\n",
      "Requirement already satisfied: smart-open>=1.8.1 in /workspaces/class-nlp-ir/.venv/lib/python3.10/site-packages (from gensim==4.3.1) (7.1.0)\n",
      "Requirement already satisfied: click in /workspaces/class-nlp-ir/.venv/lib/python3.10/site-packages (from nltk) (8.1.8)\n",
      "Requirement already satisfied: joblib in /workspaces/class-nlp-ir/.venv/lib/python3.10/site-packages (from nltk) (1.4.2)\n",
      "Requirement already satisfied: regex>=2021.8.3 in /workspaces/class-nlp-ir/.venv/lib/python3.10/site-packages (from nltk) (2024.11.6)\n",
      "Requirement already satisfied: tqdm in /workspaces/class-nlp-ir/.venv/lib/python3.10/site-packages (from nltk) (4.67.1)\n",
      "Requirement already satisfied: python-dateutil>=2.8.2 in /workspaces/class-nlp-ir/.venv/lib/python3.10/site-packages (from pandas) (2.9.0.post0)\n",
      "Requirement already satisfied: pytz>=2020.1 in /workspaces/class-nlp-ir/.venv/lib/python3.10/site-packages (from pandas) (2025.2)\n",
      "Requirement already satisfied: tzdata>=2022.7 in /workspaces/class-nlp-ir/.venv/lib/python3.10/site-packages (from pandas) (2025.2)\n",
      "Requirement already satisfied: contourpy>=1.0.1 in /workspaces/class-nlp-ir/.venv/lib/python3.10/site-packages (from matplotlib) (1.3.1)\n",
      "Requirement already satisfied: cycler>=0.10 in /workspaces/class-nlp-ir/.venv/lib/python3.10/site-packages (from matplotlib) (0.12.1)\n",
      "Requirement already satisfied: fonttools>=4.22.0 in /workspaces/class-nlp-ir/.venv/lib/python3.10/site-packages (from matplotlib) (4.57.0)\n",
      "Requirement already satisfied: kiwisolver>=1.3.1 in /workspaces/class-nlp-ir/.venv/lib/python3.10/site-packages (from matplotlib) (1.4.8)\n",
      "Requirement already satisfied: packaging>=20.0 in /workspaces/class-nlp-ir/.venv/lib/python3.10/site-packages (from matplotlib) (24.2)\n",
      "Requirement already satisfied: pillow>=8 in /workspaces/class-nlp-ir/.venv/lib/python3.10/site-packages (from matplotlib) (11.1.0)\n",
      "Requirement already satisfied: pyparsing>=2.3.1 in /workspaces/class-nlp-ir/.venv/lib/python3.10/site-packages (from matplotlib) (3.2.3)\n",
      "Requirement already satisfied: threadpoolctl>=3.1.0 in /workspaces/class-nlp-ir/.venv/lib/python3.10/site-packages (from scikit-learn) (3.6.0)\n",
      "Requirement already satisfied: narwhals>=1.15.1 in /workspaces/class-nlp-ir/.venv/lib/python3.10/site-packages (from plotly) (1.33.0)\n",
      "Requirement already satisfied: fastjsonschema>=2.15 in /workspaces/class-nlp-ir/.venv/lib/python3.10/site-packages (from nbformat) (2.21.1)\n",
      "Requirement already satisfied: jsonschema>=2.6 in /workspaces/class-nlp-ir/.venv/lib/python3.10/site-packages (from nbformat) (4.23.0)\n",
      "Requirement already satisfied: jupyter-core!=5.0.*,>=4.12 in /workspaces/class-nlp-ir/.venv/lib/python3.10/site-packages (from nbformat) (5.7.2)\n",
      "Requirement already satisfied: traitlets>=5.1 in /workspaces/class-nlp-ir/.venv/lib/python3.10/site-packages (from nbformat) (5.14.3)\n",
      "Requirement already satisfied: attrs>=22.2.0 in /workspaces/class-nlp-ir/.venv/lib/python3.10/site-packages (from jsonschema>=2.6->nbformat) (25.3.0)\n",
      "Requirement already satisfied: jsonschema-specifications>=2023.03.6 in /workspaces/class-nlp-ir/.venv/lib/python3.10/site-packages (from jsonschema>=2.6->nbformat) (2024.10.1)\n",
      "Requirement already satisfied: referencing>=0.28.4 in /workspaces/class-nlp-ir/.venv/lib/python3.10/site-packages (from jsonschema>=2.6->nbformat) (0.36.2)\n",
      "Requirement already satisfied: rpds-py>=0.7.1 in /workspaces/class-nlp-ir/.venv/lib/python3.10/site-packages (from jsonschema>=2.6->nbformat) (0.24.0)\n",
      "Requirement already satisfied: platformdirs>=2.5 in /workspaces/class-nlp-ir/.venv/lib/python3.10/site-packages (from jupyter-core!=5.0.*,>=4.12->nbformat) (4.3.7)\n",
      "Requirement already satisfied: six>=1.5 in /workspaces/class-nlp-ir/.venv/lib/python3.10/site-packages (from python-dateutil>=2.8.2->pandas) (1.17.0)\n",
      "Requirement already satisfied: wrapt in /workspaces/class-nlp-ir/.venv/lib/python3.10/site-packages (from smart-open>=1.8.1->gensim==4.3.1) (1.17.2)\n",
      "Requirement already satisfied: typing-extensions>=4.4.0 in /workspaces/class-nlp-ir/.venv/lib/python3.10/site-packages (from referencing>=0.28.4->jsonschema>=2.6->nbformat) (4.13.1)\n",
      "Note: you may need to restart the kernel to use updated packages.\n"
     ]
    }
   ],
   "source": [
    "# Install environment dependencies\n",
    "%pip install unidecode nltk pandas numpy matplotlib seaborn scikit-learn yellowbrick setuptools plotly nbformat gensim==4.3.1 scipy==1.10.1"
   ]
  },
  {
   "cell_type": "code",
   "execution_count": 5,
   "id": "004f25ec",
   "metadata": {},
   "outputs": [
    {
     "name": "stderr",
     "output_type": "stream",
     "text": [
      "[nltk_data] Downloading package punkt to /home/vscode/nltk_data...\n",
      "[nltk_data]   Package punkt is already up-to-date!\n"
     ]
    },
    {
     "data": {
      "text/plain": [
       "True"
      ]
     },
     "execution_count": 5,
     "metadata": {},
     "output_type": "execute_result"
    }
   ],
   "source": [
    "import pandas as pd\n",
    "import numpy as np\n",
    "import seaborn as sns\n",
    "import os\n",
    "import nltk\n",
    "from gensim import utils\n",
    "import gensim.models\n",
    "nltk.download('punkt')"
   ]
  },
  {
   "cell_type": "markdown",
   "id": "9acfad42",
   "metadata": {},
   "source": [
    "# Exercícios para entregar\n",
    "\n",
    "Carregue as embeddings indicadas em português para os três exercicios."
   ]
  },
  {
   "cell_type": "code",
   "execution_count": 6,
   "id": "2158a275",
   "metadata": {},
   "outputs": [],
   "source": [
    "#baixando as embeddings do NILC de http://nilc.icmc.usp.br/embeddings\n",
    "! ! [ -f cbow_s100.zip ] && curl http://143.107.183.175:22980/download.php?file=embeddings/word2vec/cbow_s100.zip > cbow_s100.zip\n",
    "! ! [ -f cbow_s100.txt ] &&  unzip -o cbow_s100.zip\n",
    "nomearq = 'cbow_s100.txt'"
   ]
  },
  {
   "cell_type": "code",
   "execution_count": null,
   "id": "3b9a51c0",
   "metadata": {},
   "outputs": [
    {
     "name": "stdout",
     "output_type": "stream",
     "text": [
      "Carregado:  cbow_s100.txt\n"
     ]
    }
   ],
   "source": [
    "word_vectors: gensim.models.KeyedVectors = gensim.models.KeyedVectors.load_word2vec_format(nomearq, binary=False)\n",
    "print('Carregado: ',nomearq)"
   ]
  },
  {
   "cell_type": "code",
   "execution_count": 8,
   "id": "2fb7ab6a",
   "metadata": {},
   "outputs": [
    {
     "name": "stdout",
     "output_type": "stream",
     "text": [
      "O vocabulario contém 929606\n"
     ]
    }
   ],
   "source": [
    "# total de palavras e as 10 primeiras\n",
    "words = list(word_vectors.key_to_index)\n",
    "print(f'O vocabulario contém {len(words)}')"
   ]
  },
  {
   "cell_type": "markdown",
   "id": "c04321ed",
   "metadata": {},
   "source": [
    "## Exercício 1\n",
    "\n",
    "A polissemia ocorre quando uma mesma palavra possui mais de um significado. Um exemplo de polissemia é a palavra “manga”, que pode ser parte de vestimenta ou uma fruta.\n",
    "\n",
    "a) Usando a função `most_similar` do Gensim, analise o resultado para a palavra \"manga\". Escolha outra palavra polissêmica que exista no vocabulário e verifique as palavras mais similares."
   ]
  },
  {
   "cell_type": "code",
   "execution_count": 78,
   "id": "0afec2c5",
   "metadata": {},
   "outputs": [
    {
     "name": "stdout",
     "output_type": "stream",
     "text": [
      "Palavras mais similares a manga:\n"
     ]
    },
    {
     "data": {
      "text/plain": [
       "[('lapela', 0.6999149918556213),\n",
       " ('cola', 0.6836391687393188),\n",
       " ('laranja', 0.6765139102935791),\n",
       " ('groselha', 0.6659492254257202),\n",
       " ('capa', 0.6613255739212036),\n",
       " ('lona', 0.6586939096450806),\n",
       " ('argola', 0.6564887762069702),\n",
       " ('maça', 0.6550765633583069),\n",
       " ('gaze', 0.6539993286132812),\n",
       " ('barretina', 0.6516655087471008)]"
      ]
     },
     "execution_count": 78,
     "metadata": {},
     "output_type": "execute_result"
    }
   ],
   "source": [
    "# Inspect \"manga\" using the word2vec model most_similar() function\n",
    "print('Palavras mais similares a manga:')\n",
    "word_vectors.most_similar('manga', topn=10)"
   ]
  },
  {
   "cell_type": "code",
   "execution_count": 79,
   "id": "72f36735",
   "metadata": {},
   "outputs": [
    {
     "name": "stdout",
     "output_type": "stream",
     "text": [
      "Palavras mais similares a bateria:\n"
     ]
    },
    {
     "data": {
      "text/plain": [
       "[('guitarra', 0.7604110836982727),\n",
       " ('sanfona', 0.7105023264884949),\n",
       " ('afinação', 0.7089695930480957),\n",
       " ('pedaleira', 0.6935551166534424),\n",
       " ('apresentaзгo', 0.6922295093536377),\n",
       " ('modinha', 0.6795964241027832),\n",
       " ('trompa', 0.6778963208198547),\n",
       " ('picadora', 0.6776020526885986),\n",
       " ('camêra', 0.6729409694671631),\n",
       " ('gaita-de-foles', 0.6719194054603577)]"
      ]
     },
     "execution_count": 79,
     "metadata": {},
     "output_type": "execute_result"
    }
   ],
   "source": [
    "print('Palavras mais similares a bateria:')\n",
    "word_vectors.most_similar('bateria', topn=10)"
   ]
  },
  {
   "cell_type": "markdown",
   "id": "58cb0aac",
   "metadata": {},
   "source": [
    "b) O que você observa e qual a sua hipótese para explicar esse comportamento.\n",
    "\n",
    "> Segundo Harris, Z. S. “Palavras que ocorrem em contextos similares tendem a ter significados similares”\n",
    ">\n",
    "> No caso de Manga, significa que as palavras estão próximas, mesmo em contexto semântico diferente:\n",
    "> - Recolha as mangas da camisa\n",
    "> - Recolha as mangas da mangueira\n",
    ">\n",
    "> Todavia, o contexto de bateria (instrumento) não é aplicavel em bateria (eletrônico)"
   ]
  },
  {
   "cell_type": "markdown",
   "id": "2e6173c6",
   "metadata": {},
   "source": [
    "## Exercício 2\n",
    "\n",
    "a) Faça o exercício para duas palavras:\n",
    "\n",
    "Escolha uma palavra, um sinônimo e um antônimo da mesma.\n",
    "Calcule a distância euclideana e a similaridade do cosseno entre a palavra e seu sinônimo e a palavra e seu antônimo.\n",
    "\n",
    "\n",
    "\n",
    "\n"
   ]
  },
  {
   "cell_type": "code",
   "execution_count": null,
   "id": "710953c0",
   "metadata": {},
   "outputs": [
    {
     "name": "stdout",
     "output_type": "stream",
     "text": [
      "Distância euclideana Carro e Automóvel: 0.7032098174095154\n",
      "Distância euclideana Carro e Ônibus: 0.3602352738380432\n",
      "Similaridade Carro e Automóvel: 0.2967901825904846\n",
      "Similaridade Carro e Ônibus: 0.6397647261619568\n"
     ]
    }
   ],
   "source": [
    "# Palavra alvo: Carro\n",
    "# Sinônimo: Automóvel\n",
    "# Antônimo: Ônibus\n",
    "\n",
    "# Calcular a distância euclideana entre Carro, Automóvel e Ônibus\n",
    "print(f'Distância euclideana Carro e Automóvel: {word_vectors.distance(\"carro\", \"automovel\")}')\n",
    "print(f'Distância euclideana Carro e Ônibus: {word_vectors.distance(\"carro\", \"onibus\")}')\n",
    "\n",
    "# Calcular a similaridade entre Carro, Automóvel e Ônibus\n",
    "print(f'Similaridade Carro e Automóvel: {word_vectors.similarity(\"carro\", \"automovel\")}')\n",
    "print(f'Similaridade Carro e Ônibus: {word_vectors.similarity(\"carro\", \"onibus\")}')\n",
    "\n"
   ]
  },
  {
   "cell_type": "markdown",
   "id": "14e8ca11",
   "metadata": {},
   "source": [
    "b) O que você observa e qual a sua hipótese para explicar esse comportamento.\n",
    "\n",
    "> Embora as palavras Carro e Automóvel sejam sinônimos, o contexto aplicado no *corpus* são diferentes.\n",
    ">\n",
    "> Por outro lado, Carro e Ônibus são antônimos, mas seu contexto aplicado no *corpus* são semelhantes.\n",
    ">\n",
    "> \"O significado da palavra é o seu uso na linguagem\" - Wittgenstein, L. (1953). Philosophical Investigations. Blackwell."
   ]
  },
  {
   "cell_type": "markdown",
   "id": "76af4e33",
   "metadata": {},
   "source": [
    "## Exercício 3\n",
    "\n",
    "a) Verifique as palavras mais similares em relação às palavras \"enfermeiro\" e \"enfermeira\"."
   ]
  },
  {
   "cell_type": "code",
   "execution_count": 81,
   "id": "3de57cf7",
   "metadata": {},
   "outputs": [
    {
     "name": "stdout",
     "output_type": "stream",
     "text": [
      "Palavras mais similares a enfermeiro:\n"
     ]
    },
    {
     "data": {
      "text/plain": [
       "[('anestesista', 0.7805444002151489),\n",
       " ('dentista', 0.7740222215652466),\n",
       " ('psicólogo', 0.7639155983924866),\n",
       " ('ortopedista', 0.7517024874687195),\n",
       " ('oftalmologista', 0.7468044757843018),\n",
       " ('pediatra', 0.733773946762085),\n",
       " ('gastroenterologista', 0.7238253355026245),\n",
       " ('fonoaudiólogo', 0.721453070640564),\n",
       " ('obstetra', 0.7185148000717163),\n",
       " ('urologista', 0.7118047475814819)]"
      ]
     },
     "execution_count": 81,
     "metadata": {},
     "output_type": "execute_result"
    }
   ],
   "source": [
    "print('Palavras mais similares a enfermeiro:')\n",
    "word_vectors.most_similar('enfermeiro', topn=10)"
   ]
  },
  {
   "cell_type": "code",
   "execution_count": 82,
   "id": "4f1344fc",
   "metadata": {},
   "outputs": [
    {
     "name": "stdout",
     "output_type": "stream",
     "text": [
      "Palavras mais similares a enfermeira:\n"
     ]
    },
    {
     "data": {
      "text/plain": [
       "[('cabeleireira', 0.851155698299408),\n",
       " ('psicóloga', 0.8485087156295776),\n",
       " ('prostituta', 0.8362278938293457),\n",
       " ('faxineira', 0.830856442451477),\n",
       " ('advogada', 0.8301957845687866),\n",
       " ('bibliotecária', 0.83005291223526),\n",
       " ('cozinheira', 0.8270133137702942),\n",
       " ('menina', 0.8131684064865112),\n",
       " ('mulher', 0.8090578317642212),\n",
       " ('aeromoça', 0.8000370860099792)]"
      ]
     },
     "execution_count": 82,
     "metadata": {},
     "output_type": "execute_result"
    }
   ],
   "source": [
    "print('Palavras mais similares a enfermeira:')\n",
    "word_vectors.most_similar('enfermeira', topn=10)"
   ]
  },
  {
   "cell_type": "markdown",
   "id": "0d02cedb",
   "metadata": {},
   "source": [
    "b) Você observa algum viés? Se sim, qual sua hipótese.\n",
    "\n",
    "\n",
    "> Os modelos criados a partir de embeddings refletem e replicam os estereótipos e vieses maldosos do *corpus*.\n",
    ">\n",
    "> No cargo enfermeiro (masculino), o modelo apresentou um estereótipo de posições renomadas na área da saúde.\n",
    ">\n",
    "> Para o cargo enfermeira, o modelo generalizou para diversas áreas de atuação, refletindo a desigualdade no mercado de trabalho. \n",
    ">\n",
    "> Creio que o modelo de embeddings aprende como utilizar as palavras alvo em diferentes contextos, mas não possui um entendimento semântico para detectar uso de duplo sentido e expressões como sarcasmo, ironia e bullying. \n"
   ]
  }
 ],
 "metadata": {
  "kernelspec": {
   "display_name": ".venv",
   "language": "python",
   "name": "python3"
  },
  "language_info": {
   "codemirror_mode": {
    "name": "ipython",
    "version": 3
   },
   "file_extension": ".py",
   "mimetype": "text/x-python",
   "name": "python",
   "nbconvert_exporter": "python",
   "pygments_lexer": "ipython3",
   "version": "3.10.16"
  }
 },
 "nbformat": 4,
 "nbformat_minor": 5
}
