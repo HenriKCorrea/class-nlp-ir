{
 "cells": [
  {
   "cell_type": "code",
   "execution_count": 1,
   "id": "f25fb877",
   "metadata": {
    "vscode": {
     "languageId": "shellscript"
    }
   },
   "outputs": [
    {
     "name": "stdout",
     "output_type": "stream",
     "text": [
      "Requirement already satisfied: unidecode in /workspaces/class-nlp-ir/.venv/lib/python3.10/site-packages (1.3.8)\n",
      "Requirement already satisfied: nltk in /workspaces/class-nlp-ir/.venv/lib/python3.10/site-packages (3.9.1)\n",
      "Requirement already satisfied: pandas in /workspaces/class-nlp-ir/.venv/lib/python3.10/site-packages (2.2.3)\n",
      "Requirement already satisfied: numpy in /workspaces/class-nlp-ir/.venv/lib/python3.10/site-packages (1.26.4)\n",
      "Requirement already satisfied: matplotlib in /workspaces/class-nlp-ir/.venv/lib/python3.10/site-packages (3.10.1)\n",
      "Requirement already satisfied: seaborn in /workspaces/class-nlp-ir/.venv/lib/python3.10/site-packages (0.13.2)\n",
      "Requirement already satisfied: scikit-learn in /workspaces/class-nlp-ir/.venv/lib/python3.10/site-packages (1.6.1)\n",
      "Requirement already satisfied: yellowbrick in /workspaces/class-nlp-ir/.venv/lib/python3.10/site-packages (1.5)\n",
      "Requirement already satisfied: setuptools in /workspaces/class-nlp-ir/.venv/lib/python3.10/site-packages (65.5.1)\n",
      "Requirement already satisfied: plotly in /workspaces/class-nlp-ir/.venv/lib/python3.10/site-packages (6.0.1)\n",
      "Requirement already satisfied: nbformat in /workspaces/class-nlp-ir/.venv/lib/python3.10/site-packages (5.10.4)\n",
      "Requirement already satisfied: gensim==4.3.1 in /workspaces/class-nlp-ir/.venv/lib/python3.10/site-packages (4.3.1)\n",
      "Requirement already satisfied: scipy==1.10.1 in /workspaces/class-nlp-ir/.venv/lib/python3.10/site-packages (1.10.1)\n",
      "Requirement already satisfied: smart-open>=1.8.1 in /workspaces/class-nlp-ir/.venv/lib/python3.10/site-packages (from gensim==4.3.1) (7.1.0)\n",
      "Requirement already satisfied: click in /workspaces/class-nlp-ir/.venv/lib/python3.10/site-packages (from nltk) (8.1.8)\n",
      "Requirement already satisfied: joblib in /workspaces/class-nlp-ir/.venv/lib/python3.10/site-packages (from nltk) (1.4.2)\n",
      "Requirement already satisfied: regex>=2021.8.3 in /workspaces/class-nlp-ir/.venv/lib/python3.10/site-packages (from nltk) (2024.11.6)\n",
      "Requirement already satisfied: tqdm in /workspaces/class-nlp-ir/.venv/lib/python3.10/site-packages (from nltk) (4.67.1)\n",
      "Requirement already satisfied: python-dateutil>=2.8.2 in /workspaces/class-nlp-ir/.venv/lib/python3.10/site-packages (from pandas) (2.9.0.post0)\n",
      "Requirement already satisfied: pytz>=2020.1 in /workspaces/class-nlp-ir/.venv/lib/python3.10/site-packages (from pandas) (2025.2)\n",
      "Requirement already satisfied: tzdata>=2022.7 in /workspaces/class-nlp-ir/.venv/lib/python3.10/site-packages (from pandas) (2025.2)\n",
      "Requirement already satisfied: contourpy>=1.0.1 in /workspaces/class-nlp-ir/.venv/lib/python3.10/site-packages (from matplotlib) (1.3.1)\n",
      "Requirement already satisfied: cycler>=0.10 in /workspaces/class-nlp-ir/.venv/lib/python3.10/site-packages (from matplotlib) (0.12.1)\n",
      "Requirement already satisfied: fonttools>=4.22.0 in /workspaces/class-nlp-ir/.venv/lib/python3.10/site-packages (from matplotlib) (4.57.0)\n",
      "Requirement already satisfied: kiwisolver>=1.3.1 in /workspaces/class-nlp-ir/.venv/lib/python3.10/site-packages (from matplotlib) (1.4.8)\n",
      "Requirement already satisfied: packaging>=20.0 in /workspaces/class-nlp-ir/.venv/lib/python3.10/site-packages (from matplotlib) (24.2)\n",
      "Requirement already satisfied: pillow>=8 in /workspaces/class-nlp-ir/.venv/lib/python3.10/site-packages (from matplotlib) (11.1.0)\n",
      "Requirement already satisfied: pyparsing>=2.3.1 in /workspaces/class-nlp-ir/.venv/lib/python3.10/site-packages (from matplotlib) (3.2.3)\n",
      "Requirement already satisfied: threadpoolctl>=3.1.0 in /workspaces/class-nlp-ir/.venv/lib/python3.10/site-packages (from scikit-learn) (3.6.0)\n",
      "Requirement already satisfied: narwhals>=1.15.1 in /workspaces/class-nlp-ir/.venv/lib/python3.10/site-packages (from plotly) (1.33.0)\n",
      "Requirement already satisfied: fastjsonschema>=2.15 in /workspaces/class-nlp-ir/.venv/lib/python3.10/site-packages (from nbformat) (2.21.1)\n",
      "Requirement already satisfied: jsonschema>=2.6 in /workspaces/class-nlp-ir/.venv/lib/python3.10/site-packages (from nbformat) (4.23.0)\n",
      "Requirement already satisfied: jupyter-core!=5.0.*,>=4.12 in /workspaces/class-nlp-ir/.venv/lib/python3.10/site-packages (from nbformat) (5.7.2)\n",
      "Requirement already satisfied: traitlets>=5.1 in /workspaces/class-nlp-ir/.venv/lib/python3.10/site-packages (from nbformat) (5.14.3)\n",
      "Requirement already satisfied: attrs>=22.2.0 in /workspaces/class-nlp-ir/.venv/lib/python3.10/site-packages (from jsonschema>=2.6->nbformat) (25.3.0)\n",
      "Requirement already satisfied: jsonschema-specifications>=2023.03.6 in /workspaces/class-nlp-ir/.venv/lib/python3.10/site-packages (from jsonschema>=2.6->nbformat) (2024.10.1)\n",
      "Requirement already satisfied: referencing>=0.28.4 in /workspaces/class-nlp-ir/.venv/lib/python3.10/site-packages (from jsonschema>=2.6->nbformat) (0.36.2)\n",
      "Requirement already satisfied: rpds-py>=0.7.1 in /workspaces/class-nlp-ir/.venv/lib/python3.10/site-packages (from jsonschema>=2.6->nbformat) (0.24.0)\n",
      "Requirement already satisfied: platformdirs>=2.5 in /workspaces/class-nlp-ir/.venv/lib/python3.10/site-packages (from jupyter-core!=5.0.*,>=4.12->nbformat) (4.3.7)\n",
      "Requirement already satisfied: six>=1.5 in /workspaces/class-nlp-ir/.venv/lib/python3.10/site-packages (from python-dateutil>=2.8.2->pandas) (1.17.0)\n",
      "Requirement already satisfied: wrapt in /workspaces/class-nlp-ir/.venv/lib/python3.10/site-packages (from smart-open>=1.8.1->gensim==4.3.1) (1.17.2)\n",
      "Requirement already satisfied: typing-extensions>=4.4.0 in /workspaces/class-nlp-ir/.venv/lib/python3.10/site-packages (from referencing>=0.28.4->jsonschema>=2.6->nbformat) (4.13.1)\n",
      "Note: you may need to restart the kernel to use updated packages.\n"
     ]
    }
   ],
   "source": [
    "# Install environment dependencies\n",
    "%pip install unidecode nltk pandas numpy matplotlib seaborn scikit-learn yellowbrick setuptools plotly nbformat gensim==4.3.1 scipy==1.10.1"
   ]
  },
  {
   "cell_type": "code",
   "execution_count": 6,
   "id": "004f25ec",
   "metadata": {},
   "outputs": [
    {
     "name": "stderr",
     "output_type": "stream",
     "text": [
      "[nltk_data] Downloading package punkt to /home/vscode/nltk_data...\n",
      "[nltk_data]   Package punkt is already up-to-date!\n"
     ]
    },
    {
     "data": {
      "text/plain": [
       "True"
      ]
     },
     "execution_count": 6,
     "metadata": {},
     "output_type": "execute_result"
    }
   ],
   "source": [
    "import pandas as pd\n",
    "import numpy as np\n",
    "import seaborn as sns\n",
    "import os\n",
    "import nltk\n",
    "from gensim import utils\n",
    "import gensim.models\n",
    "nltk.download('punkt')"
   ]
  },
  {
   "cell_type": "markdown",
   "id": "9acfad42",
   "metadata": {},
   "source": [
    "# Exercícios para entregar\n",
    "\n",
    "Carregue as embeddings indicadas em português para os três exercicios."
   ]
  },
  {
   "cell_type": "code",
   "execution_count": 15,
   "id": "2158a275",
   "metadata": {},
   "outputs": [
    {
     "name": "stdout",
     "output_type": "stream",
     "text": [
      "Archive:  cbow_s100.zip\n",
      "  inflating: cbow_s100.txt           \n"
     ]
    }
   ],
   "source": [
    "#baixando as embeddings do NILC de http://nilc.icmc.usp.br/embeddings\n",
    "! ! [ -f cbow_s100.zip ] && curl http://143.107.183.175:22980/download.php?file=embeddings/word2vec/cbow_s100.zip > cbow_s100.zip\n",
    "! ! [ -f cbow_s100.txt ] &&  unzip -o cbow_s100.zip\n",
    "nomearq = 'cbow_s100.txt'"
   ]
  },
  {
   "cell_type": "code",
   "execution_count": 16,
   "id": "3b9a51c0",
   "metadata": {},
   "outputs": [
    {
     "name": "stdout",
     "output_type": "stream",
     "text": [
      "Carregado:  cbow_s100.txt\n"
     ]
    }
   ],
   "source": [
    "word_vectors = gensim.models.KeyedVectors.load_word2vec_format(nomearq, binary=False)\n",
    "print('Carregado: ',nomearq)"
   ]
  },
  {
   "cell_type": "code",
   "execution_count": 9,
   "id": "2fb7ab6a",
   "metadata": {},
   "outputs": [
    {
     "name": "stdout",
     "output_type": "stream",
     "text": [
      "O vocabulario contém 929606\n"
     ]
    }
   ],
   "source": [
    "# total de palavras e as 10 primeiras\n",
    "words = list(word_vectors.key_to_index)\n",
    "print(f'O vocabulario contém {len(words)}')"
   ]
  },
  {
   "cell_type": "markdown",
   "id": "c04321ed",
   "metadata": {},
   "source": [
    "## Exercício 1\n",
    "\n",
    "A polissemia ocorre quando uma mesma palavra possui mais de um significado. Um exemplo de polissemia é a palavra “manga”, que pode ser parte de vestimenta ou uma fruta.\n",
    "\n",
    "a) Usando a função `most_similar` do Gensim, analise o resultado para a palavra \"manga\". Escolha outra palavra polissêmica que exista no vocabulário e verifique as palavras mais similares."
   ]
  },
  {
   "cell_type": "code",
   "execution_count": null,
   "id": "0afec2c5",
   "metadata": {},
   "outputs": [
    {
     "data": {
      "text/plain": [
       "['riscoa',\n",
       " 'esterilizá',\n",
       " 'sustentável0',\n",
       " 'břežanská',\n",
       " 'lï',\n",
       " 'bítešská',\n",
       " 'sebil',\n",
       " 'vahdeti',\n",
       " 'verdae',\n",
       " 'interompeu',\n",
       " 'quandary',\n",
       " 'katok',\n",
       " 'p$%%@',\n",
       " 'terraem',\n",
       " 'gräfe',\n",
       " 'queze',\n",
       " '富嶽三十六景',\n",
       " \"sing's\",\n",
       " 'easyworld',\n",
       " 'pretendê-la',\n",
       " 'super-protegido',\n",
       " 'contagium',\n",
       " 'melick',\n",
       " 'colhedeiras',\n",
       " 'wiziack',\n",
       " 'ifone',\n",
       " 'elesha',\n",
       " 'sauvagii',\n",
       " 'ogunbiyi',\n",
       " 'lickley',\n",
       " 'piscador',\n",
       " 'tooltips',\n",
       " 'disponibliza',\n",
       " 'bouzidi',\n",
       " 'asarcornis',\n",
       " 'lava-lhe',\n",
       " 'maculirostris',\n",
       " \"emma's\",\n",
       " 'castanotis',\n",
       " 'bunyavírus',\n",
       " 'escrutar-lhe',\n",
       " 'desmensurado',\n",
       " 'purrloin',\n",
       " 'reconcentrar-se',\n",
       " 'forristal',\n",
       " '00b.0.0.0',\n",
       " 'cassiteras',\n",
       " 'semi-secular',\n",
       " 'engarrafá-la',\n",
       " 'naknadno',\n",
       " 'cortejante',\n",
       " 'zhikov',\n",
       " 'cohabitação',\n",
       " 'intensificaros',\n",
       " 'eadulf',\n",
       " 'stonemans',\n",
       " \"l'inquiétude\",\n",
       " 'εχϊ',\n",
       " 'urushi',\n",
       " 'identificar.',\n",
       " 'costurador',\n",
       " 'esgaravatando',\n",
       " 'perder-se-á',\n",
       " 'dastaev',\n",
       " 'marcielle',\n",
       " 'donada',\n",
       " 'interallianz',\n",
       " 'panenioxe',\n",
       " 'hohman',\n",
       " 'plastão',\n",
       " 'karlanna',\n",
       " 'cerzia',\n",
       " 'sedativos-hipnóticos',\n",
       " 'riamarine',\n",
       " 'içaíba',\n",
       " 'deshonesto',\n",
       " 'porânea',\n",
       " 'apertium',\n",
       " 'ledgerwood',\n",
       " 'nohime',\n",
       " 'reuniclus',\n",
       " 'soupçonner',\n",
       " 'qcaiii',\n",
       " 'gurtubay',\n",
       " 'direktive',\n",
       " 'awfui',\n",
       " 'wapd',\n",
       " 'suavissimamente',\n",
       " 'capacidadeadministrativa',\n",
       " 'gepatroj',\n",
       " 'anuviara',\n",
       " 'izlaz',\n",
       " 'monogatarishu',\n",
       " 'bron-bron',\n",
       " 'ofusquei',\n",
       " 'afaguei',\n",
       " 'indispô-la',\n",
       " 'microquimerismo',\n",
       " 'matro',\n",
       " 'sentar-se-ia']"
      ]
     },
     "execution_count": 19,
     "metadata": {},
     "output_type": "execute_result"
    }
   ],
   "source": [
    "# Inspect \"manga\" using the word2vec model most_similar() function\n",
    "print('Palavras mais similares a manga:')\n",
    "print(word_vectors.most_similar('manga', topn=10))"
   ]
  },
  {
   "cell_type": "markdown",
   "id": "58cb0aac",
   "metadata": {},
   "source": [
    "b) O que você observa e qual a sua hipótese para explicar esse comportamento.\n",
    "\n",
    "> Sua análise aqui"
   ]
  },
  {
   "cell_type": "markdown",
   "id": "2e6173c6",
   "metadata": {},
   "source": [
    "## Exercício 2\n",
    "\n",
    "a) Faça o exercício para duas palavras:\n",
    "\n",
    "Escolha uma palavra, um sinônimo e um antônimo da mesma.\n",
    "Calcule a distância euclideana e a similaridade do cosseno entre a palavra e seu sinônimo e a palavra e seu antônimo.\n",
    "\n",
    "\n",
    "\n",
    "\n"
   ]
  },
  {
   "cell_type": "code",
   "execution_count": 11,
   "id": "710953c0",
   "metadata": {},
   "outputs": [],
   "source": [
    "# seu codigo aqui"
   ]
  },
  {
   "cell_type": "markdown",
   "id": "14e8ca11",
   "metadata": {},
   "source": [
    "b) O que você observa e qual a sua hipótese para explicar esse comportamento.\n",
    "\n",
    "> Sua análise aqui"
   ]
  },
  {
   "cell_type": "markdown",
   "id": "76af4e33",
   "metadata": {},
   "source": [
    "## Exercício 3\n",
    "\n",
    "a) Verifique as palavras mais similares em relação às palavras \"enfermeiro\" e \"enfermeira\"."
   ]
  },
  {
   "cell_type": "code",
   "execution_count": 12,
   "id": "3de57cf7",
   "metadata": {},
   "outputs": [],
   "source": [
    "# seu codigo aqui"
   ]
  },
  {
   "cell_type": "markdown",
   "id": "0d02cedb",
   "metadata": {},
   "source": [
    "b) Você observa algum viés? Se sim, qual sua hipótese.\n",
    "\n",
    "\n",
    "> Sua análise aqui\n",
    "\n"
   ]
  }
 ],
 "metadata": {
  "kernelspec": {
   "display_name": ".venv",
   "language": "python",
   "name": "python3"
  },
  "language_info": {
   "codemirror_mode": {
    "name": "ipython",
    "version": 3
   },
   "file_extension": ".py",
   "mimetype": "text/x-python",
   "name": "python",
   "nbconvert_exporter": "python",
   "pygments_lexer": "ipython3",
   "version": "3.10.16"
  }
 },
 "nbformat": 4,
 "nbformat_minor": 5
}
