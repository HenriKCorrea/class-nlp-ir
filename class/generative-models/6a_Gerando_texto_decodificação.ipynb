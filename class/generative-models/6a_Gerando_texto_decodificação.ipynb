{
  "cells": [
    {
      "cell_type": "markdown",
      "metadata": {
        "id": "ejjFgI2X0v8J"
      },
      "source": [
        "Script adaptado a partir de https://huggingface.co/blog/how-to-generate\n"
      ]
    },
    {
      "cell_type": "markdown",
      "metadata": {
        "id": "CeAseDyhWUe_"
      },
      "source": [
        "# Ambiente"
      ]
    },
    {
      "cell_type": "code",
      "execution_count": 7,
      "metadata": {
        "id": "mgDPd3iEOrRQ"
      },
      "outputs": [],
      "source": [
        "import IPython"
      ]
    },
    {
      "cell_type": "code",
      "execution_count": 8,
      "metadata": {
        "colab": {
          "base_uri": "https://localhost:8080/"
        },
        "id": "1sPgSnpPWWTs",
        "outputId": "7fcb8cc9-72f1-418a-bc6f-e18b3b0dab12"
      },
      "outputs": [
        {
          "name": "stdout",
          "output_type": "stream",
          "text": [
            "Requirement already satisfied: transformers in /workspaces/class-nlp-ir/.venv/lib/python3.10/site-packages (4.51.3)\n",
            "Requirement already satisfied: tensorflow in /workspaces/class-nlp-ir/.venv/lib/python3.10/site-packages (2.19.0)\n",
            "Requirement already satisfied: tf-keras in /workspaces/class-nlp-ir/.venv/lib/python3.10/site-packages (2.19.0)\n",
            "Requirement already satisfied: huggingface_hub[hf_xet] in /workspaces/class-nlp-ir/.venv/lib/python3.10/site-packages (0.30.2)\n",
            "Requirement already satisfied: filelock in /workspaces/class-nlp-ir/.venv/lib/python3.10/site-packages (from transformers) (3.18.0)\n",
            "Requirement already satisfied: numpy>=1.17 in /workspaces/class-nlp-ir/.venv/lib/python3.10/site-packages (from transformers) (1.26.4)\n",
            "Requirement already satisfied: packaging>=20.0 in /workspaces/class-nlp-ir/.venv/lib/python3.10/site-packages (from transformers) (24.2)\n",
            "Requirement already satisfied: pyyaml>=5.1 in /workspaces/class-nlp-ir/.venv/lib/python3.10/site-packages (from transformers) (6.0.2)\n",
            "Requirement already satisfied: regex!=2019.12.17 in /workspaces/class-nlp-ir/.venv/lib/python3.10/site-packages (from transformers) (2024.11.6)\n",
            "Requirement already satisfied: requests in /workspaces/class-nlp-ir/.venv/lib/python3.10/site-packages (from transformers) (2.32.3)\n",
            "Requirement already satisfied: tokenizers<0.22,>=0.21 in /workspaces/class-nlp-ir/.venv/lib/python3.10/site-packages (from transformers) (0.21.1)\n",
            "Requirement already satisfied: safetensors>=0.4.3 in /workspaces/class-nlp-ir/.venv/lib/python3.10/site-packages (from transformers) (0.5.3)\n",
            "Requirement already satisfied: tqdm>=4.27 in /workspaces/class-nlp-ir/.venv/lib/python3.10/site-packages (from transformers) (4.67.1)\n",
            "Requirement already satisfied: absl-py>=1.0.0 in /workspaces/class-nlp-ir/.venv/lib/python3.10/site-packages (from tensorflow) (2.2.2)\n",
            "Requirement already satisfied: astunparse>=1.6.0 in /workspaces/class-nlp-ir/.venv/lib/python3.10/site-packages (from tensorflow) (1.6.3)\n",
            "Requirement already satisfied: flatbuffers>=24.3.25 in /workspaces/class-nlp-ir/.venv/lib/python3.10/site-packages (from tensorflow) (25.2.10)\n",
            "Requirement already satisfied: gast!=0.5.0,!=0.5.1,!=0.5.2,>=0.2.1 in /workspaces/class-nlp-ir/.venv/lib/python3.10/site-packages (from tensorflow) (0.6.0)\n",
            "Requirement already satisfied: google-pasta>=0.1.1 in /workspaces/class-nlp-ir/.venv/lib/python3.10/site-packages (from tensorflow) (0.2.0)\n",
            "Requirement already satisfied: libclang>=13.0.0 in /workspaces/class-nlp-ir/.venv/lib/python3.10/site-packages (from tensorflow) (18.1.1)\n",
            "Requirement already satisfied: opt-einsum>=2.3.2 in /workspaces/class-nlp-ir/.venv/lib/python3.10/site-packages (from tensorflow) (3.4.0)\n",
            "Requirement already satisfied: protobuf!=4.21.0,!=4.21.1,!=4.21.2,!=4.21.3,!=4.21.4,!=4.21.5,<6.0.0dev,>=3.20.3 in /workspaces/class-nlp-ir/.venv/lib/python3.10/site-packages (from tensorflow) (5.29.4)\n",
            "Requirement already satisfied: setuptools in /workspaces/class-nlp-ir/.venv/lib/python3.10/site-packages (from tensorflow) (65.5.1)\n",
            "Requirement already satisfied: six>=1.12.0 in /workspaces/class-nlp-ir/.venv/lib/python3.10/site-packages (from tensorflow) (1.17.0)\n",
            "Requirement already satisfied: termcolor>=1.1.0 in /workspaces/class-nlp-ir/.venv/lib/python3.10/site-packages (from tensorflow) (3.0.1)\n",
            "Requirement already satisfied: typing-extensions>=3.6.6 in /workspaces/class-nlp-ir/.venv/lib/python3.10/site-packages (from tensorflow) (4.13.2)\n",
            "Requirement already satisfied: wrapt>=1.11.0 in /workspaces/class-nlp-ir/.venv/lib/python3.10/site-packages (from tensorflow) (1.17.2)\n",
            "Requirement already satisfied: grpcio<2.0,>=1.24.3 in /workspaces/class-nlp-ir/.venv/lib/python3.10/site-packages (from tensorflow) (1.71.0)\n",
            "Requirement already satisfied: tensorboard~=2.19.0 in /workspaces/class-nlp-ir/.venv/lib/python3.10/site-packages (from tensorflow) (2.19.0)\n",
            "Requirement already satisfied: keras>=3.5.0 in /workspaces/class-nlp-ir/.venv/lib/python3.10/site-packages (from tensorflow) (3.9.2)\n",
            "Requirement already satisfied: h5py>=3.11.0 in /workspaces/class-nlp-ir/.venv/lib/python3.10/site-packages (from tensorflow) (3.13.0)\n",
            "Requirement already satisfied: ml-dtypes<1.0.0,>=0.5.1 in /workspaces/class-nlp-ir/.venv/lib/python3.10/site-packages (from tensorflow) (0.5.1)\n",
            "Requirement already satisfied: tensorflow-io-gcs-filesystem>=0.23.1 in /workspaces/class-nlp-ir/.venv/lib/python3.10/site-packages (from tensorflow) (0.37.1)\n",
            "Requirement already satisfied: fsspec>=2023.5.0 in /workspaces/class-nlp-ir/.venv/lib/python3.10/site-packages (from huggingface_hub[hf_xet]) (2025.3.2)\n",
            "Collecting hf-xet>=0.1.4 (from huggingface_hub[hf_xet])\n",
            "  Downloading hf_xet-1.0.4-cp37-abi3-manylinux_2_17_x86_64.manylinux2014_x86_64.whl.metadata (494 bytes)\n",
            "Requirement already satisfied: wheel<1.0,>=0.23.0 in /workspaces/class-nlp-ir/.venv/lib/python3.10/site-packages (from astunparse>=1.6.0->tensorflow) (0.45.1)\n",
            "Requirement already satisfied: rich in /workspaces/class-nlp-ir/.venv/lib/python3.10/site-packages (from keras>=3.5.0->tensorflow) (14.0.0)\n",
            "Requirement already satisfied: namex in /workspaces/class-nlp-ir/.venv/lib/python3.10/site-packages (from keras>=3.5.0->tensorflow) (0.0.9)\n",
            "Requirement already satisfied: optree in /workspaces/class-nlp-ir/.venv/lib/python3.10/site-packages (from keras>=3.5.0->tensorflow) (0.15.0)\n",
            "Requirement already satisfied: charset-normalizer<4,>=2 in /workspaces/class-nlp-ir/.venv/lib/python3.10/site-packages (from requests->transformers) (3.4.1)\n",
            "Requirement already satisfied: idna<4,>=2.5 in /workspaces/class-nlp-ir/.venv/lib/python3.10/site-packages (from requests->transformers) (3.10)\n",
            "Requirement already satisfied: urllib3<3,>=1.21.1 in /workspaces/class-nlp-ir/.venv/lib/python3.10/site-packages (from requests->transformers) (2.4.0)\n",
            "Requirement already satisfied: certifi>=2017.4.17 in /workspaces/class-nlp-ir/.venv/lib/python3.10/site-packages (from requests->transformers) (2025.1.31)\n",
            "Requirement already satisfied: markdown>=2.6.8 in /workspaces/class-nlp-ir/.venv/lib/python3.10/site-packages (from tensorboard~=2.19.0->tensorflow) (3.8)\n",
            "Requirement already satisfied: tensorboard-data-server<0.8.0,>=0.7.0 in /workspaces/class-nlp-ir/.venv/lib/python3.10/site-packages (from tensorboard~=2.19.0->tensorflow) (0.7.2)\n",
            "Requirement already satisfied: werkzeug>=1.0.1 in /workspaces/class-nlp-ir/.venv/lib/python3.10/site-packages (from tensorboard~=2.19.0->tensorflow) (3.1.3)\n",
            "Requirement already satisfied: MarkupSafe>=2.1.1 in /workspaces/class-nlp-ir/.venv/lib/python3.10/site-packages (from werkzeug>=1.0.1->tensorboard~=2.19.0->tensorflow) (3.0.2)\n",
            "Requirement already satisfied: markdown-it-py>=2.2.0 in /workspaces/class-nlp-ir/.venv/lib/python3.10/site-packages (from rich->keras>=3.5.0->tensorflow) (3.0.0)\n",
            "Requirement already satisfied: pygments<3.0.0,>=2.13.0 in /workspaces/class-nlp-ir/.venv/lib/python3.10/site-packages (from rich->keras>=3.5.0->tensorflow) (2.19.1)\n",
            "Requirement already satisfied: mdurl~=0.1 in /workspaces/class-nlp-ir/.venv/lib/python3.10/site-packages (from markdown-it-py>=2.2.0->rich->keras>=3.5.0->tensorflow) (0.1.2)\n",
            "Downloading hf_xet-1.0.4-cp37-abi3-manylinux_2_17_x86_64.manylinux2014_x86_64.whl (54.0 MB)\n",
            "\u001b[2K   \u001b[90m━━━━━━━━━━━━━━━━━━━━━━━━━━━━━━━━━━━━━━━━\u001b[0m \u001b[32m54.0/54.0 MB\u001b[0m \u001b[31m2.0 MB/s\u001b[0m eta \u001b[36m0:00:00\u001b[0m00:01\u001b[0m00:01\u001b[0mm\n",
            "\u001b[?25hInstalling collected packages: hf-xet\n",
            "Successfully installed hf-xet-1.0.4\n",
            "Note: you may need to restart the kernel to use updated packages.\n"
          ]
        }
      ],
      "source": [
        "%pip install transformers tensorflow tf-keras huggingface_hub[hf_xet]"
      ]
    },
    {
      "cell_type": "markdown",
      "metadata": {
        "id": "Vp3XPuaTu9jl"
      },
      "source": [
        "\n",
        "# Como gerar texto usando diferentes métodos de decodificação para geração de linguagem com Transformers"
      ]
    },
    {
      "cell_type": "markdown",
      "metadata": {
        "id": "KxLvv6UaPa33"
      },
      "source": [
        "Além da arquitetura aprimorada do `Transformer` e da quantidade massiva de dados de treinamento não supervisionados, **métodos de decodificação** também desempenham um papel importante na rápida evolução que presenciamos em PLN.\n",
        "\n",
        "As funcionalidades a seguir podem ser usadas para geração de linguagem de forma **auto-regressiva**.\n"
      ]
    },
    {
      "cell_type": "markdown",
      "metadata": {
        "id": "Si4GyYhOQMzi"
      },
      "source": [
        "Usaremos GPT2 no Tensorflow para demonstração, mas a API é a mesma para PyTorch (sem TF na frente)."
      ]
    },
    {
      "cell_type": "markdown",
      "metadata": {
        "id": "yMVM65HawOdF"
      },
      "source": [
        "Mais detalhes sobre os parâmetros que podem ser usados na geração do texto podem ser encontrados [aqui](https://huggingface.co/docs/transformers/v4.27.2/en/main_classes/text_generation#transformers.GenerationConfig) (clique em expandir parâmetros)."
      ]
    },
    {
      "cell_type": "code",
      "execution_count": 9,
      "metadata": {
        "colab": {
          "base_uri": "https://localhost:8080/",
          "height": 437,
          "referenced_widgets": [
            "df112c52807445c5bd473e96c935e292",
            "9457d908b25043a188ad4b6d69881be3",
            "1305234f460a450ca009eb4cc4f7e650",
            "8948172fc2884cafb132f308e2aa0dd8",
            "d6a2b79a3f084bd290a359f03fad2c05",
            "3ecb9f4f65b6432a85701ecac1b46bf8",
            "05837c6291a5461fa44a3f04c895f9e3",
            "6b124662609b4beeb90ce030bae84de4",
            "652a6ea4ff444d01a7402badf5527457",
            "5662f9ab52024d53b08c43f6c8247902",
            "4d2d8cf39bb54394888e12bd21e24432",
            "4ffe1b7287104fa19cd263a1a745f2c0",
            "24c627d4aaed4395ba66e026b95e413a",
            "eb65d580fa3943e9bd39fd1343ef59cb",
            "c1a38c5fc0eb425cbf9d943151c3243b",
            "c5da4705ed0f4c5fac411a270a826ce6",
            "ce067dc2eae6479b8ee5e4a2382e5830",
            "4dfa61c9f5a644a6b51c5e7647011b5a",
            "d0469e13b36a407c8580a0dff8ca77da",
            "c2f23540e12f4dfea90d1b1260b37218",
            "77e275b17e2146649def9b062a4893e6",
            "840a3712e82841d4b8e6268d43e371f5",
            "10e080248d9649f583108c1e71000dab",
            "4a6cec3d50ec494b83131d2d519f0cdd",
            "0b64221d94254917939d49f1b53de8f4",
            "d4bf8253dd73435682ed8cb21b703cef",
            "62ea08d5dddd4cfc8c62dd94f8d128f2",
            "31e71096c8de414eb1c4c3cec785da9b",
            "5cfe34ba91ec47ba87edd3b171675ed9",
            "156e5c3693bb4686b85f4305479c9f3b",
            "8a39cb31c763472ea950c1b27fd1c9d0",
            "0e53da5ce25847d989c34b5e042f2e51",
            "b3aca99a9d3f42eaba7b5ac3592b7fd5",
            "3e46f595f0794bca9f40a0b287697aac",
            "aacc2f1e3cc240e29fa9052d5a7155c1",
            "f7971faf4ef441a4a63ff0f72a78bf2e",
            "f60ae653f72749b2812c61683a9b2a06",
            "78fdd711f3e2440bb9fa8924c3fc6afa",
            "9e4e6532bb9e4e60bef7259607dee92c",
            "c669e621d76e467f997c13dc4fade292",
            "b6f66ade40e6450dbb3338aec38e4f73",
            "643e85443713451aaf121b9f03abba1c",
            "4c1747be06324607adccc1427188134c",
            "0c63f3e82fe048d2b00d7eb76a460b18",
            "fbe94eef41a0490a84f7885a9a3fe88c",
            "eba17078122c4d688fc378ed7aa83298",
            "83642cd43a5341638a4bd23501e37d28",
            "f8cb753aa8ba4cdf96855d19fbf65ebb",
            "eee69b91355a4c47932f1c895bd9fcb8",
            "88dccf9d743d450083623ef3d82a32ae",
            "cda8a3081df74c6d8dfefffbd4f77420",
            "1863be21f6ff468d80e44777c85e7523",
            "d143ed84f85941e0ae143e46acedd305",
            "3601e8f830b541ebb226c4b4654c6c4f",
            "42fcbda53e0e44d39e42d5d6ae64dc7f",
            "d527b7a57e5a424fb87c8a617c2bbd7b",
            "30c172384d334b739033ee8b93ee4214",
            "33d2439c5652459d9025fa5acd2007e2",
            "e31bb579475c4313958f97d1f69c73aa",
            "a2886ca0daf5431d978eec9c598bf7c9",
            "84e3b8f29830463b937930dc165850f4",
            "7ae7b40d11c143e59344b0126260d9e2",
            "41860376d8034c27b39e0f2aec8d828e",
            "d9fc2df711aa4d32bba9ed17d1e3064f",
            "e3764bf5e7984de4b4f2975150a4696c",
            "0855e826e6b341c3aa2faa7a430024ed"
          ]
        },
        "id": "ue2kOQhXTAMU",
        "outputId": "1d2f2a82-d34a-4499-824b-67cd23917f4e"
      },
      "outputs": [
        {
          "name": "stderr",
          "output_type": "stream",
          "text": [
            "Xet Storage is enabled for this repo, but the 'hf_xet' package is not installed. Falling back to regular HTTP download. For better performance, install the package with: `pip install huggingface_hub[hf_xet]` or `pip install hf_xet`\n",
            "2025-04-25 13:17:27.351543: E external/local_xla/xla/stream_executor/cuda/cuda_platform.cc:51] failed call to cuInit: INTERNAL: CUDA error: Failed call to cuInit: UNKNOWN ERROR (303)\n",
            "All PyTorch model weights were used when initializing TFGPT2LMHeadModel.\n",
            "\n",
            "All the weights of TFGPT2LMHeadModel were initialized from the PyTorch model.\n",
            "If your task is similar to the task the model of the checkpoint was trained on, you can already use TFGPT2LMHeadModel for predictions without further training.\n"
          ]
        }
      ],
      "source": [
        "import tensorflow as tf\n",
        "from transformers import TFGPT2LMHeadModel, GPT2Tokenizer\n",
        "\n",
        "tokenizer = GPT2Tokenizer.from_pretrained(\"gpt2\")\n",
        "\n",
        "# add the EOS token as PAD token to avoid warnings\n",
        "model = TFGPT2LMHeadModel.from_pretrained(\"gpt2\", pad_token_id=tokenizer.eos_token_id)"
      ]
    },
    {
      "cell_type": "markdown",
      "metadata": {
        "id": "a8Y7cgu9ohXP"
      },
      "source": [
        "### **Greedy Search**\n",
        "\n",
        "A *greedy search* (pesquisa gulosa) simplesmente seleciona a palavra com a maior probabilidade como sua próxima palavra. O esboço a seguir mostra uma pesquisa gulosa.\n",
        "\n",
        "![Greedy Search](https://raw.githubusercontent.com/patrickvonplaten/scientific_images/master/greedy_search.png)\n",
        "\n",
        "\n",
        "Começando com a palavra \"The\", o algoritmo escolhe de forma gulosa a próxima palavra de maior probabilidade \"nice\" e assim por diante, de modo que a sequência de palavras gerada final seja {\"The\", \"nice\", \"woman\"} tendo uma probabilidade geral de $0.5 \\times 0.4 = 0.2$.\n",
        "\n",
        "A seguir iremos gerar sequências de palavras usando GPT2 no contexto {\"I\", \"enjoy\", \"walking\", \"with\", \"my\", \"cute\", \"dog\"}. Vamos ver como a busca gulosa pode ser usada com a bilbioteca `transformers` da seguinte forma:\n",
        "\n"
      ]
    },
    {
      "cell_type": "code",
      "execution_count": 10,
      "metadata": {
        "colab": {
          "base_uri": "https://localhost:8080/"
        },
        "id": "OWLd_J6lXz_t",
        "outputId": "04b99db2-fe84-4102-da8f-217b7cf7c63a"
      },
      "outputs": [
        {
          "name": "stdout",
          "output_type": "stream",
          "text": [
            "Output:\n",
            "----------------------------------------------------------------------------------------------------\n",
            "I enjoy walking with my cute dog, but I'm not sure if I'll ever be able to walk with my dog. I'm not sure if I'll ever be able to walk with my dog.\n",
            "\n",
            "I'm not sure if I'll\n"
          ]
        }
      ],
      "source": [
        "# condifica o contexto que iremos utilizar:\n",
        "input_ids = tokenizer.encode('I enjoy walking with my cute dog', return_tensors='tf')\n",
        "\n",
        "# gera o texto até o tamanho máximo (inclui o tamamho do contexto)\n",
        "greedy_output = model.generate(input_ids, max_length=50)\n",
        "\n",
        "print(\"Output:\\n\" + 100 * '-')\n",
        "print(tokenizer.decode(greedy_output[0], skip_special_tokens=True))"
      ]
    },
    {
      "cell_type": "markdown",
      "metadata": {
        "id": "xVjTWJD6iqcX"
      },
      "source": [
        "As palavras geradas seguindo o contexto são razoáveis, mas o modelo rapidamente começa a se repetir! Este é um problema muito comum na geração de linguagem em geral.\n",
        "\n",
        "A principal desvantagem da pesquisa gulosa é que ela perde palavras de alta probabilidade escondidas atrás de uma palavra de baixa probabilidade, como pode ser visto na figura exemplo inicial:\n",
        "\n",
        "A palavra \"has\" com sua alta probabilidade condicional de 0,9 está escondida atrás da palavra \"dog\", que tem apenas a segunda maior probabilidade condicional, de modo que a pesquisa gulosa perde a sequência de palavras \"The\", \"dog\", \"has\".\n",
        "\n",
        "Vamos tentar atenuar isso com o *Beam Search* (busca por feixes)."
      ]
    },
    {
      "cell_type": "markdown",
      "metadata": {
        "id": "g8DnXZ1WiuNd"
      },
      "source": [
        "### **Beam search**\n",
        "\n",
        "*Beam Search* reduz o risco de perder sequências de palavras de alta probabilidade ocultas, mantendo o mais provável `num_beams` de hipóteses em cada passo tentando escolher a hipótese que tem a probabilidade geral mais alta. Vamos ilustrar com `num_beams=2`:\n",
        "\n",
        "![Beam search](https://raw.githubusercontent.com/patrickvonplaten/scientific_images/master/beam_search.png)\n",
        "\n",
        "No intervalo de tempo $1$, além da hipótese mais provável \"The\", \"nice\", a pesquisa de feixe também rastreia a segunda hipótese mais provável \"The\", \"dog\". No intervalo de tempo $2$, a pesquisa de feixe descobre que a sequência de palavras \"The\", \"dog\", \"has\" tem $0.36$ uma probabilidade maior do que \"The\", \"nice\", \"woman\", que tem $0.2$. Assim, ele encontrou a sequência de palavras mais provável do exemplo."
      ]
    },
    {
      "cell_type": "markdown",
      "metadata": {
        "id": "aNR4hfFHnrtF"
      },
      "source": [
        "Vamos ver como *beam search* pode ser usada com `transformers`. Definimos `num_beams > 1` e `early_stopping=True` para que a geração seja concluída assim que houver `num_beams` candidatos completos."
      ]
    },
    {
      "cell_type": "code",
      "execution_count": 11,
      "metadata": {
        "colab": {
          "base_uri": "https://localhost:8080/"
        },
        "id": "R1R5kx30Ynej",
        "outputId": "1c32728a-a591-4e84-d3c5-71afe3d5a158"
      },
      "outputs": [
        {
          "name": "stdout",
          "output_type": "stream",
          "text": [
            "Output:\n",
            "----------------------------------------------------------------------------------------------------\n",
            "I enjoy walking with my cute dog, but I'm not sure if I'll ever be able to walk with him again.\n",
            "\n",
            "I'm not sure if I'll ever be able to walk with him again. I'm not sure if I'll\n"
          ]
        }
      ],
      "source": [
        "# beam search com early_stopping\n",
        "beam_output = model.generate(\n",
        "    input_ids,\n",
        "    max_length=50,\n",
        "    # max_new_tokens = 50,\n",
        "    num_beams=5, # 1 significa sem beam search\n",
        "    early_stopping=True,\n",
        ")\n",
        "\n",
        "print(\"Output:\\n\" + 100 * '-')\n",
        "print(tokenizer.decode(beam_output[0], skip_special_tokens=True))"
      ]
    },
    {
      "cell_type": "markdown",
      "metadata": {
        "id": "87sLKuOu4qId"
      },
      "source": [
        "A saída ainda inclui repetições das mesmas sequências de palavras.\n",
        "Uma solução simples é introduzir penalidades de *n-gramas*, conforme proposto por [Paulus et al. (2017)](https://arxiv.org/abs/1705.04304) e [Klein et al. (2017)](https://arxiv.org/abs/1701.02810). Usando penalidade de *2-gramas* garante que nenhum *2-grama* apareça duas vezes.\n",
        "\n"
      ]
    },
    {
      "cell_type": "code",
      "execution_count": 12,
      "metadata": {
        "colab": {
          "base_uri": "https://localhost:8080/"
        },
        "id": "jy3iVJgfnkMi",
        "outputId": "f717662c-d605-401b-9c1a-45bc1ee07ac6"
      },
      "outputs": [
        {
          "name": "stdout",
          "output_type": "stream",
          "text": [
            "Output:\n",
            "----------------------------------------------------------------------------------------------------\n",
            "I enjoy walking with my cute dog, but I'm not sure if I'll ever be able to walk with him again.\n",
            "\n",
            "I've been thinking about this for a while now, and I think it's time for me to take a break\n"
          ]
        }
      ],
      "source": [
        "# usando no_repeat_ngram_size\n",
        "beam_output = model.generate(\n",
        "    input_ids,\n",
        "    max_length=50,\n",
        "    num_beams=5,\n",
        "    no_repeat_ngram_size=2, # se > 0, todos os ngrams deste tamanho somente podem ocorrer uma vez .\n",
        "    early_stopping=True\n",
        ")\n",
        "\n",
        "print(\"Output:\\n\" + 100 * '-')\n",
        "print(tokenizer.decode(beam_output[0], skip_special_tokens=True))"
      ]
    },
    {
      "cell_type": "markdown",
      "metadata": {
        "id": "SLgFfKF7_1wt"
      },
      "source": [
        "Podemos ver que a repetição não aparece mais. No entanto, as penalidades de *n-gram* devem ser usadas com cuidado. Por exemplo, gerando um texto sobre a cidade de *São Paulo* o nome da cidade apareceria apenas uma vez em todo o texto!\n",
        "\n",
        "Outra característica importante sobre *beam search* é que podemos comparar as sequências geradas e escolher o \"feixe\" (caminho da sequência) gerado que melhor se adapta ao nosso propósito.\n",
        "\n",
        "Em `transformers`, nós simplesmente definimos o parâmetro `num_return_sequences` e ele vai retornar as sequências de maior pontuação até esse limite. Certifique-se de que `num_return_sequences <= num_beams` (pois no minimo precisa ser a quantidade de \"feixes\" que vamos gerar na busca)."
      ]
    },
    {
      "cell_type": "code",
      "execution_count": 13,
      "metadata": {
        "colab": {
          "base_uri": "https://localhost:8080/"
        },
        "id": "5ClO3VphqGp6",
        "outputId": "7dddaf22-4619-4dd8-b16c-b96d6f2aecd4"
      },
      "outputs": [
        {
          "name": "stdout",
          "output_type": "stream",
          "text": [
            "----------------------------------------------------------------------------------------------------\n",
            "0: I enjoy walking with my cute dog, but I'm not sure if I'll ever be able to walk with him again.\n",
            "\n",
            "I've been doing this for a few years now, and I've never had a problem with it. I've\n",
            "----------------------------------------------------------------------------------------------------\n",
            "1: I enjoy walking with my cute dog, but I'm not sure if I'll ever be able to walk with him again.\n",
            "\n",
            "I've been doing this for a few years now, and I've never had a problem with it. It's\n",
            "----------------------------------------------------------------------------------------------------\n",
            "2: I enjoy walking with my cute dog, but I'm not sure if I'll ever be able to walk with him again.\n",
            "\n",
            "I've been doing this for a few years now, and I've never had a problem with it. I'm\n",
            "----------------------------------------------------------------------------------------------------\n",
            "3: I enjoy walking with my cute dog, but I'm not sure if I'll ever be able to walk with him again.\n",
            "\n",
            "I've been doing this for a few years now, and I've never had a problem with my dog. I\n"
          ]
        }
      ],
      "source": [
        "# usando return_num_sequences > 1\n",
        "beam_outputs = model.generate(\n",
        "    input_ids,\n",
        "    max_length=50,\n",
        "    num_beams=5,\n",
        "    no_repeat_ngram_size=3,\n",
        "    num_return_sequences=4,\n",
        "    early_stopping=True\n",
        ")\n",
        "\n",
        "for i, beam_output in enumerate(beam_outputs):\n",
        "    print(100 * '-')\n",
        "    print(\"{}: {}\".format(i, tokenizer.decode(beam_output, skip_special_tokens=True)))"
      ]
    },
    {
      "cell_type": "markdown",
      "metadata": {
        "id": "aQ1ssr50CREH"
      },
      "source": [
        "Como pode ser visto, as sequências são apenas marginalmente diferentes umas das outras - o que não deve ser muito surpreendente quando se usa poucos feixes (`num_beams`).\n",
        "\n",
        "Na geração aberta (*open-ended generation*), algumas razões foram apresentadas recentemente porque a busca de feixe pode não ser a melhor opção possível:\n",
        "\n",
        "- *Beam search* pode funcionar muito bem em tarefas onde o comprimento da geração desejada é mais ou menos previsível, como na tradução automática ou no sumarização - consulte [Murray et al. (2018)](https://arxiv.org/abs/1808.10006) e [Yang et al. (2018)](https://arxiv.org/abs/1808.09582). Mas este não é o caso da geração *open-ended*, onde o comprimento de saída desejado pode variar muito, por exemplo diálogo e geração de histórias.\n",
        "\n",
        "- Vimos que *beam search* sofre muito com a geração repetitiva. Isso é difícil de controlar com *n-gram*- ou outras penalidades na geração de histórias, pois encontrar um bom equilíbrio entre forçar a não-repetição e repetir ciclos de *n-grams* idênticos requer muito ajuste fino.\n",
        "\n",
        "- Conforme argumentado em [Ari Holtzman et al. (2019)](https://arxiv.org/abs/1904.09751), a linguagem humana de alta qualidade não segue uma distribuição de próximas palavras de alta probabilidade. Em outras palavras, como humanos, queremos que o texto gerado nos surpreenda e não seja chato/previsível. Os autores mostram isso traçando a probabilidade que um modelo daria ao texto humano versus o que o beam search faz.\n",
        "\n",
        "![alt text](https://blog.fastforwardlabs.com/images/2019/05/Screen_Shot_2019_05_08_at_3_06_36_PM-1557342561886.png)\n",
        "\n",
        "\n",
        "Então, vamos deixar de ser chatos e introduzir um pouco de aleatoriedade 🤪."
      ]
    },
    {
      "cell_type": "markdown",
      "metadata": {
        "id": "DNmxRxV_J7WC"
      },
      "source": [
        "### **Sampling**\n",
        "Em sua forma mais básica, amostragem (*sampling*) significa escolher aleatoriamente a próxima palavra $w_t$ de acordo com sua distribuição de probabilidade condicional:\n",
        "\n",
        "$$w_t \\sim P(w|w_{1:t-1})$$\n",
        "\n",
        "Tomando o exemplo da primeira figura, o gráfico a seguir visualiza a geração de linguagem durante a amostragem.\n",
        "\n",
        "![vanilla_sampling](https://raw.githubusercontent.com/patrickvonplaten/scientific_images/master/sampling_search.png)\n",
        "\n",
        "Podemos ver que a geração de linguagem usando amostragem não é mais *determinística*. A palavra\n",
        "\"car\" é amostrada da distribuição de probabilidade condicional $P(w | \"The\")$, seguido por amostragem \"drives\" de P(w | \"The\", \"car\"). O modelo nao vai selecionar probabilidades muito proximas de zero.\n",
        "\n",
        "Na biblioteca `transformers`, configuramos `do_sample=True` e desativamos a amostragem *Top-K* (mais sobre isso mais tarde) via `top_k=0`. Definimos `random_seed=0` para fins de reprodutibilidade."
      ]
    },
    {
      "cell_type": "code",
      "execution_count": 14,
      "metadata": {
        "colab": {
          "base_uri": "https://localhost:8080/",
          "height": 46
        },
        "id": "ekNYB87tLYr-",
        "outputId": "1ebcddce-2b0e-48e9-f0f9-69f8938dad45"
      },
      "outputs": [
        {
          "data": {
            "text/markdown": [
              "I enjoy walking with my cute dog"
            ],
            "text/plain": [
              "<IPython.core.display.Markdown object>"
            ]
          },
          "execution_count": 14,
          "metadata": {},
          "output_type": "execute_result"
        }
      ],
      "source": [
        "# lembrando a sequencia de entrada que usamos:\n",
        "IPython.display.Markdown(tokenizer.decode(input_ids.numpy()[0]))"
      ]
    },
    {
      "cell_type": "code",
      "execution_count": 15,
      "metadata": {
        "colab": {
          "base_uri": "https://localhost:8080/",
          "height": 98
        },
        "id": "aRAz4D-Ks0_4",
        "outputId": "618c527c-ef09-43ed-ed44-6f4797543e89"
      },
      "outputs": [
        {
          "name": "stdout",
          "output_type": "stream",
          "text": [
            "Output:\n",
            "----------------------------------------------------------------------------------------------------\n"
          ]
        },
        {
          "data": {
            "text/markdown": [
              "I enjoy walking with my cute dog and never seem to get nervous until it turns into battery unfrosted. (Laughs) Go ahead with the cover and bring it on. \"3 Light Doppelgangers\" by AFOB\n",
              "\n",
              "…\n"
            ],
            "text/plain": [
              "<IPython.core.display.Markdown object>"
            ]
          },
          "execution_count": 15,
          "metadata": {},
          "output_type": "execute_result"
        }
      ],
      "source": [
        "# seed para reproduzir resultados de mais de uma execução\n",
        "tf.random.set_seed(0)\n",
        "\n",
        "# ativa sampling e desativa  top_k (top_k=0)\n",
        "sample_output = model.generate(\n",
        "    input_ids,\n",
        "    do_sample=True,\n",
        "    max_length=50,\n",
        "    top_k=0\n",
        ")\n",
        "\n",
        "print(\"Output:\\n\" + 100 * '-')\n",
        "IPython.display.Markdown(tokenizer.decode(sample_output[0], skip_special_tokens=True))"
      ]
    },
    {
      "cell_type": "markdown",
      "metadata": {
        "id": "EBpfKMXQXS6T"
      },
      "source": [
        "O texto parece bom, mas não é muito coerente. Esse é o grande problema ao amostrar sequências de palavras: os modelos geralmente geram passagens incoerentes [Ari Holtzman et al. (2019)](https://arxiv.org/abs/1904.09751).\n",
        "\n",
        "Um truque é tornar a distribuição $P(w|w_{1:t-1})$ mais nítida (aumenta-se a probabilidade de palavras com alta probabilidade e diminui-se de palavras com baixa probabilidade), o que se denomina diminuir a \"temperatura\" do [softmax](https://en.wikipedia.org/wiki/Softmax_function#Smooth_arg_max).\n",
        "\n",
        "Uma ilustração da aplicação de temperatura ao nosso exemplo acima:\n",
        "\n",
        "![top_p_sampling](https://github.com/patrickvonplaten/scientific_images/blob/master/sampling_search_with_temp.png?raw=true)\n",
        "\n",
        "A distribuição condicional da próxima palavra do passo $t=1$ torna-se muito mais nítida, deixando quase nenhuma chance para a palavra \"car\" ser selecionada.\n",
        "\n",
        "\n"
      ]
    },
    {
      "cell_type": "markdown",
      "metadata": {
        "id": "rzF9JGrS1RFJ"
      },
      "source": [
        "De forma geral, sobre temperatura:\n",
        "\n",
        "- temperaturas menores: produzem um texto mais conservador, pois dá destaque a palavras prováveis\n",
        "\n",
        "- temperaturas maiores: texto mais diverso, pois vai utilizar também palavras com baixas probabilidades, mas não tão baixas\n"
      ]
    },
    {
      "cell_type": "code",
      "execution_count": 16,
      "metadata": {
        "colab": {
          "base_uri": "https://localhost:8080/",
          "height": 98
        },
        "id": "WgJredc-0j0Z",
        "outputId": "7f080069-c27a-45bd-a5b7-f4cd7fd54fe6"
      },
      "outputs": [
        {
          "name": "stdout",
          "output_type": "stream",
          "text": [
            "Output:\n",
            "----------------------------------------------------------------------------------------------------\n"
          ]
        },
        {
          "data": {
            "text/markdown": [
              "I enjoy walking with my cute dog. I've always been an avid dog lover. My favorite type of dog is one that has been trained to do many things. I do not have any special preferences for particular breeds. I don't think I have"
            ],
            "text/plain": [
              "<IPython.core.display.Markdown object>"
            ]
          },
          "execution_count": 16,
          "metadata": {},
          "output_type": "execute_result"
        }
      ],
      "source": [
        "tf.random.set_seed(0)\n",
        "\n",
        "# usa temperatura para diminuir a sensibilidade a candidatos com probabilidades mais baixas\n",
        "sample_output = model.generate(\n",
        "    input_ids,\n",
        "    do_sample=True,\n",
        "    max_length=50,\n",
        "    top_k=0,\n",
        "    temperature=0.7\n",
        ")\n",
        "\n",
        "print(\"Output:\\n\" + 100 * '-')\n",
        "IPython.display.Markdown(tokenizer.decode(sample_output[0], skip_special_tokens=True))"
      ]
    },
    {
      "cell_type": "markdown",
      "metadata": {
        "id": "K7uj9BcF2yk8"
      },
      "source": [
        "A saída é um pouco mais coerente agora. Embora a aplicação de temperatura possa tornar uma distribuição menos aleatória, em seu limite, ao definir `temperatura` $ \\to 0$, a amostragem em escala de temperatura torna-se igual à decodificação gulosa e sofrerá dos mesmos problemas de antes."
      ]
    },
    {
      "cell_type": "code",
      "execution_count": 17,
      "metadata": {
        "colab": {
          "base_uri": "https://localhost:8080/",
          "height": 104
        },
        "id": "13gGgTgwQLaZ",
        "outputId": "fd4ae8fe-0670-432a-b3f8-c4694f3fd26f"
      },
      "outputs": [
        {
          "name": "stdout",
          "output_type": "stream",
          "text": [
            "Output:\n",
            "----------------------------------------------------------------------------------------------------\n"
          ]
        },
        {
          "data": {
            "text/markdown": [
              "I enjoy walking with my cute dog, but I'm not sure if I'll ever be able to walk with my dog. I'm not sure if I'll ever be able to walk with my dog.\n",
              "\n",
              "I'm not sure if I'll"
            ],
            "text/plain": [
              "<IPython.core.display.Markdown object>"
            ]
          },
          "execution_count": 17,
          "metadata": {},
          "output_type": "execute_result"
        }
      ],
      "source": [
        "tf.random.set_seed(0)\n",
        "\n",
        "# usa temperatura para diminuir a sensibilidade a candidatos com probabilidades mais baixas\n",
        "sample_output = model.generate(\n",
        "    input_ids,\n",
        "    do_sample=True,\n",
        "    max_length=50,\n",
        "    top_k=0,\n",
        "    temperature=0.05\n",
        ")\n",
        "\n",
        "print(\"Output:\\n\" + 100 * '-')\n",
        "IPython.display.Markdown(tokenizer.decode(sample_output[0], skip_special_tokens=True))"
      ]
    },
    {
      "cell_type": "markdown",
      "metadata": {
        "id": "binNTroyzQBu"
      },
      "source": [
        "### **Top-K Sampling**\n",
        "[Fan et. al (2018)](https://arxiv.org/pdf/1805.04833.pdf) introduziu um esquema de amostragem simples, mas muito poderoso, chamado de amostragem ***Top-K***. Na amostragem *Top-K*, as *K* próximas palavras mais prováveis são filtradas e a massa de probabilidade é redistribuída apenas entre essas *K* próximas palavras.\n",
        "\n",
        "Ampliamos o intervalo de palavras usado para ambas as etapas de amostragem no exemplo acima de 3 para 10 palavras para melhor ilustrar a amostragem *Top-K*.\n",
        "\n",
        "![top_k_sampling](https://raw.githubusercontent.com/patrickvonplaten/scientific_images/master/top_k_sampling.png)\n",
        "\n",
        "Tendo definido $K = 6$, limitamos nosso pool de amostragem a 6 palavras, definido como  $V_{\\text{top-K}}$. Vemos que ele elimina com sucesso os candidatos bastante estranhos \"not\", \"the\", \"small\", \"told\" na segunda etapa de amostragem.\n",
        "\n",
        "Vamos testar como *Top-K* pode ser usado:"
      ]
    },
    {
      "cell_type": "code",
      "execution_count": 18,
      "metadata": {
        "colab": {
          "base_uri": "https://localhost:8080/",
          "height": 98
        },
        "id": "HBtDOdD0wx3l",
        "outputId": "cc89fa9e-9e51-4670-d05f-01bf7d8aca37"
      },
      "outputs": [
        {
          "name": "stdout",
          "output_type": "stream",
          "text": [
            "Output:\n",
            "----------------------------------------------------------------------------------------------------\n"
          ]
        },
        {
          "data": {
            "text/markdown": [
              "I enjoy walking with my cute dog in the street from 2 1/2 miles (just before sunset) to 3 miles. But there are a few things that you need to know! It's NOT A REPUBLICANS EXCELLENT!"
            ],
            "text/plain": [
              "<IPython.core.display.Markdown object>"
            ]
          },
          "execution_count": 18,
          "metadata": {},
          "output_type": "execute_result"
        }
      ],
      "source": [
        "# set seed to reproduce results. Feel free to change the seed though to get different results\n",
        "tf.random.set_seed(0)\n",
        "\n",
        "# set top_k to 50\n",
        "sample_output = model.generate(\n",
        "    input_ids,\n",
        "    do_sample=True,\n",
        "    max_length=50,\n",
        "    top_k=50\n",
        ")\n",
        "\n",
        "print(\"Output:\\n\" + 100 * '-')\n",
        "IPython.display.Markdown(tokenizer.decode(sample_output[0], skip_special_tokens=True))"
      ]
    },
    {
      "cell_type": "markdown",
      "metadata": {
        "id": "zUnXOSmD6Kee"
      },
      "source": [
        "Na etapa $t=1$, *Top-K* elimina a possibilidade de\n",
        "amostra $\\text{\"people\", \"big\", \"house\", \"cat\"}$, que parecem candidatos razoáveis. Por outro lado, na etapa $t=2$, o método inclui as palavras que não se ajustam bem $\\text{\"down\", \"a\"}$ no conjunto de palavras de amostra. Assim, limitar o conjunto de amostras a um tamanho fixo *K* pode\n",
        "limitar a criatividade do modelo (por exemplo, descarte da palavra $\\text{\"people\"}$) ou levar o mesmo a produzir passagens incoerentes com distribuições \"aumentadas\" (por exemplo, inclusão da palavra $\\text{\"down\"}$).\n",
        "\n",
        "Essa intuição levou [Ari Holtzman et al. (2019)](https://arxiv.org/abs/1904.09751) para criar ***Top-p***- ou ***nucleus***-sampling."
      ]
    },
    {
      "cell_type": "markdown",
      "metadata": {
        "id": "ki9LAaexzV3H"
      },
      "source": [
        "### **Top-p (nucleus) sampling**\n",
        "\n",
        "Em vez de amostrar apenas das *K* palavras mais prováveis, na amostragem *Top-p* escolhe-se o menor conjunto possível de palavras cuja probabilidade cumulativa exceda a probabilidade *p* (parâmetro informado). A massa de probabilidade é então redistribuída entre este conjunto de palavras. Vamos visualizar:\n",
        "\n",
        "![top_p_sampling](https://github.com/patrickvonplaten/scientific_images/blob/master/top_p_sampling.png?raw=true)\n",
        "\n",
        "Na amostragem *Top-p*, você define um parâmetro `p` que representa a massa de probabilidade cumulativa que você deseja cobrir.\n",
        "\n",
        "Tendo definido $p=0.92$, a amostragem *Top-p* escolhe o número ***mínimo*** de palavras que juntas somam ou excedem $p=92\\%$, esse conjunto é definido como definida como $V_{\\text{top-p}} $. No primeiro exemplo, isso incluiu as 9 palavras mais prováveis, enquanto no segundo exemplo só precisou escolher as 3 palavras principais para exceder 92%.\n",
        "\n",
        "\n",
        "Para ativar amostragem com *Top-p* usamos `0 < top_p < 1`:\n",
        "\n"
      ]
    },
    {
      "cell_type": "code",
      "execution_count": 19,
      "metadata": {
        "colab": {
          "base_uri": "https://localhost:8080/",
          "height": 98
        },
        "id": "EvwIc7YAx77F",
        "outputId": "abf50e7b-600b-4d46-bc73-297189fdf52b"
      },
      "outputs": [
        {
          "name": "stdout",
          "output_type": "stream",
          "text": [
            "Output:\n",
            "----------------------------------------------------------------------------------------------------\n"
          ]
        },
        {
          "data": {
            "text/markdown": [
              "I enjoy walking with my cute dog and very often see her immediately excited at moving on.\" - Alicia Davis\n",
              "\n",
              "Recently, running around Los Angeles on an expeditions had me thinking, \"What'd I get for free here?\" I worked as a"
            ],
            "text/plain": [
              "<IPython.core.display.Markdown object>"
            ]
          },
          "execution_count": 19,
          "metadata": {},
          "output_type": "execute_result"
        }
      ],
      "source": [
        "# set seed to reproduce results. Feel free to change the seed though to get different results\n",
        "tf.random.set_seed(0)\n",
        "\n",
        "# deactivate top_k sampling and sample only from 92% most likely words\n",
        "sample_output = model.generate(\n",
        "    input_ids,\n",
        "    do_sample=True,\n",
        "    max_length=50,\n",
        "    top_p=0.92,\n",
        "    top_k=0\n",
        ")\n",
        "\n",
        "print(\"Output:\\n\" + 100 * '-')\n",
        "IPython.display.Markdown(tokenizer.decode(sample_output[0], skip_special_tokens=True))"
      ]
    },
    {
      "cell_type": "markdown",
      "metadata": {
        "id": "qIVRupAxC748"
      },
      "source": [
        "Embora em teoria *Top-p* pareça mais elegante que *Top-K*, ambos os métodos funcionam bem na prática. *Top-p* também pode ser usado em combinação com *Top-K*, que pode evitar palavras de classificação muito baixa enquanto permite alguma seleção dinâmica.\n",
        "\n",
        "Por fim, para obter várias saídas amostradas independentemente, podemos *novamente* definir o parâmetro `num_return_sequences > 1`:"
      ]
    },
    {
      "cell_type": "code",
      "execution_count": 20,
      "metadata": {
        "id": "3kY8P9VG8Gi9"
      },
      "outputs": [],
      "source": [
        "# set seed to reproduce results. Feel free to change the seed though to get different results\n",
        "tf.random.set_seed(0)\n",
        "\n",
        "# set top_k = 50 and set top_p = 0.95 and num_return_sequences = 3\n",
        "sample_outputs = model.generate(\n",
        "    input_ids,\n",
        "    do_sample=True,\n",
        "    max_length=50,\n",
        "    top_k=50,\n",
        "    top_p=0.95,\n",
        "    num_return_sequences=3\n",
        ")\n"
      ]
    },
    {
      "cell_type": "code",
      "execution_count": 21,
      "metadata": {
        "colab": {
          "base_uri": "https://localhost:8080/"
        },
        "id": "Mxv4dovlUo-B",
        "outputId": "01da2235-1c60-4ef1-9740-f1f0cee83e6d"
      },
      "outputs": [
        {
          "name": "stdout",
          "output_type": "stream",
          "text": [
            "----------------------------------------------------------------------------------------------------\n",
            "I enjoy walking with my cute dog\n",
            "\n",
            "In my life I love having fun\n",
            "\n",
            "What does it cost to feed a cat to get a heart attack?\n",
            "\n",
            "I think, this is actually a really good question: what are some of the\n",
            "----------------------------------------------------------------------------------------------------\n",
            "I enjoy walking with my cute dog.\"\n",
            "\n",
            "We didn't realize it until the next day that her husband had become very busy, so we were not surprised when the dog went to visit him outside his apartment and suddenly she had the courage to ask\n",
            "----------------------------------------------------------------------------------------------------\n",
            "I enjoy walking with my cute dog, I like to get a dog from the grocery store and it's been a pleasure to sit and talk to her (when she is sleeping), and she's been so happy with our visit to the supermarket (we\n"
          ]
        }
      ],
      "source": [
        "for i, s in enumerate(sample_outputs):\n",
        "    print(100 * '-')\n",
        "    print(tokenizer.decode(s, skip_special_tokens=True))\n"
      ]
    },
    {
      "cell_type": "markdown",
      "metadata": {
        "id": "NsWd7e98Vcs3"
      },
      "source": [
        "### **Conclusão**\n",
        "\n"
      ]
    },
    {
      "cell_type": "markdown",
      "metadata": {
        "id": "Bio9ZQNbDhja"
      },
      "source": [
        "Como métodos de decodificação *ad-hoc*, a amostragem *top-p* e *top-K* parecem produzir texto mais fluente do que a pesquisa gulosa (*greedy search*) tradicional - e *beam search* na geração de linguagem aberta (*open-ended*).\n",
        "Recentemente, evidências tem sido apresentadas de que as falhas aparentes da pesquisa *greedy* e *beam* - principalmente gerando sequências de palavras repetitivas - são causadas pelo modelo (especialmente a forma como o modelo é treinado), e não pelo método de decodificação [Welleck et al. (2019)](https://arxiv.org/pdf/1908.04319.pdf). Além disso, conforme demonstrado em [Welleck et al. (2020)](https://arxiv.org/abs/2002.02492), parece que a amostragem *top-K* e *top-p* também sofrem com a geração de sequências de palavras repetitivas.\n",
        "\n",
        "Em [Welleck et al. (2019)](https://arxiv.org/pdf/1908.04319.pdf), os autores mostram que, de acordo com avaliações humanas, a pesquisa *beam* pode gerar texto mais fluente do que a amostragem *Top-p*, ao adaptar o modelo objetivo do treinamento.\n",
        "\n",
        "A geração de linguagem aberta é um campo de pesquisa em rápida evolução e, como costuma acontecer, não existe um método único para todos aqui, portanto, é preciso ver o que funciona melhor no caso de uso específico.\n"
      ]
    },
    {
      "cell_type": "markdown",
      "metadata": {
        "id": "9u7FvcBeEXws"
      },
      "source": [
        "## **Outros Parâmetros**\n",
        "Alguns parâmetros adicionais para o método `generate`:\n",
        "\n",
        "- `min_length` pode ser usado para forçar o modelo a não produzir um token EOS (= não terminar a frase) antes que `min_length` seja alcançado. Isso é usado com bastante frequência em resumos, mas pode ser útil em geral se o usuário quiser ter saídas mais longas.\n",
        "- `repetition_penalty` pode ser usado para penalizar palavras que já foram geradas ou pertencem ao contexto. Foi introduzido pela primeira vez por [Kesker et al. (2019)](https://arxiv.org/abs/1909.05858) e também é usado no objetivo de treinamento em [Welleck et al. (2019)](https://arxiv.org/pdf/1908.04319.pdf). Pode ser bastante eficaz na prevenção de repetições, mas parece ser muito sensível a diferentes modelos e casos de uso, veja esta [discussão](https://github.com/huggingface/transformers/pull/2303) no Github.\n",
        "\n",
        "Mais parâmetros [aqui](https://huggingface.co/docs/transformers/v4.27.2/en/main_classes/text_generation#transformers.GenerationConfig) (clique em expandir parâmetros)."
      ]
    }
  ],
  "metadata": {
    "accelerator": "GPU",
    "colab": {
      "collapsed_sections": [
        "CeAseDyhWUe_"
      ],
      "gpuType": "T4",
      "machine_shape": "hm",
      "provenance": [],
      "toc_visible": true
    },
    "kernelspec": {
      "display_name": ".venv",
      "language": "python",
      "name": "python3"
    },
    "language_info": {
      "codemirror_mode": {
        "name": "ipython",
        "version": 3
      },
      "file_extension": ".py",
      "mimetype": "text/x-python",
      "name": "python",
      "nbconvert_exporter": "python",
      "pygments_lexer": "ipython3",
      "version": "3.10.17"
    },
    "widgets": {
      "application/vnd.jupyter.widget-state+json": {
        "05837c6291a5461fa44a3f04c895f9e3": {
          "model_module": "@jupyter-widgets/controls",
          "model_module_version": "1.5.0",
          "model_name": "DescriptionStyleModel",
          "state": {
            "_model_module": "@jupyter-widgets/controls",
            "_model_module_version": "1.5.0",
            "_model_name": "DescriptionStyleModel",
            "_view_count": null,
            "_view_module": "@jupyter-widgets/base",
            "_view_module_version": "1.2.0",
            "_view_name": "StyleView",
            "description_width": ""
          }
        },
        "0855e826e6b341c3aa2faa7a430024ed": {
          "model_module": "@jupyter-widgets/controls",
          "model_module_version": "1.5.0",
          "model_name": "DescriptionStyleModel",
          "state": {
            "_model_module": "@jupyter-widgets/controls",
            "_model_module_version": "1.5.0",
            "_model_name": "DescriptionStyleModel",
            "_view_count": null,
            "_view_module": "@jupyter-widgets/base",
            "_view_module_version": "1.2.0",
            "_view_name": "StyleView",
            "description_width": ""
          }
        },
        "0b64221d94254917939d49f1b53de8f4": {
          "model_module": "@jupyter-widgets/controls",
          "model_module_version": "1.5.0",
          "model_name": "FloatProgressModel",
          "state": {
            "_dom_classes": [],
            "_model_module": "@jupyter-widgets/controls",
            "_model_module_version": "1.5.0",
            "_model_name": "FloatProgressModel",
            "_view_count": null,
            "_view_module": "@jupyter-widgets/controls",
            "_view_module_version": "1.5.0",
            "_view_name": "ProgressView",
            "bar_style": "success",
            "description": "",
            "description_tooltip": null,
            "layout": "IPY_MODEL_156e5c3693bb4686b85f4305479c9f3b",
            "max": 456318,
            "min": 0,
            "orientation": "horizontal",
            "style": "IPY_MODEL_8a39cb31c763472ea950c1b27fd1c9d0",
            "value": 456318
          }
        },
        "0c63f3e82fe048d2b00d7eb76a460b18": {
          "model_module": "@jupyter-widgets/controls",
          "model_module_version": "1.5.0",
          "model_name": "DescriptionStyleModel",
          "state": {
            "_model_module": "@jupyter-widgets/controls",
            "_model_module_version": "1.5.0",
            "_model_name": "DescriptionStyleModel",
            "_view_count": null,
            "_view_module": "@jupyter-widgets/base",
            "_view_module_version": "1.2.0",
            "_view_name": "StyleView",
            "description_width": ""
          }
        },
        "0e53da5ce25847d989c34b5e042f2e51": {
          "model_module": "@jupyter-widgets/base",
          "model_module_version": "1.2.0",
          "model_name": "LayoutModel",
          "state": {
            "_model_module": "@jupyter-widgets/base",
            "_model_module_version": "1.2.0",
            "_model_name": "LayoutModel",
            "_view_count": null,
            "_view_module": "@jupyter-widgets/base",
            "_view_module_version": "1.2.0",
            "_view_name": "LayoutView",
            "align_content": null,
            "align_items": null,
            "align_self": null,
            "border": null,
            "bottom": null,
            "display": null,
            "flex": null,
            "flex_flow": null,
            "grid_area": null,
            "grid_auto_columns": null,
            "grid_auto_flow": null,
            "grid_auto_rows": null,
            "grid_column": null,
            "grid_gap": null,
            "grid_row": null,
            "grid_template_areas": null,
            "grid_template_columns": null,
            "grid_template_rows": null,
            "height": null,
            "justify_content": null,
            "justify_items": null,
            "left": null,
            "margin": null,
            "max_height": null,
            "max_width": null,
            "min_height": null,
            "min_width": null,
            "object_fit": null,
            "object_position": null,
            "order": null,
            "overflow": null,
            "overflow_x": null,
            "overflow_y": null,
            "padding": null,
            "right": null,
            "top": null,
            "visibility": null,
            "width": null
          }
        },
        "10e080248d9649f583108c1e71000dab": {
          "model_module": "@jupyter-widgets/controls",
          "model_module_version": "1.5.0",
          "model_name": "HBoxModel",
          "state": {
            "_dom_classes": [],
            "_model_module": "@jupyter-widgets/controls",
            "_model_module_version": "1.5.0",
            "_model_name": "HBoxModel",
            "_view_count": null,
            "_view_module": "@jupyter-widgets/controls",
            "_view_module_version": "1.5.0",
            "_view_name": "HBoxView",
            "box_style": "",
            "children": [
              "IPY_MODEL_4a6cec3d50ec494b83131d2d519f0cdd",
              "IPY_MODEL_0b64221d94254917939d49f1b53de8f4",
              "IPY_MODEL_d4bf8253dd73435682ed8cb21b703cef"
            ],
            "layout": "IPY_MODEL_62ea08d5dddd4cfc8c62dd94f8d128f2"
          }
        },
        "1305234f460a450ca009eb4cc4f7e650": {
          "model_module": "@jupyter-widgets/controls",
          "model_module_version": "1.5.0",
          "model_name": "FloatProgressModel",
          "state": {
            "_dom_classes": [],
            "_model_module": "@jupyter-widgets/controls",
            "_model_module_version": "1.5.0",
            "_model_name": "FloatProgressModel",
            "_view_count": null,
            "_view_module": "@jupyter-widgets/controls",
            "_view_module_version": "1.5.0",
            "_view_name": "ProgressView",
            "bar_style": "success",
            "description": "",
            "description_tooltip": null,
            "layout": "IPY_MODEL_6b124662609b4beeb90ce030bae84de4",
            "max": 26,
            "min": 0,
            "orientation": "horizontal",
            "style": "IPY_MODEL_652a6ea4ff444d01a7402badf5527457",
            "value": 26
          }
        },
        "156e5c3693bb4686b85f4305479c9f3b": {
          "model_module": "@jupyter-widgets/base",
          "model_module_version": "1.2.0",
          "model_name": "LayoutModel",
          "state": {
            "_model_module": "@jupyter-widgets/base",
            "_model_module_version": "1.2.0",
            "_model_name": "LayoutModel",
            "_view_count": null,
            "_view_module": "@jupyter-widgets/base",
            "_view_module_version": "1.2.0",
            "_view_name": "LayoutView",
            "align_content": null,
            "align_items": null,
            "align_self": null,
            "border": null,
            "bottom": null,
            "display": null,
            "flex": null,
            "flex_flow": null,
            "grid_area": null,
            "grid_auto_columns": null,
            "grid_auto_flow": null,
            "grid_auto_rows": null,
            "grid_column": null,
            "grid_gap": null,
            "grid_row": null,
            "grid_template_areas": null,
            "grid_template_columns": null,
            "grid_template_rows": null,
            "height": null,
            "justify_content": null,
            "justify_items": null,
            "left": null,
            "margin": null,
            "max_height": null,
            "max_width": null,
            "min_height": null,
            "min_width": null,
            "object_fit": null,
            "object_position": null,
            "order": null,
            "overflow": null,
            "overflow_x": null,
            "overflow_y": null,
            "padding": null,
            "right": null,
            "top": null,
            "visibility": null,
            "width": null
          }
        },
        "1863be21f6ff468d80e44777c85e7523": {
          "model_module": "@jupyter-widgets/base",
          "model_module_version": "1.2.0",
          "model_name": "LayoutModel",
          "state": {
            "_model_module": "@jupyter-widgets/base",
            "_model_module_version": "1.2.0",
            "_model_name": "LayoutModel",
            "_view_count": null,
            "_view_module": "@jupyter-widgets/base",
            "_view_module_version": "1.2.0",
            "_view_name": "LayoutView",
            "align_content": null,
            "align_items": null,
            "align_self": null,
            "border": null,
            "bottom": null,
            "display": null,
            "flex": null,
            "flex_flow": null,
            "grid_area": null,
            "grid_auto_columns": null,
            "grid_auto_flow": null,
            "grid_auto_rows": null,
            "grid_column": null,
            "grid_gap": null,
            "grid_row": null,
            "grid_template_areas": null,
            "grid_template_columns": null,
            "grid_template_rows": null,
            "height": null,
            "justify_content": null,
            "justify_items": null,
            "left": null,
            "margin": null,
            "max_height": null,
            "max_width": null,
            "min_height": null,
            "min_width": null,
            "object_fit": null,
            "object_position": null,
            "order": null,
            "overflow": null,
            "overflow_x": null,
            "overflow_y": null,
            "padding": null,
            "right": null,
            "top": null,
            "visibility": null,
            "width": null
          }
        },
        "24c627d4aaed4395ba66e026b95e413a": {
          "model_module": "@jupyter-widgets/controls",
          "model_module_version": "1.5.0",
          "model_name": "HTMLModel",
          "state": {
            "_dom_classes": [],
            "_model_module": "@jupyter-widgets/controls",
            "_model_module_version": "1.5.0",
            "_model_name": "HTMLModel",
            "_view_count": null,
            "_view_module": "@jupyter-widgets/controls",
            "_view_module_version": "1.5.0",
            "_view_name": "HTMLView",
            "description": "",
            "description_tooltip": null,
            "layout": "IPY_MODEL_ce067dc2eae6479b8ee5e4a2382e5830",
            "placeholder": "​",
            "style": "IPY_MODEL_4dfa61c9f5a644a6b51c5e7647011b5a",
            "value": "vocab.json: 100%"
          }
        },
        "30c172384d334b739033ee8b93ee4214": {
          "model_module": "@jupyter-widgets/controls",
          "model_module_version": "1.5.0",
          "model_name": "HTMLModel",
          "state": {
            "_dom_classes": [],
            "_model_module": "@jupyter-widgets/controls",
            "_model_module_version": "1.5.0",
            "_model_name": "HTMLModel",
            "_view_count": null,
            "_view_module": "@jupyter-widgets/controls",
            "_view_module_version": "1.5.0",
            "_view_name": "HTMLView",
            "description": "",
            "description_tooltip": null,
            "layout": "IPY_MODEL_84e3b8f29830463b937930dc165850f4",
            "placeholder": "​",
            "style": "IPY_MODEL_7ae7b40d11c143e59344b0126260d9e2",
            "value": "model.safetensors: 100%"
          }
        },
        "31e71096c8de414eb1c4c3cec785da9b": {
          "model_module": "@jupyter-widgets/base",
          "model_module_version": "1.2.0",
          "model_name": "LayoutModel",
          "state": {
            "_model_module": "@jupyter-widgets/base",
            "_model_module_version": "1.2.0",
            "_model_name": "LayoutModel",
            "_view_count": null,
            "_view_module": "@jupyter-widgets/base",
            "_view_module_version": "1.2.0",
            "_view_name": "LayoutView",
            "align_content": null,
            "align_items": null,
            "align_self": null,
            "border": null,
            "bottom": null,
            "display": null,
            "flex": null,
            "flex_flow": null,
            "grid_area": null,
            "grid_auto_columns": null,
            "grid_auto_flow": null,
            "grid_auto_rows": null,
            "grid_column": null,
            "grid_gap": null,
            "grid_row": null,
            "grid_template_areas": null,
            "grid_template_columns": null,
            "grid_template_rows": null,
            "height": null,
            "justify_content": null,
            "justify_items": null,
            "left": null,
            "margin": null,
            "max_height": null,
            "max_width": null,
            "min_height": null,
            "min_width": null,
            "object_fit": null,
            "object_position": null,
            "order": null,
            "overflow": null,
            "overflow_x": null,
            "overflow_y": null,
            "padding": null,
            "right": null,
            "top": null,
            "visibility": null,
            "width": null
          }
        },
        "33d2439c5652459d9025fa5acd2007e2": {
          "model_module": "@jupyter-widgets/controls",
          "model_module_version": "1.5.0",
          "model_name": "FloatProgressModel",
          "state": {
            "_dom_classes": [],
            "_model_module": "@jupyter-widgets/controls",
            "_model_module_version": "1.5.0",
            "_model_name": "FloatProgressModel",
            "_view_count": null,
            "_view_module": "@jupyter-widgets/controls",
            "_view_module_version": "1.5.0",
            "_view_name": "ProgressView",
            "bar_style": "success",
            "description": "",
            "description_tooltip": null,
            "layout": "IPY_MODEL_41860376d8034c27b39e0f2aec8d828e",
            "max": 548105171,
            "min": 0,
            "orientation": "horizontal",
            "style": "IPY_MODEL_d9fc2df711aa4d32bba9ed17d1e3064f",
            "value": 548105171
          }
        },
        "3601e8f830b541ebb226c4b4654c6c4f": {
          "model_module": "@jupyter-widgets/base",
          "model_module_version": "1.2.0",
          "model_name": "LayoutModel",
          "state": {
            "_model_module": "@jupyter-widgets/base",
            "_model_module_version": "1.2.0",
            "_model_name": "LayoutModel",
            "_view_count": null,
            "_view_module": "@jupyter-widgets/base",
            "_view_module_version": "1.2.0",
            "_view_name": "LayoutView",
            "align_content": null,
            "align_items": null,
            "align_self": null,
            "border": null,
            "bottom": null,
            "display": null,
            "flex": null,
            "flex_flow": null,
            "grid_area": null,
            "grid_auto_columns": null,
            "grid_auto_flow": null,
            "grid_auto_rows": null,
            "grid_column": null,
            "grid_gap": null,
            "grid_row": null,
            "grid_template_areas": null,
            "grid_template_columns": null,
            "grid_template_rows": null,
            "height": null,
            "justify_content": null,
            "justify_items": null,
            "left": null,
            "margin": null,
            "max_height": null,
            "max_width": null,
            "min_height": null,
            "min_width": null,
            "object_fit": null,
            "object_position": null,
            "order": null,
            "overflow": null,
            "overflow_x": null,
            "overflow_y": null,
            "padding": null,
            "right": null,
            "top": null,
            "visibility": null,
            "width": null
          }
        },
        "3e46f595f0794bca9f40a0b287697aac": {
          "model_module": "@jupyter-widgets/controls",
          "model_module_version": "1.5.0",
          "model_name": "HBoxModel",
          "state": {
            "_dom_classes": [],
            "_model_module": "@jupyter-widgets/controls",
            "_model_module_version": "1.5.0",
            "_model_name": "HBoxModel",
            "_view_count": null,
            "_view_module": "@jupyter-widgets/controls",
            "_view_module_version": "1.5.0",
            "_view_name": "HBoxView",
            "box_style": "",
            "children": [
              "IPY_MODEL_aacc2f1e3cc240e29fa9052d5a7155c1",
              "IPY_MODEL_f7971faf4ef441a4a63ff0f72a78bf2e",
              "IPY_MODEL_f60ae653f72749b2812c61683a9b2a06"
            ],
            "layout": "IPY_MODEL_78fdd711f3e2440bb9fa8924c3fc6afa"
          }
        },
        "3ecb9f4f65b6432a85701ecac1b46bf8": {
          "model_module": "@jupyter-widgets/base",
          "model_module_version": "1.2.0",
          "model_name": "LayoutModel",
          "state": {
            "_model_module": "@jupyter-widgets/base",
            "_model_module_version": "1.2.0",
            "_model_name": "LayoutModel",
            "_view_count": null,
            "_view_module": "@jupyter-widgets/base",
            "_view_module_version": "1.2.0",
            "_view_name": "LayoutView",
            "align_content": null,
            "align_items": null,
            "align_self": null,
            "border": null,
            "bottom": null,
            "display": null,
            "flex": null,
            "flex_flow": null,
            "grid_area": null,
            "grid_auto_columns": null,
            "grid_auto_flow": null,
            "grid_auto_rows": null,
            "grid_column": null,
            "grid_gap": null,
            "grid_row": null,
            "grid_template_areas": null,
            "grid_template_columns": null,
            "grid_template_rows": null,
            "height": null,
            "justify_content": null,
            "justify_items": null,
            "left": null,
            "margin": null,
            "max_height": null,
            "max_width": null,
            "min_height": null,
            "min_width": null,
            "object_fit": null,
            "object_position": null,
            "order": null,
            "overflow": null,
            "overflow_x": null,
            "overflow_y": null,
            "padding": null,
            "right": null,
            "top": null,
            "visibility": null,
            "width": null
          }
        },
        "41860376d8034c27b39e0f2aec8d828e": {
          "model_module": "@jupyter-widgets/base",
          "model_module_version": "1.2.0",
          "model_name": "LayoutModel",
          "state": {
            "_model_module": "@jupyter-widgets/base",
            "_model_module_version": "1.2.0",
            "_model_name": "LayoutModel",
            "_view_count": null,
            "_view_module": "@jupyter-widgets/base",
            "_view_module_version": "1.2.0",
            "_view_name": "LayoutView",
            "align_content": null,
            "align_items": null,
            "align_self": null,
            "border": null,
            "bottom": null,
            "display": null,
            "flex": null,
            "flex_flow": null,
            "grid_area": null,
            "grid_auto_columns": null,
            "grid_auto_flow": null,
            "grid_auto_rows": null,
            "grid_column": null,
            "grid_gap": null,
            "grid_row": null,
            "grid_template_areas": null,
            "grid_template_columns": null,
            "grid_template_rows": null,
            "height": null,
            "justify_content": null,
            "justify_items": null,
            "left": null,
            "margin": null,
            "max_height": null,
            "max_width": null,
            "min_height": null,
            "min_width": null,
            "object_fit": null,
            "object_position": null,
            "order": null,
            "overflow": null,
            "overflow_x": null,
            "overflow_y": null,
            "padding": null,
            "right": null,
            "top": null,
            "visibility": null,
            "width": null
          }
        },
        "42fcbda53e0e44d39e42d5d6ae64dc7f": {
          "model_module": "@jupyter-widgets/controls",
          "model_module_version": "1.5.0",
          "model_name": "DescriptionStyleModel",
          "state": {
            "_model_module": "@jupyter-widgets/controls",
            "_model_module_version": "1.5.0",
            "_model_name": "DescriptionStyleModel",
            "_view_count": null,
            "_view_module": "@jupyter-widgets/base",
            "_view_module_version": "1.2.0",
            "_view_name": "StyleView",
            "description_width": ""
          }
        },
        "4a6cec3d50ec494b83131d2d519f0cdd": {
          "model_module": "@jupyter-widgets/controls",
          "model_module_version": "1.5.0",
          "model_name": "HTMLModel",
          "state": {
            "_dom_classes": [],
            "_model_module": "@jupyter-widgets/controls",
            "_model_module_version": "1.5.0",
            "_model_name": "HTMLModel",
            "_view_count": null,
            "_view_module": "@jupyter-widgets/controls",
            "_view_module_version": "1.5.0",
            "_view_name": "HTMLView",
            "description": "",
            "description_tooltip": null,
            "layout": "IPY_MODEL_31e71096c8de414eb1c4c3cec785da9b",
            "placeholder": "​",
            "style": "IPY_MODEL_5cfe34ba91ec47ba87edd3b171675ed9",
            "value": "merges.txt: 100%"
          }
        },
        "4c1747be06324607adccc1427188134c": {
          "model_module": "@jupyter-widgets/base",
          "model_module_version": "1.2.0",
          "model_name": "LayoutModel",
          "state": {
            "_model_module": "@jupyter-widgets/base",
            "_model_module_version": "1.2.0",
            "_model_name": "LayoutModel",
            "_view_count": null,
            "_view_module": "@jupyter-widgets/base",
            "_view_module_version": "1.2.0",
            "_view_name": "LayoutView",
            "align_content": null,
            "align_items": null,
            "align_self": null,
            "border": null,
            "bottom": null,
            "display": null,
            "flex": null,
            "flex_flow": null,
            "grid_area": null,
            "grid_auto_columns": null,
            "grid_auto_flow": null,
            "grid_auto_rows": null,
            "grid_column": null,
            "grid_gap": null,
            "grid_row": null,
            "grid_template_areas": null,
            "grid_template_columns": null,
            "grid_template_rows": null,
            "height": null,
            "justify_content": null,
            "justify_items": null,
            "left": null,
            "margin": null,
            "max_height": null,
            "max_width": null,
            "min_height": null,
            "min_width": null,
            "object_fit": null,
            "object_position": null,
            "order": null,
            "overflow": null,
            "overflow_x": null,
            "overflow_y": null,
            "padding": null,
            "right": null,
            "top": null,
            "visibility": null,
            "width": null
          }
        },
        "4d2d8cf39bb54394888e12bd21e24432": {
          "model_module": "@jupyter-widgets/controls",
          "model_module_version": "1.5.0",
          "model_name": "DescriptionStyleModel",
          "state": {
            "_model_module": "@jupyter-widgets/controls",
            "_model_module_version": "1.5.0",
            "_model_name": "DescriptionStyleModel",
            "_view_count": null,
            "_view_module": "@jupyter-widgets/base",
            "_view_module_version": "1.2.0",
            "_view_name": "StyleView",
            "description_width": ""
          }
        },
        "4dfa61c9f5a644a6b51c5e7647011b5a": {
          "model_module": "@jupyter-widgets/controls",
          "model_module_version": "1.5.0",
          "model_name": "DescriptionStyleModel",
          "state": {
            "_model_module": "@jupyter-widgets/controls",
            "_model_module_version": "1.5.0",
            "_model_name": "DescriptionStyleModel",
            "_view_count": null,
            "_view_module": "@jupyter-widgets/base",
            "_view_module_version": "1.2.0",
            "_view_name": "StyleView",
            "description_width": ""
          }
        },
        "4ffe1b7287104fa19cd263a1a745f2c0": {
          "model_module": "@jupyter-widgets/controls",
          "model_module_version": "1.5.0",
          "model_name": "HBoxModel",
          "state": {
            "_dom_classes": [],
            "_model_module": "@jupyter-widgets/controls",
            "_model_module_version": "1.5.0",
            "_model_name": "HBoxModel",
            "_view_count": null,
            "_view_module": "@jupyter-widgets/controls",
            "_view_module_version": "1.5.0",
            "_view_name": "HBoxView",
            "box_style": "",
            "children": [
              "IPY_MODEL_24c627d4aaed4395ba66e026b95e413a",
              "IPY_MODEL_eb65d580fa3943e9bd39fd1343ef59cb",
              "IPY_MODEL_c1a38c5fc0eb425cbf9d943151c3243b"
            ],
            "layout": "IPY_MODEL_c5da4705ed0f4c5fac411a270a826ce6"
          }
        },
        "5662f9ab52024d53b08c43f6c8247902": {
          "model_module": "@jupyter-widgets/base",
          "model_module_version": "1.2.0",
          "model_name": "LayoutModel",
          "state": {
            "_model_module": "@jupyter-widgets/base",
            "_model_module_version": "1.2.0",
            "_model_name": "LayoutModel",
            "_view_count": null,
            "_view_module": "@jupyter-widgets/base",
            "_view_module_version": "1.2.0",
            "_view_name": "LayoutView",
            "align_content": null,
            "align_items": null,
            "align_self": null,
            "border": null,
            "bottom": null,
            "display": null,
            "flex": null,
            "flex_flow": null,
            "grid_area": null,
            "grid_auto_columns": null,
            "grid_auto_flow": null,
            "grid_auto_rows": null,
            "grid_column": null,
            "grid_gap": null,
            "grid_row": null,
            "grid_template_areas": null,
            "grid_template_columns": null,
            "grid_template_rows": null,
            "height": null,
            "justify_content": null,
            "justify_items": null,
            "left": null,
            "margin": null,
            "max_height": null,
            "max_width": null,
            "min_height": null,
            "min_width": null,
            "object_fit": null,
            "object_position": null,
            "order": null,
            "overflow": null,
            "overflow_x": null,
            "overflow_y": null,
            "padding": null,
            "right": null,
            "top": null,
            "visibility": null,
            "width": null
          }
        },
        "5cfe34ba91ec47ba87edd3b171675ed9": {
          "model_module": "@jupyter-widgets/controls",
          "model_module_version": "1.5.0",
          "model_name": "DescriptionStyleModel",
          "state": {
            "_model_module": "@jupyter-widgets/controls",
            "_model_module_version": "1.5.0",
            "_model_name": "DescriptionStyleModel",
            "_view_count": null,
            "_view_module": "@jupyter-widgets/base",
            "_view_module_version": "1.2.0",
            "_view_name": "StyleView",
            "description_width": ""
          }
        },
        "62ea08d5dddd4cfc8c62dd94f8d128f2": {
          "model_module": "@jupyter-widgets/base",
          "model_module_version": "1.2.0",
          "model_name": "LayoutModel",
          "state": {
            "_model_module": "@jupyter-widgets/base",
            "_model_module_version": "1.2.0",
            "_model_name": "LayoutModel",
            "_view_count": null,
            "_view_module": "@jupyter-widgets/base",
            "_view_module_version": "1.2.0",
            "_view_name": "LayoutView",
            "align_content": null,
            "align_items": null,
            "align_self": null,
            "border": null,
            "bottom": null,
            "display": null,
            "flex": null,
            "flex_flow": null,
            "grid_area": null,
            "grid_auto_columns": null,
            "grid_auto_flow": null,
            "grid_auto_rows": null,
            "grid_column": null,
            "grid_gap": null,
            "grid_row": null,
            "grid_template_areas": null,
            "grid_template_columns": null,
            "grid_template_rows": null,
            "height": null,
            "justify_content": null,
            "justify_items": null,
            "left": null,
            "margin": null,
            "max_height": null,
            "max_width": null,
            "min_height": null,
            "min_width": null,
            "object_fit": null,
            "object_position": null,
            "order": null,
            "overflow": null,
            "overflow_x": null,
            "overflow_y": null,
            "padding": null,
            "right": null,
            "top": null,
            "visibility": null,
            "width": null
          }
        },
        "643e85443713451aaf121b9f03abba1c": {
          "model_module": "@jupyter-widgets/controls",
          "model_module_version": "1.5.0",
          "model_name": "ProgressStyleModel",
          "state": {
            "_model_module": "@jupyter-widgets/controls",
            "_model_module_version": "1.5.0",
            "_model_name": "ProgressStyleModel",
            "_view_count": null,
            "_view_module": "@jupyter-widgets/base",
            "_view_module_version": "1.2.0",
            "_view_name": "StyleView",
            "bar_color": null,
            "description_width": ""
          }
        },
        "652a6ea4ff444d01a7402badf5527457": {
          "model_module": "@jupyter-widgets/controls",
          "model_module_version": "1.5.0",
          "model_name": "ProgressStyleModel",
          "state": {
            "_model_module": "@jupyter-widgets/controls",
            "_model_module_version": "1.5.0",
            "_model_name": "ProgressStyleModel",
            "_view_count": null,
            "_view_module": "@jupyter-widgets/base",
            "_view_module_version": "1.2.0",
            "_view_name": "StyleView",
            "bar_color": null,
            "description_width": ""
          }
        },
        "6b124662609b4beeb90ce030bae84de4": {
          "model_module": "@jupyter-widgets/base",
          "model_module_version": "1.2.0",
          "model_name": "LayoutModel",
          "state": {
            "_model_module": "@jupyter-widgets/base",
            "_model_module_version": "1.2.0",
            "_model_name": "LayoutModel",
            "_view_count": null,
            "_view_module": "@jupyter-widgets/base",
            "_view_module_version": "1.2.0",
            "_view_name": "LayoutView",
            "align_content": null,
            "align_items": null,
            "align_self": null,
            "border": null,
            "bottom": null,
            "display": null,
            "flex": null,
            "flex_flow": null,
            "grid_area": null,
            "grid_auto_columns": null,
            "grid_auto_flow": null,
            "grid_auto_rows": null,
            "grid_column": null,
            "grid_gap": null,
            "grid_row": null,
            "grid_template_areas": null,
            "grid_template_columns": null,
            "grid_template_rows": null,
            "height": null,
            "justify_content": null,
            "justify_items": null,
            "left": null,
            "margin": null,
            "max_height": null,
            "max_width": null,
            "min_height": null,
            "min_width": null,
            "object_fit": null,
            "object_position": null,
            "order": null,
            "overflow": null,
            "overflow_x": null,
            "overflow_y": null,
            "padding": null,
            "right": null,
            "top": null,
            "visibility": null,
            "width": null
          }
        },
        "77e275b17e2146649def9b062a4893e6": {
          "model_module": "@jupyter-widgets/base",
          "model_module_version": "1.2.0",
          "model_name": "LayoutModel",
          "state": {
            "_model_module": "@jupyter-widgets/base",
            "_model_module_version": "1.2.0",
            "_model_name": "LayoutModel",
            "_view_count": null,
            "_view_module": "@jupyter-widgets/base",
            "_view_module_version": "1.2.0",
            "_view_name": "LayoutView",
            "align_content": null,
            "align_items": null,
            "align_self": null,
            "border": null,
            "bottom": null,
            "display": null,
            "flex": null,
            "flex_flow": null,
            "grid_area": null,
            "grid_auto_columns": null,
            "grid_auto_flow": null,
            "grid_auto_rows": null,
            "grid_column": null,
            "grid_gap": null,
            "grid_row": null,
            "grid_template_areas": null,
            "grid_template_columns": null,
            "grid_template_rows": null,
            "height": null,
            "justify_content": null,
            "justify_items": null,
            "left": null,
            "margin": null,
            "max_height": null,
            "max_width": null,
            "min_height": null,
            "min_width": null,
            "object_fit": null,
            "object_position": null,
            "order": null,
            "overflow": null,
            "overflow_x": null,
            "overflow_y": null,
            "padding": null,
            "right": null,
            "top": null,
            "visibility": null,
            "width": null
          }
        },
        "78fdd711f3e2440bb9fa8924c3fc6afa": {
          "model_module": "@jupyter-widgets/base",
          "model_module_version": "1.2.0",
          "model_name": "LayoutModel",
          "state": {
            "_model_module": "@jupyter-widgets/base",
            "_model_module_version": "1.2.0",
            "_model_name": "LayoutModel",
            "_view_count": null,
            "_view_module": "@jupyter-widgets/base",
            "_view_module_version": "1.2.0",
            "_view_name": "LayoutView",
            "align_content": null,
            "align_items": null,
            "align_self": null,
            "border": null,
            "bottom": null,
            "display": null,
            "flex": null,
            "flex_flow": null,
            "grid_area": null,
            "grid_auto_columns": null,
            "grid_auto_flow": null,
            "grid_auto_rows": null,
            "grid_column": null,
            "grid_gap": null,
            "grid_row": null,
            "grid_template_areas": null,
            "grid_template_columns": null,
            "grid_template_rows": null,
            "height": null,
            "justify_content": null,
            "justify_items": null,
            "left": null,
            "margin": null,
            "max_height": null,
            "max_width": null,
            "min_height": null,
            "min_width": null,
            "object_fit": null,
            "object_position": null,
            "order": null,
            "overflow": null,
            "overflow_x": null,
            "overflow_y": null,
            "padding": null,
            "right": null,
            "top": null,
            "visibility": null,
            "width": null
          }
        },
        "7ae7b40d11c143e59344b0126260d9e2": {
          "model_module": "@jupyter-widgets/controls",
          "model_module_version": "1.5.0",
          "model_name": "DescriptionStyleModel",
          "state": {
            "_model_module": "@jupyter-widgets/controls",
            "_model_module_version": "1.5.0",
            "_model_name": "DescriptionStyleModel",
            "_view_count": null,
            "_view_module": "@jupyter-widgets/base",
            "_view_module_version": "1.2.0",
            "_view_name": "StyleView",
            "description_width": ""
          }
        },
        "83642cd43a5341638a4bd23501e37d28": {
          "model_module": "@jupyter-widgets/controls",
          "model_module_version": "1.5.0",
          "model_name": "FloatProgressModel",
          "state": {
            "_dom_classes": [],
            "_model_module": "@jupyter-widgets/controls",
            "_model_module_version": "1.5.0",
            "_model_name": "FloatProgressModel",
            "_view_count": null,
            "_view_module": "@jupyter-widgets/controls",
            "_view_module_version": "1.5.0",
            "_view_name": "ProgressView",
            "bar_style": "success",
            "description": "",
            "description_tooltip": null,
            "layout": "IPY_MODEL_1863be21f6ff468d80e44777c85e7523",
            "max": 665,
            "min": 0,
            "orientation": "horizontal",
            "style": "IPY_MODEL_d143ed84f85941e0ae143e46acedd305",
            "value": 665
          }
        },
        "840a3712e82841d4b8e6268d43e371f5": {
          "model_module": "@jupyter-widgets/controls",
          "model_module_version": "1.5.0",
          "model_name": "DescriptionStyleModel",
          "state": {
            "_model_module": "@jupyter-widgets/controls",
            "_model_module_version": "1.5.0",
            "_model_name": "DescriptionStyleModel",
            "_view_count": null,
            "_view_module": "@jupyter-widgets/base",
            "_view_module_version": "1.2.0",
            "_view_name": "StyleView",
            "description_width": ""
          }
        },
        "84e3b8f29830463b937930dc165850f4": {
          "model_module": "@jupyter-widgets/base",
          "model_module_version": "1.2.0",
          "model_name": "LayoutModel",
          "state": {
            "_model_module": "@jupyter-widgets/base",
            "_model_module_version": "1.2.0",
            "_model_name": "LayoutModel",
            "_view_count": null,
            "_view_module": "@jupyter-widgets/base",
            "_view_module_version": "1.2.0",
            "_view_name": "LayoutView",
            "align_content": null,
            "align_items": null,
            "align_self": null,
            "border": null,
            "bottom": null,
            "display": null,
            "flex": null,
            "flex_flow": null,
            "grid_area": null,
            "grid_auto_columns": null,
            "grid_auto_flow": null,
            "grid_auto_rows": null,
            "grid_column": null,
            "grid_gap": null,
            "grid_row": null,
            "grid_template_areas": null,
            "grid_template_columns": null,
            "grid_template_rows": null,
            "height": null,
            "justify_content": null,
            "justify_items": null,
            "left": null,
            "margin": null,
            "max_height": null,
            "max_width": null,
            "min_height": null,
            "min_width": null,
            "object_fit": null,
            "object_position": null,
            "order": null,
            "overflow": null,
            "overflow_x": null,
            "overflow_y": null,
            "padding": null,
            "right": null,
            "top": null,
            "visibility": null,
            "width": null
          }
        },
        "88dccf9d743d450083623ef3d82a32ae": {
          "model_module": "@jupyter-widgets/base",
          "model_module_version": "1.2.0",
          "model_name": "LayoutModel",
          "state": {
            "_model_module": "@jupyter-widgets/base",
            "_model_module_version": "1.2.0",
            "_model_name": "LayoutModel",
            "_view_count": null,
            "_view_module": "@jupyter-widgets/base",
            "_view_module_version": "1.2.0",
            "_view_name": "LayoutView",
            "align_content": null,
            "align_items": null,
            "align_self": null,
            "border": null,
            "bottom": null,
            "display": null,
            "flex": null,
            "flex_flow": null,
            "grid_area": null,
            "grid_auto_columns": null,
            "grid_auto_flow": null,
            "grid_auto_rows": null,
            "grid_column": null,
            "grid_gap": null,
            "grid_row": null,
            "grid_template_areas": null,
            "grid_template_columns": null,
            "grid_template_rows": null,
            "height": null,
            "justify_content": null,
            "justify_items": null,
            "left": null,
            "margin": null,
            "max_height": null,
            "max_width": null,
            "min_height": null,
            "min_width": null,
            "object_fit": null,
            "object_position": null,
            "order": null,
            "overflow": null,
            "overflow_x": null,
            "overflow_y": null,
            "padding": null,
            "right": null,
            "top": null,
            "visibility": null,
            "width": null
          }
        },
        "8948172fc2884cafb132f308e2aa0dd8": {
          "model_module": "@jupyter-widgets/controls",
          "model_module_version": "1.5.0",
          "model_name": "HTMLModel",
          "state": {
            "_dom_classes": [],
            "_model_module": "@jupyter-widgets/controls",
            "_model_module_version": "1.5.0",
            "_model_name": "HTMLModel",
            "_view_count": null,
            "_view_module": "@jupyter-widgets/controls",
            "_view_module_version": "1.5.0",
            "_view_name": "HTMLView",
            "description": "",
            "description_tooltip": null,
            "layout": "IPY_MODEL_5662f9ab52024d53b08c43f6c8247902",
            "placeholder": "​",
            "style": "IPY_MODEL_4d2d8cf39bb54394888e12bd21e24432",
            "value": " 26.0/26.0 [00:00&lt;00:00, 2.66kB/s]"
          }
        },
        "8a39cb31c763472ea950c1b27fd1c9d0": {
          "model_module": "@jupyter-widgets/controls",
          "model_module_version": "1.5.0",
          "model_name": "ProgressStyleModel",
          "state": {
            "_model_module": "@jupyter-widgets/controls",
            "_model_module_version": "1.5.0",
            "_model_name": "ProgressStyleModel",
            "_view_count": null,
            "_view_module": "@jupyter-widgets/base",
            "_view_module_version": "1.2.0",
            "_view_name": "StyleView",
            "bar_color": null,
            "description_width": ""
          }
        },
        "9457d908b25043a188ad4b6d69881be3": {
          "model_module": "@jupyter-widgets/controls",
          "model_module_version": "1.5.0",
          "model_name": "HTMLModel",
          "state": {
            "_dom_classes": [],
            "_model_module": "@jupyter-widgets/controls",
            "_model_module_version": "1.5.0",
            "_model_name": "HTMLModel",
            "_view_count": null,
            "_view_module": "@jupyter-widgets/controls",
            "_view_module_version": "1.5.0",
            "_view_name": "HTMLView",
            "description": "",
            "description_tooltip": null,
            "layout": "IPY_MODEL_3ecb9f4f65b6432a85701ecac1b46bf8",
            "placeholder": "​",
            "style": "IPY_MODEL_05837c6291a5461fa44a3f04c895f9e3",
            "value": "tokenizer_config.json: 100%"
          }
        },
        "9e4e6532bb9e4e60bef7259607dee92c": {
          "model_module": "@jupyter-widgets/base",
          "model_module_version": "1.2.0",
          "model_name": "LayoutModel",
          "state": {
            "_model_module": "@jupyter-widgets/base",
            "_model_module_version": "1.2.0",
            "_model_name": "LayoutModel",
            "_view_count": null,
            "_view_module": "@jupyter-widgets/base",
            "_view_module_version": "1.2.0",
            "_view_name": "LayoutView",
            "align_content": null,
            "align_items": null,
            "align_self": null,
            "border": null,
            "bottom": null,
            "display": null,
            "flex": null,
            "flex_flow": null,
            "grid_area": null,
            "grid_auto_columns": null,
            "grid_auto_flow": null,
            "grid_auto_rows": null,
            "grid_column": null,
            "grid_gap": null,
            "grid_row": null,
            "grid_template_areas": null,
            "grid_template_columns": null,
            "grid_template_rows": null,
            "height": null,
            "justify_content": null,
            "justify_items": null,
            "left": null,
            "margin": null,
            "max_height": null,
            "max_width": null,
            "min_height": null,
            "min_width": null,
            "object_fit": null,
            "object_position": null,
            "order": null,
            "overflow": null,
            "overflow_x": null,
            "overflow_y": null,
            "padding": null,
            "right": null,
            "top": null,
            "visibility": null,
            "width": null
          }
        },
        "a2886ca0daf5431d978eec9c598bf7c9": {
          "model_module": "@jupyter-widgets/base",
          "model_module_version": "1.2.0",
          "model_name": "LayoutModel",
          "state": {
            "_model_module": "@jupyter-widgets/base",
            "_model_module_version": "1.2.0",
            "_model_name": "LayoutModel",
            "_view_count": null,
            "_view_module": "@jupyter-widgets/base",
            "_view_module_version": "1.2.0",
            "_view_name": "LayoutView",
            "align_content": null,
            "align_items": null,
            "align_self": null,
            "border": null,
            "bottom": null,
            "display": null,
            "flex": null,
            "flex_flow": null,
            "grid_area": null,
            "grid_auto_columns": null,
            "grid_auto_flow": null,
            "grid_auto_rows": null,
            "grid_column": null,
            "grid_gap": null,
            "grid_row": null,
            "grid_template_areas": null,
            "grid_template_columns": null,
            "grid_template_rows": null,
            "height": null,
            "justify_content": null,
            "justify_items": null,
            "left": null,
            "margin": null,
            "max_height": null,
            "max_width": null,
            "min_height": null,
            "min_width": null,
            "object_fit": null,
            "object_position": null,
            "order": null,
            "overflow": null,
            "overflow_x": null,
            "overflow_y": null,
            "padding": null,
            "right": null,
            "top": null,
            "visibility": null,
            "width": null
          }
        },
        "aacc2f1e3cc240e29fa9052d5a7155c1": {
          "model_module": "@jupyter-widgets/controls",
          "model_module_version": "1.5.0",
          "model_name": "HTMLModel",
          "state": {
            "_dom_classes": [],
            "_model_module": "@jupyter-widgets/controls",
            "_model_module_version": "1.5.0",
            "_model_name": "HTMLModel",
            "_view_count": null,
            "_view_module": "@jupyter-widgets/controls",
            "_view_module_version": "1.5.0",
            "_view_name": "HTMLView",
            "description": "",
            "description_tooltip": null,
            "layout": "IPY_MODEL_9e4e6532bb9e4e60bef7259607dee92c",
            "placeholder": "​",
            "style": "IPY_MODEL_c669e621d76e467f997c13dc4fade292",
            "value": "tokenizer.json: 100%"
          }
        },
        "b3aca99a9d3f42eaba7b5ac3592b7fd5": {
          "model_module": "@jupyter-widgets/controls",
          "model_module_version": "1.5.0",
          "model_name": "DescriptionStyleModel",
          "state": {
            "_model_module": "@jupyter-widgets/controls",
            "_model_module_version": "1.5.0",
            "_model_name": "DescriptionStyleModel",
            "_view_count": null,
            "_view_module": "@jupyter-widgets/base",
            "_view_module_version": "1.2.0",
            "_view_name": "StyleView",
            "description_width": ""
          }
        },
        "b6f66ade40e6450dbb3338aec38e4f73": {
          "model_module": "@jupyter-widgets/base",
          "model_module_version": "1.2.0",
          "model_name": "LayoutModel",
          "state": {
            "_model_module": "@jupyter-widgets/base",
            "_model_module_version": "1.2.0",
            "_model_name": "LayoutModel",
            "_view_count": null,
            "_view_module": "@jupyter-widgets/base",
            "_view_module_version": "1.2.0",
            "_view_name": "LayoutView",
            "align_content": null,
            "align_items": null,
            "align_self": null,
            "border": null,
            "bottom": null,
            "display": null,
            "flex": null,
            "flex_flow": null,
            "grid_area": null,
            "grid_auto_columns": null,
            "grid_auto_flow": null,
            "grid_auto_rows": null,
            "grid_column": null,
            "grid_gap": null,
            "grid_row": null,
            "grid_template_areas": null,
            "grid_template_columns": null,
            "grid_template_rows": null,
            "height": null,
            "justify_content": null,
            "justify_items": null,
            "left": null,
            "margin": null,
            "max_height": null,
            "max_width": null,
            "min_height": null,
            "min_width": null,
            "object_fit": null,
            "object_position": null,
            "order": null,
            "overflow": null,
            "overflow_x": null,
            "overflow_y": null,
            "padding": null,
            "right": null,
            "top": null,
            "visibility": null,
            "width": null
          }
        },
        "c1a38c5fc0eb425cbf9d943151c3243b": {
          "model_module": "@jupyter-widgets/controls",
          "model_module_version": "1.5.0",
          "model_name": "HTMLModel",
          "state": {
            "_dom_classes": [],
            "_model_module": "@jupyter-widgets/controls",
            "_model_module_version": "1.5.0",
            "_model_name": "HTMLModel",
            "_view_count": null,
            "_view_module": "@jupyter-widgets/controls",
            "_view_module_version": "1.5.0",
            "_view_name": "HTMLView",
            "description": "",
            "description_tooltip": null,
            "layout": "IPY_MODEL_77e275b17e2146649def9b062a4893e6",
            "placeholder": "​",
            "style": "IPY_MODEL_840a3712e82841d4b8e6268d43e371f5",
            "value": " 1.04M/1.04M [00:00&lt;00:00, 4.18MB/s]"
          }
        },
        "c2f23540e12f4dfea90d1b1260b37218": {
          "model_module": "@jupyter-widgets/controls",
          "model_module_version": "1.5.0",
          "model_name": "ProgressStyleModel",
          "state": {
            "_model_module": "@jupyter-widgets/controls",
            "_model_module_version": "1.5.0",
            "_model_name": "ProgressStyleModel",
            "_view_count": null,
            "_view_module": "@jupyter-widgets/base",
            "_view_module_version": "1.2.0",
            "_view_name": "StyleView",
            "bar_color": null,
            "description_width": ""
          }
        },
        "c5da4705ed0f4c5fac411a270a826ce6": {
          "model_module": "@jupyter-widgets/base",
          "model_module_version": "1.2.0",
          "model_name": "LayoutModel",
          "state": {
            "_model_module": "@jupyter-widgets/base",
            "_model_module_version": "1.2.0",
            "_model_name": "LayoutModel",
            "_view_count": null,
            "_view_module": "@jupyter-widgets/base",
            "_view_module_version": "1.2.0",
            "_view_name": "LayoutView",
            "align_content": null,
            "align_items": null,
            "align_self": null,
            "border": null,
            "bottom": null,
            "display": null,
            "flex": null,
            "flex_flow": null,
            "grid_area": null,
            "grid_auto_columns": null,
            "grid_auto_flow": null,
            "grid_auto_rows": null,
            "grid_column": null,
            "grid_gap": null,
            "grid_row": null,
            "grid_template_areas": null,
            "grid_template_columns": null,
            "grid_template_rows": null,
            "height": null,
            "justify_content": null,
            "justify_items": null,
            "left": null,
            "margin": null,
            "max_height": null,
            "max_width": null,
            "min_height": null,
            "min_width": null,
            "object_fit": null,
            "object_position": null,
            "order": null,
            "overflow": null,
            "overflow_x": null,
            "overflow_y": null,
            "padding": null,
            "right": null,
            "top": null,
            "visibility": null,
            "width": null
          }
        },
        "c669e621d76e467f997c13dc4fade292": {
          "model_module": "@jupyter-widgets/controls",
          "model_module_version": "1.5.0",
          "model_name": "DescriptionStyleModel",
          "state": {
            "_model_module": "@jupyter-widgets/controls",
            "_model_module_version": "1.5.0",
            "_model_name": "DescriptionStyleModel",
            "_view_count": null,
            "_view_module": "@jupyter-widgets/base",
            "_view_module_version": "1.2.0",
            "_view_name": "StyleView",
            "description_width": ""
          }
        },
        "cda8a3081df74c6d8dfefffbd4f77420": {
          "model_module": "@jupyter-widgets/controls",
          "model_module_version": "1.5.0",
          "model_name": "DescriptionStyleModel",
          "state": {
            "_model_module": "@jupyter-widgets/controls",
            "_model_module_version": "1.5.0",
            "_model_name": "DescriptionStyleModel",
            "_view_count": null,
            "_view_module": "@jupyter-widgets/base",
            "_view_module_version": "1.2.0",
            "_view_name": "StyleView",
            "description_width": ""
          }
        },
        "ce067dc2eae6479b8ee5e4a2382e5830": {
          "model_module": "@jupyter-widgets/base",
          "model_module_version": "1.2.0",
          "model_name": "LayoutModel",
          "state": {
            "_model_module": "@jupyter-widgets/base",
            "_model_module_version": "1.2.0",
            "_model_name": "LayoutModel",
            "_view_count": null,
            "_view_module": "@jupyter-widgets/base",
            "_view_module_version": "1.2.0",
            "_view_name": "LayoutView",
            "align_content": null,
            "align_items": null,
            "align_self": null,
            "border": null,
            "bottom": null,
            "display": null,
            "flex": null,
            "flex_flow": null,
            "grid_area": null,
            "grid_auto_columns": null,
            "grid_auto_flow": null,
            "grid_auto_rows": null,
            "grid_column": null,
            "grid_gap": null,
            "grid_row": null,
            "grid_template_areas": null,
            "grid_template_columns": null,
            "grid_template_rows": null,
            "height": null,
            "justify_content": null,
            "justify_items": null,
            "left": null,
            "margin": null,
            "max_height": null,
            "max_width": null,
            "min_height": null,
            "min_width": null,
            "object_fit": null,
            "object_position": null,
            "order": null,
            "overflow": null,
            "overflow_x": null,
            "overflow_y": null,
            "padding": null,
            "right": null,
            "top": null,
            "visibility": null,
            "width": null
          }
        },
        "d0469e13b36a407c8580a0dff8ca77da": {
          "model_module": "@jupyter-widgets/base",
          "model_module_version": "1.2.0",
          "model_name": "LayoutModel",
          "state": {
            "_model_module": "@jupyter-widgets/base",
            "_model_module_version": "1.2.0",
            "_model_name": "LayoutModel",
            "_view_count": null,
            "_view_module": "@jupyter-widgets/base",
            "_view_module_version": "1.2.0",
            "_view_name": "LayoutView",
            "align_content": null,
            "align_items": null,
            "align_self": null,
            "border": null,
            "bottom": null,
            "display": null,
            "flex": null,
            "flex_flow": null,
            "grid_area": null,
            "grid_auto_columns": null,
            "grid_auto_flow": null,
            "grid_auto_rows": null,
            "grid_column": null,
            "grid_gap": null,
            "grid_row": null,
            "grid_template_areas": null,
            "grid_template_columns": null,
            "grid_template_rows": null,
            "height": null,
            "justify_content": null,
            "justify_items": null,
            "left": null,
            "margin": null,
            "max_height": null,
            "max_width": null,
            "min_height": null,
            "min_width": null,
            "object_fit": null,
            "object_position": null,
            "order": null,
            "overflow": null,
            "overflow_x": null,
            "overflow_y": null,
            "padding": null,
            "right": null,
            "top": null,
            "visibility": null,
            "width": null
          }
        },
        "d143ed84f85941e0ae143e46acedd305": {
          "model_module": "@jupyter-widgets/controls",
          "model_module_version": "1.5.0",
          "model_name": "ProgressStyleModel",
          "state": {
            "_model_module": "@jupyter-widgets/controls",
            "_model_module_version": "1.5.0",
            "_model_name": "ProgressStyleModel",
            "_view_count": null,
            "_view_module": "@jupyter-widgets/base",
            "_view_module_version": "1.2.0",
            "_view_name": "StyleView",
            "bar_color": null,
            "description_width": ""
          }
        },
        "d4bf8253dd73435682ed8cb21b703cef": {
          "model_module": "@jupyter-widgets/controls",
          "model_module_version": "1.5.0",
          "model_name": "HTMLModel",
          "state": {
            "_dom_classes": [],
            "_model_module": "@jupyter-widgets/controls",
            "_model_module_version": "1.5.0",
            "_model_name": "HTMLModel",
            "_view_count": null,
            "_view_module": "@jupyter-widgets/controls",
            "_view_module_version": "1.5.0",
            "_view_name": "HTMLView",
            "description": "",
            "description_tooltip": null,
            "layout": "IPY_MODEL_0e53da5ce25847d989c34b5e042f2e51",
            "placeholder": "​",
            "style": "IPY_MODEL_b3aca99a9d3f42eaba7b5ac3592b7fd5",
            "value": " 456k/456k [00:00&lt;00:00, 5.34MB/s]"
          }
        },
        "d527b7a57e5a424fb87c8a617c2bbd7b": {
          "model_module": "@jupyter-widgets/controls",
          "model_module_version": "1.5.0",
          "model_name": "HBoxModel",
          "state": {
            "_dom_classes": [],
            "_model_module": "@jupyter-widgets/controls",
            "_model_module_version": "1.5.0",
            "_model_name": "HBoxModel",
            "_view_count": null,
            "_view_module": "@jupyter-widgets/controls",
            "_view_module_version": "1.5.0",
            "_view_name": "HBoxView",
            "box_style": "",
            "children": [
              "IPY_MODEL_30c172384d334b739033ee8b93ee4214",
              "IPY_MODEL_33d2439c5652459d9025fa5acd2007e2",
              "IPY_MODEL_e31bb579475c4313958f97d1f69c73aa"
            ],
            "layout": "IPY_MODEL_a2886ca0daf5431d978eec9c598bf7c9"
          }
        },
        "d6a2b79a3f084bd290a359f03fad2c05": {
          "model_module": "@jupyter-widgets/base",
          "model_module_version": "1.2.0",
          "model_name": "LayoutModel",
          "state": {
            "_model_module": "@jupyter-widgets/base",
            "_model_module_version": "1.2.0",
            "_model_name": "LayoutModel",
            "_view_count": null,
            "_view_module": "@jupyter-widgets/base",
            "_view_module_version": "1.2.0",
            "_view_name": "LayoutView",
            "align_content": null,
            "align_items": null,
            "align_self": null,
            "border": null,
            "bottom": null,
            "display": null,
            "flex": null,
            "flex_flow": null,
            "grid_area": null,
            "grid_auto_columns": null,
            "grid_auto_flow": null,
            "grid_auto_rows": null,
            "grid_column": null,
            "grid_gap": null,
            "grid_row": null,
            "grid_template_areas": null,
            "grid_template_columns": null,
            "grid_template_rows": null,
            "height": null,
            "justify_content": null,
            "justify_items": null,
            "left": null,
            "margin": null,
            "max_height": null,
            "max_width": null,
            "min_height": null,
            "min_width": null,
            "object_fit": null,
            "object_position": null,
            "order": null,
            "overflow": null,
            "overflow_x": null,
            "overflow_y": null,
            "padding": null,
            "right": null,
            "top": null,
            "visibility": null,
            "width": null
          }
        },
        "d9fc2df711aa4d32bba9ed17d1e3064f": {
          "model_module": "@jupyter-widgets/controls",
          "model_module_version": "1.5.0",
          "model_name": "ProgressStyleModel",
          "state": {
            "_model_module": "@jupyter-widgets/controls",
            "_model_module_version": "1.5.0",
            "_model_name": "ProgressStyleModel",
            "_view_count": null,
            "_view_module": "@jupyter-widgets/base",
            "_view_module_version": "1.2.0",
            "_view_name": "StyleView",
            "bar_color": null,
            "description_width": ""
          }
        },
        "df112c52807445c5bd473e96c935e292": {
          "model_module": "@jupyter-widgets/controls",
          "model_module_version": "1.5.0",
          "model_name": "HBoxModel",
          "state": {
            "_dom_classes": [],
            "_model_module": "@jupyter-widgets/controls",
            "_model_module_version": "1.5.0",
            "_model_name": "HBoxModel",
            "_view_count": null,
            "_view_module": "@jupyter-widgets/controls",
            "_view_module_version": "1.5.0",
            "_view_name": "HBoxView",
            "box_style": "",
            "children": [
              "IPY_MODEL_9457d908b25043a188ad4b6d69881be3",
              "IPY_MODEL_1305234f460a450ca009eb4cc4f7e650",
              "IPY_MODEL_8948172fc2884cafb132f308e2aa0dd8"
            ],
            "layout": "IPY_MODEL_d6a2b79a3f084bd290a359f03fad2c05"
          }
        },
        "e31bb579475c4313958f97d1f69c73aa": {
          "model_module": "@jupyter-widgets/controls",
          "model_module_version": "1.5.0",
          "model_name": "HTMLModel",
          "state": {
            "_dom_classes": [],
            "_model_module": "@jupyter-widgets/controls",
            "_model_module_version": "1.5.0",
            "_model_name": "HTMLModel",
            "_view_count": null,
            "_view_module": "@jupyter-widgets/controls",
            "_view_module_version": "1.5.0",
            "_view_name": "HTMLView",
            "description": "",
            "description_tooltip": null,
            "layout": "IPY_MODEL_e3764bf5e7984de4b4f2975150a4696c",
            "placeholder": "​",
            "style": "IPY_MODEL_0855e826e6b341c3aa2faa7a430024ed",
            "value": " 548M/548M [00:01&lt;00:00, 326MB/s]"
          }
        },
        "e3764bf5e7984de4b4f2975150a4696c": {
          "model_module": "@jupyter-widgets/base",
          "model_module_version": "1.2.0",
          "model_name": "LayoutModel",
          "state": {
            "_model_module": "@jupyter-widgets/base",
            "_model_module_version": "1.2.0",
            "_model_name": "LayoutModel",
            "_view_count": null,
            "_view_module": "@jupyter-widgets/base",
            "_view_module_version": "1.2.0",
            "_view_name": "LayoutView",
            "align_content": null,
            "align_items": null,
            "align_self": null,
            "border": null,
            "bottom": null,
            "display": null,
            "flex": null,
            "flex_flow": null,
            "grid_area": null,
            "grid_auto_columns": null,
            "grid_auto_flow": null,
            "grid_auto_rows": null,
            "grid_column": null,
            "grid_gap": null,
            "grid_row": null,
            "grid_template_areas": null,
            "grid_template_columns": null,
            "grid_template_rows": null,
            "height": null,
            "justify_content": null,
            "justify_items": null,
            "left": null,
            "margin": null,
            "max_height": null,
            "max_width": null,
            "min_height": null,
            "min_width": null,
            "object_fit": null,
            "object_position": null,
            "order": null,
            "overflow": null,
            "overflow_x": null,
            "overflow_y": null,
            "padding": null,
            "right": null,
            "top": null,
            "visibility": null,
            "width": null
          }
        },
        "eb65d580fa3943e9bd39fd1343ef59cb": {
          "model_module": "@jupyter-widgets/controls",
          "model_module_version": "1.5.0",
          "model_name": "FloatProgressModel",
          "state": {
            "_dom_classes": [],
            "_model_module": "@jupyter-widgets/controls",
            "_model_module_version": "1.5.0",
            "_model_name": "FloatProgressModel",
            "_view_count": null,
            "_view_module": "@jupyter-widgets/controls",
            "_view_module_version": "1.5.0",
            "_view_name": "ProgressView",
            "bar_style": "success",
            "description": "",
            "description_tooltip": null,
            "layout": "IPY_MODEL_d0469e13b36a407c8580a0dff8ca77da",
            "max": 1042301,
            "min": 0,
            "orientation": "horizontal",
            "style": "IPY_MODEL_c2f23540e12f4dfea90d1b1260b37218",
            "value": 1042301
          }
        },
        "eba17078122c4d688fc378ed7aa83298": {
          "model_module": "@jupyter-widgets/controls",
          "model_module_version": "1.5.0",
          "model_name": "HTMLModel",
          "state": {
            "_dom_classes": [],
            "_model_module": "@jupyter-widgets/controls",
            "_model_module_version": "1.5.0",
            "_model_name": "HTMLModel",
            "_view_count": null,
            "_view_module": "@jupyter-widgets/controls",
            "_view_module_version": "1.5.0",
            "_view_name": "HTMLView",
            "description": "",
            "description_tooltip": null,
            "layout": "IPY_MODEL_88dccf9d743d450083623ef3d82a32ae",
            "placeholder": "​",
            "style": "IPY_MODEL_cda8a3081df74c6d8dfefffbd4f77420",
            "value": "config.json: 100%"
          }
        },
        "eee69b91355a4c47932f1c895bd9fcb8": {
          "model_module": "@jupyter-widgets/base",
          "model_module_version": "1.2.0",
          "model_name": "LayoutModel",
          "state": {
            "_model_module": "@jupyter-widgets/base",
            "_model_module_version": "1.2.0",
            "_model_name": "LayoutModel",
            "_view_count": null,
            "_view_module": "@jupyter-widgets/base",
            "_view_module_version": "1.2.0",
            "_view_name": "LayoutView",
            "align_content": null,
            "align_items": null,
            "align_self": null,
            "border": null,
            "bottom": null,
            "display": null,
            "flex": null,
            "flex_flow": null,
            "grid_area": null,
            "grid_auto_columns": null,
            "grid_auto_flow": null,
            "grid_auto_rows": null,
            "grid_column": null,
            "grid_gap": null,
            "grid_row": null,
            "grid_template_areas": null,
            "grid_template_columns": null,
            "grid_template_rows": null,
            "height": null,
            "justify_content": null,
            "justify_items": null,
            "left": null,
            "margin": null,
            "max_height": null,
            "max_width": null,
            "min_height": null,
            "min_width": null,
            "object_fit": null,
            "object_position": null,
            "order": null,
            "overflow": null,
            "overflow_x": null,
            "overflow_y": null,
            "padding": null,
            "right": null,
            "top": null,
            "visibility": null,
            "width": null
          }
        },
        "f60ae653f72749b2812c61683a9b2a06": {
          "model_module": "@jupyter-widgets/controls",
          "model_module_version": "1.5.0",
          "model_name": "HTMLModel",
          "state": {
            "_dom_classes": [],
            "_model_module": "@jupyter-widgets/controls",
            "_model_module_version": "1.5.0",
            "_model_name": "HTMLModel",
            "_view_count": null,
            "_view_module": "@jupyter-widgets/controls",
            "_view_module_version": "1.5.0",
            "_view_name": "HTMLView",
            "description": "",
            "description_tooltip": null,
            "layout": "IPY_MODEL_4c1747be06324607adccc1427188134c",
            "placeholder": "​",
            "style": "IPY_MODEL_0c63f3e82fe048d2b00d7eb76a460b18",
            "value": " 1.36M/1.36M [00:00&lt;00:00, 4.12MB/s]"
          }
        },
        "f7971faf4ef441a4a63ff0f72a78bf2e": {
          "model_module": "@jupyter-widgets/controls",
          "model_module_version": "1.5.0",
          "model_name": "FloatProgressModel",
          "state": {
            "_dom_classes": [],
            "_model_module": "@jupyter-widgets/controls",
            "_model_module_version": "1.5.0",
            "_model_name": "FloatProgressModel",
            "_view_count": null,
            "_view_module": "@jupyter-widgets/controls",
            "_view_module_version": "1.5.0",
            "_view_name": "ProgressView",
            "bar_style": "success",
            "description": "",
            "description_tooltip": null,
            "layout": "IPY_MODEL_b6f66ade40e6450dbb3338aec38e4f73",
            "max": 1355256,
            "min": 0,
            "orientation": "horizontal",
            "style": "IPY_MODEL_643e85443713451aaf121b9f03abba1c",
            "value": 1355256
          }
        },
        "f8cb753aa8ba4cdf96855d19fbf65ebb": {
          "model_module": "@jupyter-widgets/controls",
          "model_module_version": "1.5.0",
          "model_name": "HTMLModel",
          "state": {
            "_dom_classes": [],
            "_model_module": "@jupyter-widgets/controls",
            "_model_module_version": "1.5.0",
            "_model_name": "HTMLModel",
            "_view_count": null,
            "_view_module": "@jupyter-widgets/controls",
            "_view_module_version": "1.5.0",
            "_view_name": "HTMLView",
            "description": "",
            "description_tooltip": null,
            "layout": "IPY_MODEL_3601e8f830b541ebb226c4b4654c6c4f",
            "placeholder": "​",
            "style": "IPY_MODEL_42fcbda53e0e44d39e42d5d6ae64dc7f",
            "value": " 665/665 [00:00&lt;00:00, 60.3kB/s]"
          }
        },
        "fbe94eef41a0490a84f7885a9a3fe88c": {
          "model_module": "@jupyter-widgets/controls",
          "model_module_version": "1.5.0",
          "model_name": "HBoxModel",
          "state": {
            "_dom_classes": [],
            "_model_module": "@jupyter-widgets/controls",
            "_model_module_version": "1.5.0",
            "_model_name": "HBoxModel",
            "_view_count": null,
            "_view_module": "@jupyter-widgets/controls",
            "_view_module_version": "1.5.0",
            "_view_name": "HBoxView",
            "box_style": "",
            "children": [
              "IPY_MODEL_eba17078122c4d688fc378ed7aa83298",
              "IPY_MODEL_83642cd43a5341638a4bd23501e37d28",
              "IPY_MODEL_f8cb753aa8ba4cdf96855d19fbf65ebb"
            ],
            "layout": "IPY_MODEL_eee69b91355a4c47932f1c895bd9fcb8"
          }
        }
      }
    }
  },
  "nbformat": 4,
  "nbformat_minor": 0
}
