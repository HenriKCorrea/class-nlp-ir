{
  "cells": [
    {
      "cell_type": "markdown",
      "metadata": {
        "id": "EiLOq51Z9gHU"
      },
      "source": [
        "**CMP617**\n",
        "\n",
        "\n",
        "\n",
        "Objetivo: Gerar um classificador de polaridade utilizando word embeddings e LSTM"
      ]
    },
    {
      "cell_type": "markdown",
      "metadata": {
        "id": "QX6EBvN2O2RS"
      },
      "source": [
        "#Ambiente"
      ]
    },
    {
      "cell_type": "code",
      "execution_count": null,
      "metadata": {},
      "outputs": [],
      "source": [
        "# Install environment dependencies\n",
        "%pip install unidecode nltk pandas numpy matplotlib seaborn scikit-learn yellowbrick setuptools plotly gensim==4.3.1 scipy==1.10.1"
      ]
    },
    {
      "cell_type": "code",
      "execution_count": null,
      "metadata": {
        "id": "QbNeBVcgtyFC"
      },
      "outputs": [],
      "source": [
        "import pandas as pd\n",
        "import numpy as np\n",
        "import seaborn as sns\n",
        "import os"
      ]
    },
    {
      "cell_type": "markdown",
      "metadata": {
        "id": "JMhsfGp0v9Q0"
      },
      "source": [
        "# Datasets"
      ]
    },
    {
      "cell_type": "markdown",
      "metadata": {
        "id": "Gzls6277tPMZ"
      },
      "source": [
        "## AmericanasBR"
      ]
    },
    {
      "cell_type": "code",
      "execution_count": null,
      "metadata": {
        "colab": {
          "base_uri": "https://localhost:8080/"
        },
        "id": "1FlM6h2tJiAr",
        "outputId": "f77ab484-30b8-42db-d89c-629cceb9bfa3"
      },
      "outputs": [
        {
          "name": "stdout",
          "output_type": "stream",
          "text": [
            "  % Total    % Received % Xferd  Average Speed   Time    Time     Time  Current\n",
            "                                 Dload  Upload   Total   Spent    Left  Speed\n",
            "100  981k  100  981k    0     0   214k      0  0:00:04  0:00:04 --:--:--  222k\n",
            "  % Total    % Received % Xferd  Average Speed   Time    Time     Time  Current\n",
            "                                 Dload  Upload   Total   Spent    Left  Speed\n",
            "100 1657k  100 1657k    0     0   422k      0  0:00:03  0:00:03 --:--:--  422k\n"
          ]
        }
      ],
      "source": [
        "#baixando os datasets\n",
        "!curl https://www.inf.ufrgs.br/~viviane/DS/B2W-Reviews01_binario_TEST.csv > B2W-Reviews01_binario_TEST.csv\n",
        "!curl https://www.inf.ufrgs.br/~viviane/DS/B2W-Reviews01_binario5000_TRAIN.csv > B2W-Reviews01_binario5000_TRAIN.csv"
      ]
    },
    {
      "cell_type": "code",
      "execution_count": null,
      "metadata": {
        "id": "jSVPHBniLnjS"
      },
      "outputs": [],
      "source": [
        "df_train = pd.read_csv('B2W-Reviews01_binario5000_TRAIN.csv')\n",
        "df_test = pd.read_csv('B2W-Reviews01_binario_TEST.csv')"
      ]
    },
    {
      "cell_type": "markdown",
      "metadata": {
        "id": "3yjZ8ogxsFAi"
      },
      "source": [
        "# Classificação com embeddings"
      ]
    },
    {
      "cell_type": "code",
      "execution_count": null,
      "metadata": {
        "id": "o9_WxCdapH1R"
      },
      "outputs": [],
      "source": [
        "from sklearn.model_selection import train_test_split\n",
        "import random\n",
        "import tensorflow as tf\n",
        "import numpy as np\n",
        "from tensorflow import keras\n",
        "from keras.layers import TextVectorization\n",
        "from keras.layers import Embedding\n"
      ]
    },
    {
      "cell_type": "code",
      "execution_count": null,
      "metadata": {
        "id": "pfFiPVQhHwNR"
      },
      "outputs": [],
      "source": [
        "import matplotlib.pyplot as plt\n",
        "\n",
        "def plot_graphs(history, metric):\n",
        "  plt.plot(history.history[metric])\n",
        "  plt.plot(history.history['val_'+metric], '')\n",
        "  plt.xlabel(\"Epocas\")\n",
        "  plt.ylabel(metric)\n",
        "  plt.legend([metric, 'val_'+metric])"
      ]
    },
    {
      "cell_type": "markdown",
      "metadata": {
        "id": "0tW88oEgb6u0"
      },
      "source": [
        "## Pré-processamento\n",
        "\n",
        "Atividade opcional: verificar resultado com script de pré-processamento do [NILC](http://www.nilc.icmc.usp.br/embeddings)."
      ]
    },
    {
      "cell_type": "code",
      "execution_count": null,
      "metadata": {
        "id": "3VxFjeTXc00p"
      },
      "outputs": [],
      "source": [
        "import re"
      ]
    },
    {
      "cell_type": "code",
      "execution_count": null,
      "metadata": {
        "colab": {
          "base_uri": "https://localhost:8080/"
        },
        "id": "HcBcy7QsW-x5",
        "outputId": "1de8c860-d5e3-45e1-9ede-984ecf43bb3f"
      },
      "outputs": [
        {
          "data": {
            "text/plain": [
              "10000"
            ]
          },
          "execution_count": 7,
          "metadata": {},
          "output_type": "execute_result"
        }
      ],
      "source": [
        "from pandas.core.common import random_state\n",
        "#função de pré-processamento\n",
        "special_chars = \"¨'!#$%&()*+,-./:;<=>?@[\\]^_`{|}~\"\n",
        "# stop_words = stopwords.words('portuguese')\n",
        "def preprocess(x):\n",
        "    new_x = x.replace('\"',' ')\n",
        "    for c in special_chars:\n",
        "        new_x = new_x.replace(c,' ')\n",
        "    # new_x = ' '.join([word for word in nltk.word_tokenize(new_x.lower(),language='portuguese') if word not in stop_words]) #removendo stop words\n",
        "    new_x = re.sub(r'[^\\w\\s]', ' ', new_x) #removendo pontuação do texto\n",
        "    new_x = re.sub(\"http\\S+\", ' ',new_x) # remove links\n",
        "    new_x = re.sub(\"@\\w+\", ' ',new_x) # remove contas com @\n",
        "    new_x = re.sub('#\\S+', ' ',new_x) # hashtags\n",
        "    new_x = re.sub('[0-9]+', ' ',new_x) # remove numeros e palavras com numeros\n",
        "    #new_x = unidecode(new_x) #acentos\n",
        "    new_x = re.sub(\"\\s+\", ' ',new_x) # espaços\n",
        "    new_x = new_x.strip()\n",
        "    new_x = new_x.lower()\n",
        "    return new_x\n",
        "\n",
        "#pré-processar datasets de treino e teste\n",
        "df_train['text_original'] = df_train['text']\n",
        "df_train['text'] = df_train['text'].apply(preprocess)\n",
        "\n",
        "df_test['text_original'] = df_test['text']\n",
        "df_test['text'] = df_test['text'].apply(preprocess)\n",
        "\n",
        "df_train = df_train.sample(n=len(df_train), random_state=42).copy()\n",
        "df_train.reset_index(drop=True, inplace=True)\n",
        "len(df_train)"
      ]
    },
    {
      "cell_type": "code",
      "execution_count": null,
      "metadata": {
        "colab": {
          "base_uri": "https://localhost:8080/"
        },
        "id": "dfIU5zykNU3w",
        "outputId": "86165116-81fa-47e3-b60d-4298eb796e97"
      },
      "outputs": [
        {
          "data": {
            "text/plain": [
              "9996"
            ]
          },
          "execution_count": 8,
          "metadata": {},
          "output_type": "execute_result"
        }
      ],
      "source": [
        "# remove instâncias com texto com comprimento zero ou nulo\n",
        "df_train = df_train[df_train['text']!='']\n",
        "df_train = df_train[~df_train['text'].isna()]\n",
        "df_train.reset_index(drop=True, inplace=True) # reindexa dataframe\n",
        "len(df_train)"
      ]
    },
    {
      "cell_type": "code",
      "execution_count": null,
      "metadata": {
        "colab": {
          "base_uri": "https://localhost:8080/"
        },
        "id": "at0DPjKFgwEv",
        "outputId": "0f409a06-04af-4e50-8d5d-2fd4c7b49477"
      },
      "outputs": [
        {
          "data": {
            "text/plain": [
              "9926"
            ]
          },
          "execution_count": 9,
          "metadata": {},
          "output_type": "execute_result"
        }
      ],
      "source": [
        "# remove duplicidades\n",
        "dup = df_train[df_train.duplicated(subset=['text'])]\n",
        "df_train = df_train.drop(dup.index)\n",
        "df_train.reset_index(drop=True, inplace=True) # reindexa dataframe\n",
        "len(df_train)"
      ]
    },
    {
      "cell_type": "markdown",
      "metadata": {
        "id": "8PE56gma08mC"
      },
      "source": [
        "## Preparando os datasets\n"
      ]
    },
    {
      "cell_type": "code",
      "execution_count": null,
      "metadata": {
        "colab": {
          "base_uri": "https://localhost:8080/"
        },
        "id": "ccejxiLIfYCN",
        "outputId": "59dd6fa4-eb3b-4574-bb22-99eeedef23f6"
      },
      "outputs": [
        {
          "data": {
            "text/plain": [
              "(9926, 6000)"
            ]
          },
          "execution_count": 10,
          "metadata": {},
          "output_type": "execute_result"
        }
      ],
      "source": [
        "len(df_train), len(df_test)"
      ]
    },
    {
      "cell_type": "code",
      "execution_count": null,
      "metadata": {
        "colab": {
          "base_uri": "https://localhost:8080/",
          "height": 206
        },
        "id": "FXk-XuI_fdBu",
        "outputId": "22392292-4ad1-4b16-d917-900489277fac"
      },
      "outputs": [
        {
          "data": {
            "application/vnd.google.colaboratory.intrinsic+json": {
              "summary": "{\n  \"name\": \"df_train\",\n  \"rows\": 5,\n  \"fields\": [\n    {\n      \"column\": \"label\",\n      \"properties\": {\n        \"dtype\": \"number\",\n        \"std\": 0,\n        \"min\": 0,\n        \"max\": 1,\n        \"num_unique_values\": 2,\n        \"samples\": [\n          0,\n          1\n        ],\n        \"semantic_type\": \"\",\n        \"description\": \"\"\n      }\n    },\n    {\n      \"column\": \"text\",\n      \"properties\": {\n        \"dtype\": \"string\",\n        \"num_unique_values\": 5,\n        \"samples\": [\n          \"lojas americanas esta de parab\\u00e9ns entrega super rapida\",\n          \"muito pr\\u00e1tico e faz bem o que prop\\u00f5e os copos um pouco fracos\"\n        ],\n        \"semantic_type\": \"\",\n        \"description\": \"\"\n      }\n    },\n    {\n      \"column\": \"label_descr\",\n      \"properties\": {\n        \"dtype\": \"category\",\n        \"num_unique_values\": 2,\n        \"samples\": [\n          \"negativo\",\n          \"positivo\"\n        ],\n        \"semantic_type\": \"\",\n        \"description\": \"\"\n      }\n    },\n    {\n      \"column\": \"text_original\",\n      \"properties\": {\n        \"dtype\": \"string\",\n        \"num_unique_values\": 5,\n        \"samples\": [\n          \"lojas americanas esta de parab\\u00e9ns entrega super rapida\",\n          \"Muito pr\\u00e1tico e faz bem o que prop\\u00f5e. Os copos um pouco fracos.\"\n        ],\n        \"semantic_type\": \"\",\n        \"description\": \"\"\n      }\n    }\n  ]\n}",
              "type": "dataframe"
            },
            "text/html": [
              "\n",
              "  <div id=\"df-333abebd-26be-4fa2-a54d-69b54e51032c\" class=\"colab-df-container\">\n",
              "    <div>\n",
              "<style scoped>\n",
              "    .dataframe tbody tr th:only-of-type {\n",
              "        vertical-align: middle;\n",
              "    }\n",
              "\n",
              "    .dataframe tbody tr th {\n",
              "        vertical-align: top;\n",
              "    }\n",
              "\n",
              "    .dataframe thead th {\n",
              "        text-align: right;\n",
              "    }\n",
              "</style>\n",
              "<table border=\"1\" class=\"dataframe\">\n",
              "  <thead>\n",
              "    <tr style=\"text-align: right;\">\n",
              "      <th></th>\n",
              "      <th>label</th>\n",
              "      <th>text</th>\n",
              "      <th>label_descr</th>\n",
              "      <th>text_original</th>\n",
              "    </tr>\n",
              "  </thead>\n",
              "  <tbody>\n",
              "    <tr>\n",
              "      <th>8117</th>\n",
              "      <td>1</td>\n",
              "      <td>a distribuição das peças de reposição é muito ...</td>\n",
              "      <td>positivo</td>\n",
              "      <td>A distribuição das peças de reposição é muito ...</td>\n",
              "    </tr>\n",
              "    <tr>\n",
              "      <th>5183</th>\n",
              "      <td>1</td>\n",
              "      <td>lojas americanas esta de parabéns entrega supe...</td>\n",
              "      <td>positivo</td>\n",
              "      <td>lojas americanas esta de parabéns entrega supe...</td>\n",
              "    </tr>\n",
              "    <tr>\n",
              "      <th>6284</th>\n",
              "      <td>0</td>\n",
              "      <td>o forno não assa de forma homogênea conforme a...</td>\n",
              "      <td>negativo</td>\n",
              "      <td>O forno não assa de forma homogênea conforme a...</td>\n",
              "    </tr>\n",
              "    <tr>\n",
              "      <th>7902</th>\n",
              "      <td>0</td>\n",
              "      <td>péssimo fornecedor carente de idoneidade merca...</td>\n",
              "      <td>negativo</td>\n",
              "      <td>Péssimo fornecedor, carente de idoneidade, Mer...</td>\n",
              "    </tr>\n",
              "    <tr>\n",
              "      <th>5704</th>\n",
              "      <td>1</td>\n",
              "      <td>muito prático e faz bem o que propõe os copos ...</td>\n",
              "      <td>positivo</td>\n",
              "      <td>Muito prático e faz bem o que propõe. Os copos...</td>\n",
              "    </tr>\n",
              "  </tbody>\n",
              "</table>\n",
              "</div>\n",
              "    <div class=\"colab-df-buttons\">\n",
              "\n",
              "  <div class=\"colab-df-container\">\n",
              "    <button class=\"colab-df-convert\" onclick=\"convertToInteractive('df-333abebd-26be-4fa2-a54d-69b54e51032c')\"\n",
              "            title=\"Convert this dataframe to an interactive table.\"\n",
              "            style=\"display:none;\">\n",
              "\n",
              "  <svg xmlns=\"http://www.w3.org/2000/svg\" height=\"24px\" viewBox=\"0 -960 960 960\">\n",
              "    <path d=\"M120-120v-720h720v720H120Zm60-500h600v-160H180v160Zm220 220h160v-160H400v160Zm0 220h160v-160H400v160ZM180-400h160v-160H180v160Zm440 0h160v-160H620v160ZM180-180h160v-160H180v160Zm440 0h160v-160H620v160Z\"/>\n",
              "  </svg>\n",
              "    </button>\n",
              "\n",
              "  <style>\n",
              "    .colab-df-container {\n",
              "      display:flex;\n",
              "      gap: 12px;\n",
              "    }\n",
              "\n",
              "    .colab-df-convert {\n",
              "      background-color: #E8F0FE;\n",
              "      border: none;\n",
              "      border-radius: 50%;\n",
              "      cursor: pointer;\n",
              "      display: none;\n",
              "      fill: #1967D2;\n",
              "      height: 32px;\n",
              "      padding: 0 0 0 0;\n",
              "      width: 32px;\n",
              "    }\n",
              "\n",
              "    .colab-df-convert:hover {\n",
              "      background-color: #E2EBFA;\n",
              "      box-shadow: 0px 1px 2px rgba(60, 64, 67, 0.3), 0px 1px 3px 1px rgba(60, 64, 67, 0.15);\n",
              "      fill: #174EA6;\n",
              "    }\n",
              "\n",
              "    .colab-df-buttons div {\n",
              "      margin-bottom: 4px;\n",
              "    }\n",
              "\n",
              "    [theme=dark] .colab-df-convert {\n",
              "      background-color: #3B4455;\n",
              "      fill: #D2E3FC;\n",
              "    }\n",
              "\n",
              "    [theme=dark] .colab-df-convert:hover {\n",
              "      background-color: #434B5C;\n",
              "      box-shadow: 0px 1px 3px 1px rgba(0, 0, 0, 0.15);\n",
              "      filter: drop-shadow(0px 1px 2px rgba(0, 0, 0, 0.3));\n",
              "      fill: #FFFFFF;\n",
              "    }\n",
              "  </style>\n",
              "\n",
              "    <script>\n",
              "      const buttonEl =\n",
              "        document.querySelector('#df-333abebd-26be-4fa2-a54d-69b54e51032c button.colab-df-convert');\n",
              "      buttonEl.style.display =\n",
              "        google.colab.kernel.accessAllowed ? 'block' : 'none';\n",
              "\n",
              "      async function convertToInteractive(key) {\n",
              "        const element = document.querySelector('#df-333abebd-26be-4fa2-a54d-69b54e51032c');\n",
              "        const dataTable =\n",
              "          await google.colab.kernel.invokeFunction('convertToInteractive',\n",
              "                                                    [key], {});\n",
              "        if (!dataTable) return;\n",
              "\n",
              "        const docLinkHtml = 'Like what you see? Visit the ' +\n",
              "          '<a target=\"_blank\" href=https://colab.research.google.com/notebooks/data_table.ipynb>data table notebook</a>'\n",
              "          + ' to learn more about interactive tables.';\n",
              "        element.innerHTML = '';\n",
              "        dataTable['output_type'] = 'display_data';\n",
              "        await google.colab.output.renderOutput(dataTable, element);\n",
              "        const docLink = document.createElement('div');\n",
              "        docLink.innerHTML = docLinkHtml;\n",
              "        element.appendChild(docLink);\n",
              "      }\n",
              "    </script>\n",
              "  </div>\n",
              "\n",
              "\n",
              "<div id=\"df-fb27dfba-aa71-4656-818a-32e6a12d7b31\">\n",
              "  <button class=\"colab-df-quickchart\" onclick=\"quickchart('df-fb27dfba-aa71-4656-818a-32e6a12d7b31')\"\n",
              "            title=\"Suggest charts\"\n",
              "            style=\"display:none;\">\n",
              "\n",
              "<svg xmlns=\"http://www.w3.org/2000/svg\" height=\"24px\"viewBox=\"0 0 24 24\"\n",
              "     width=\"24px\">\n",
              "    <g>\n",
              "        <path d=\"M19 3H5c-1.1 0-2 .9-2 2v14c0 1.1.9 2 2 2h14c1.1 0 2-.9 2-2V5c0-1.1-.9-2-2-2zM9 17H7v-7h2v7zm4 0h-2V7h2v10zm4 0h-2v-4h2v4z\"/>\n",
              "    </g>\n",
              "</svg>\n",
              "  </button>\n",
              "\n",
              "<style>\n",
              "  .colab-df-quickchart {\n",
              "      --bg-color: #E8F0FE;\n",
              "      --fill-color: #1967D2;\n",
              "      --hover-bg-color: #E2EBFA;\n",
              "      --hover-fill-color: #174EA6;\n",
              "      --disabled-fill-color: #AAA;\n",
              "      --disabled-bg-color: #DDD;\n",
              "  }\n",
              "\n",
              "  [theme=dark] .colab-df-quickchart {\n",
              "      --bg-color: #3B4455;\n",
              "      --fill-color: #D2E3FC;\n",
              "      --hover-bg-color: #434B5C;\n",
              "      --hover-fill-color: #FFFFFF;\n",
              "      --disabled-bg-color: #3B4455;\n",
              "      --disabled-fill-color: #666;\n",
              "  }\n",
              "\n",
              "  .colab-df-quickchart {\n",
              "    background-color: var(--bg-color);\n",
              "    border: none;\n",
              "    border-radius: 50%;\n",
              "    cursor: pointer;\n",
              "    display: none;\n",
              "    fill: var(--fill-color);\n",
              "    height: 32px;\n",
              "    padding: 0;\n",
              "    width: 32px;\n",
              "  }\n",
              "\n",
              "  .colab-df-quickchart:hover {\n",
              "    background-color: var(--hover-bg-color);\n",
              "    box-shadow: 0 1px 2px rgba(60, 64, 67, 0.3), 0 1px 3px 1px rgba(60, 64, 67, 0.15);\n",
              "    fill: var(--button-hover-fill-color);\n",
              "  }\n",
              "\n",
              "  .colab-df-quickchart-complete:disabled,\n",
              "  .colab-df-quickchart-complete:disabled:hover {\n",
              "    background-color: var(--disabled-bg-color);\n",
              "    fill: var(--disabled-fill-color);\n",
              "    box-shadow: none;\n",
              "  }\n",
              "\n",
              "  .colab-df-spinner {\n",
              "    border: 2px solid var(--fill-color);\n",
              "    border-color: transparent;\n",
              "    border-bottom-color: var(--fill-color);\n",
              "    animation:\n",
              "      spin 1s steps(1) infinite;\n",
              "  }\n",
              "\n",
              "  @keyframes spin {\n",
              "    0% {\n",
              "      border-color: transparent;\n",
              "      border-bottom-color: var(--fill-color);\n",
              "      border-left-color: var(--fill-color);\n",
              "    }\n",
              "    20% {\n",
              "      border-color: transparent;\n",
              "      border-left-color: var(--fill-color);\n",
              "      border-top-color: var(--fill-color);\n",
              "    }\n",
              "    30% {\n",
              "      border-color: transparent;\n",
              "      border-left-color: var(--fill-color);\n",
              "      border-top-color: var(--fill-color);\n",
              "      border-right-color: var(--fill-color);\n",
              "    }\n",
              "    40% {\n",
              "      border-color: transparent;\n",
              "      border-right-color: var(--fill-color);\n",
              "      border-top-color: var(--fill-color);\n",
              "    }\n",
              "    60% {\n",
              "      border-color: transparent;\n",
              "      border-right-color: var(--fill-color);\n",
              "    }\n",
              "    80% {\n",
              "      border-color: transparent;\n",
              "      border-right-color: var(--fill-color);\n",
              "      border-bottom-color: var(--fill-color);\n",
              "    }\n",
              "    90% {\n",
              "      border-color: transparent;\n",
              "      border-bottom-color: var(--fill-color);\n",
              "    }\n",
              "  }\n",
              "</style>\n",
              "\n",
              "  <script>\n",
              "    async function quickchart(key) {\n",
              "      const quickchartButtonEl =\n",
              "        document.querySelector('#' + key + ' button');\n",
              "      quickchartButtonEl.disabled = true;  // To prevent multiple clicks.\n",
              "      quickchartButtonEl.classList.add('colab-df-spinner');\n",
              "      try {\n",
              "        const charts = await google.colab.kernel.invokeFunction(\n",
              "            'suggestCharts', [key], {});\n",
              "      } catch (error) {\n",
              "        console.error('Error during call to suggestCharts:', error);\n",
              "      }\n",
              "      quickchartButtonEl.classList.remove('colab-df-spinner');\n",
              "      quickchartButtonEl.classList.add('colab-df-quickchart-complete');\n",
              "    }\n",
              "    (() => {\n",
              "      let quickchartButtonEl =\n",
              "        document.querySelector('#df-fb27dfba-aa71-4656-818a-32e6a12d7b31 button');\n",
              "      quickchartButtonEl.style.display =\n",
              "        google.colab.kernel.accessAllowed ? 'block' : 'none';\n",
              "    })();\n",
              "  </script>\n",
              "</div>\n",
              "\n",
              "    </div>\n",
              "  </div>\n"
            ],
            "text/plain": [
              "      label                                               text label_descr  \\\n",
              "8117      1  a distribuição das peças de reposição é muito ...    positivo   \n",
              "5183      1  lojas americanas esta de parabéns entrega supe...    positivo   \n",
              "6284      0  o forno não assa de forma homogênea conforme a...    negativo   \n",
              "7902      0  péssimo fornecedor carente de idoneidade merca...    negativo   \n",
              "5704      1  muito prático e faz bem o que propõe os copos ...    positivo   \n",
              "\n",
              "                                          text_original  \n",
              "8117  A distribuição das peças de reposição é muito ...  \n",
              "5183  lojas americanas esta de parabéns entrega supe...  \n",
              "6284  O forno não assa de forma homogênea conforme a...  \n",
              "7902  Péssimo fornecedor, carente de idoneidade, Mer...  \n",
              "5704  Muito prático e faz bem o que propõe. Os copos...  "
            ]
          },
          "execution_count": 11,
          "metadata": {},
          "output_type": "execute_result"
        }
      ],
      "source": [
        "df_train.sample(n=5)"
      ]
    },
    {
      "cell_type": "markdown",
      "metadata": {
        "id": "0i6L0m5RBXkl"
      },
      "source": [
        "Separa treino em treino e validação. O conjunto de validação é ser usado durante treinamento da rede."
      ]
    },
    {
      "cell_type": "code",
      "execution_count": null,
      "metadata": {
        "colab": {
          "base_uri": "https://localhost:8080/"
        },
        "id": "qBavJoFYj1fb",
        "outputId": "a654c49f-757f-41d0-e3c1-4692021ac7a8"
      },
      "outputs": [
        {
          "data": {
            "text/plain": [
              "((7940,), (1986,), (6000,))"
            ]
          },
          "execution_count": 12,
          "metadata": {},
          "output_type": "execute_result"
        }
      ],
      "source": [
        "# split treino em: treino e val\n",
        "train_samples, val_samples, train_labels, val_labels = train_test_split(\n",
        "    df_train['text'].values, df_train['label'].values, test_size=0.2, random_state=42) #reprodutibilidade dos datasets gerados\n",
        "\n",
        "test_samples = df_test['text'].values\n",
        "test_labels = df_test['label'].values\n",
        "\n",
        "train_samples.shape, val_samples.shape, test_samples.shape"
      ]
    },
    {
      "cell_type": "code",
      "execution_count": null,
      "metadata": {
        "colab": {
          "base_uri": "https://localhost:8080/"
        },
        "id": "2n0TYFSUkRw0",
        "outputId": "b6b5f35e-e567-4c35-ca49-b247ef115d96"
      },
      "outputs": [
        {
          "data": {
            "text/plain": [
              "('péssimo pedi começo do ano e ainda tá aguardando nota fiscal com previsão de entrega só em abril como uma compradora regular do site estou insatisfeita',\n",
              " 'lamentavelmente na descrição do produto não informa que precisa utilizar o cabo usb e o vga sendo assim quando comprei o monitor tive que fazer um outro investimento do conversor de vga para hdmi pois meu notebook não tem entrada vga a americanas deveria informar no descritivo do produto essa questão pois o cliente não tem ciência do problema informado acima')"
            ]
          },
          "execution_count": 13,
          "metadata": {},
          "output_type": "execute_result"
        }
      ],
      "source": [
        "train_samples[10], val_samples[10]"
      ]
    },
    {
      "cell_type": "markdown",
      "metadata": {
        "id": "0pZaeOpplS6m"
      },
      "source": [
        "## Criando o codificador para o vocabulário\n",
        "\n",
        "O `vectorizer` é instanciado usando o `TextVectorization` do Keras que fará a indexação do vocabulario do dataset.\n",
        "\n",
        "Ou seja, `vectorizer` fará a codificação das instâncias. Aqui o vocabulário considera 20.000 palavras e fará o truncamento ou padding das instâncias para que todas tenham 128 tokens\n"
      ]
    },
    {
      "cell_type": "code",
      "execution_count": null,
      "metadata": {
        "id": "uJVUokDIlS6n"
      },
      "outputs": [],
      "source": [
        "MAX_LENGHT = 128\n",
        "vectorizer = TextVectorization(\n",
        "    max_tokens=20000, #vocabulário maximo\n",
        "    output_sequence_length=MAX_LENGHT,\n",
        "    )"
      ]
    },
    {
      "cell_type": "code",
      "execution_count": null,
      "metadata": {
        "colab": {
          "base_uri": "https://localhost:8080/"
        },
        "id": "ZwgrnFMzVmgo",
        "outputId": "279d20d0-cdad-43fe-cbac-e7846f371cf2"
      },
      "outputs": [
        {
          "data": {
            "text/plain": [
              "(2, ['', '[UNK]'])"
            ]
          },
          "execution_count": 15,
          "metadata": {},
          "output_type": "execute_result"
        }
      ],
      "source": [
        "# antes de adapatar vectorizer a um conjunto de textos o cvocabulario so tem 2 tokens:\n",
        "len(vectorizer.get_vocabulary()), vectorizer.get_vocabulary()"
      ]
    },
    {
      "cell_type": "code",
      "execution_count": null,
      "metadata": {
        "colab": {
          "base_uri": "https://localhost:8080/"
        },
        "id": "Q2oS-nj8PHHQ",
        "outputId": "debed25b-251a-4c5a-9d96-fdc4a970c7d9"
      },
      "outputs": [
        {
          "data": {
            "text/plain": [
              "12471"
            ]
          },
          "execution_count": 16,
          "metadata": {},
          "output_type": "execute_result"
        }
      ],
      "source": [
        "# adapapta:\n",
        "vectorizer.adapt(train_samples)\n",
        "len(vectorizer.get_vocabulary())"
      ]
    },
    {
      "cell_type": "code",
      "execution_count": null,
      "metadata": {
        "colab": {
          "base_uri": "https://localhost:8080/"
        },
        "id": "xaL18X8wlS6n",
        "outputId": "a1f85229-c38a-47ae-87c4-aa28555dffb0"
      },
      "outputs": [
        {
          "name": "stdout",
          "output_type": "stream",
          "text": [
            "Vocabulário tem 12471 tokens. Os primeiros 10 tokens são:\n"
          ]
        },
        {
          "data": {
            "text/plain": [
              "['',\n",
              " '[UNK]',\n",
              " np.str_('o'),\n",
              " np.str_('e'),\n",
              " np.str_('a'),\n",
              " np.str_('de'),\n",
              " np.str_('não'),\n",
              " np.str_('produto'),\n",
              " np.str_('que'),\n",
              " np.str_('muito'),\n",
              " np.str_('é'),\n",
              " np.str_('com'),\n",
              " np.str_('do'),\n",
              " np.str_('um'),\n",
              " np.str_('para'),\n",
              " np.str_('da'),\n",
              " np.str_('em'),\n",
              " np.str_('no'),\n",
              " np.str_('entrega'),\n",
              " np.str_('recomendo'),\n",
              " np.str_('mais'),\n",
              " np.str_('uma'),\n",
              " np.str_('na'),\n",
              " np.str_('bom'),\n",
              " np.str_('mas'),\n",
              " np.str_('chegou'),\n",
              " np.str_('foi'),\n",
              " np.str_('se'),\n",
              " np.str_('comprei'),\n",
              " np.str_('eu'),\n",
              " np.str_('qualidade'),\n",
              " np.str_('as'),\n",
              " np.str_('americanas'),\n",
              " np.str_('prazo'),\n",
              " np.str_('recebi'),\n",
              " np.str_('ainda'),\n",
              " np.str_('bem'),\n",
              " np.str_('me'),\n",
              " np.str_('já'),\n",
              " np.str_('tem'),\n",
              " np.str_('por'),\n",
              " np.str_('como'),\n",
              " np.str_('meu'),\n",
              " np.str_('estou'),\n",
              " np.str_('excelente'),\n",
              " np.str_('até'),\n",
              " np.str_('os'),\n",
              " np.str_('antes'),\n",
              " np.str_('compra'),\n",
              " np.str_('veio'),\n",
              " np.str_('pra'),\n",
              " np.str_('minha'),\n",
              " np.str_('super'),\n",
              " np.str_('sem'),\n",
              " np.str_('só'),\n",
              " np.str_('pois'),\n",
              " np.str_('ótimo'),\n",
              " np.str_('dia'),\n",
              " np.str_('gostei'),\n",
              " np.str_('nao'),\n",
              " np.str_('dias'),\n",
              " np.str_('ser'),\n",
              " np.str_('nem'),\n",
              " np.str_('boa'),\n",
              " np.str_('mesmo'),\n",
              " np.str_('ao'),\n",
              " np.str_('ele'),\n",
              " np.str_('nada'),\n",
              " np.str_('esse'),\n",
              " np.str_('está'),\n",
              " np.str_('comprar'),\n",
              " np.str_('loja'),\n",
              " np.str_('agora'),\n",
              " np.str_('site'),\n",
              " np.str_('ou'),\n",
              " np.str_('tudo'),\n",
              " np.str_('aparelho'),\n",
              " np.str_('pelo'),\n",
              " np.str_('celular'),\n",
              " np.str_('ter'),\n",
              " np.str_('quando'),\n",
              " np.str_('rápida'),\n",
              " np.str_('isso'),\n",
              " np.str_('tive'),\n",
              " np.str_('uso'),\n",
              " np.str_('preço'),\n",
              " np.str_('rápido'),\n",
              " np.str_('entregue'),\n",
              " np.str_('tenho'),\n",
              " np.str_('melhor'),\n",
              " np.str_('problema'),\n",
              " np.str_('funciona'),\n",
              " np.str_('ótima'),\n",
              " np.str_('minhas'),\n",
              " np.str_('das'),\n",
              " np.str_('era'),\n",
              " np.str_('tempo'),\n",
              " np.str_('q'),\n",
              " np.str_('fácil'),\n",
              " np.str_('defeito')]"
            ]
          },
          "execution_count": 17,
          "metadata": {},
          "output_type": "execute_result"
        }
      ],
      "source": [
        "# agora vemos os tokens do dataset começando pelos mais frequentes:\n",
        "voc = vectorizer.get_vocabulary()\n",
        "print(f'Vocabulário tem {len(voc)} tokens. Os primeiros 10 tokens são:')\n",
        "voc[:100]"
      ]
    },
    {
      "cell_type": "markdown",
      "metadata": {
        "id": "amIQbu-HlS6n"
      },
      "source": [
        "Vetorizando uma sentença:"
      ]
    },
    {
      "cell_type": "code",
      "execution_count": null,
      "metadata": {
        "colab": {
          "base_uri": "https://localhost:8080/"
        },
        "id": "fapfWXWLlS6n",
        "outputId": "043d6866-be4b-4157-956f-3eb66cd079bd"
      },
      "outputs": [
        {
          "data": {
            "text/plain": [
              "(TensorShape([1, 128]),\n",
              " <tf.Tensor: shape=(1, 128), dtype=int64, numpy=\n",
              " array([[2267,  691,   22,    1,    0,    0,    0,    0,    0,    0,    0,\n",
              "            0,    0,    0,    0,    0,    0,    0,    0,    0,    0,    0,\n",
              "            0,    0,    0,    0,    0,    0,    0,    0,    0,    0,    0,\n",
              "            0,    0,    0,    0,    0,    0,    0,    0,    0,    0,    0,\n",
              "            0,    0,    0,    0,    0,    0,    0,    0,    0,    0,    0,\n",
              "            0,    0,    0,    0,    0,    0,    0,    0,    0,    0,    0,\n",
              "            0,    0,    0,    0,    0,    0,    0,    0,    0,    0,    0,\n",
              "            0,    0,    0,    0,    0,    0,    0,    0,    0,    0,    0,\n",
              "            0,    0,    0,    0,    0,    0,    0,    0,    0,    0,    0,\n",
              "            0,    0,    0,    0,    0,    0,    0,    0,    0,    0,    0,\n",
              "            0,    0,    0,    0,    0,    0,    0,    0,    0,    0,    0,\n",
              "            0,    0,    0,    0,    0,    0,    0]])>)"
            ]
          },
          "execution_count": 18,
          "metadata": {},
          "output_type": "execute_result"
        }
      ],
      "source": [
        "output = vectorizer([[\"chuva forte na floresta\"]])\n",
        "output.shape, output"
      ]
    },
    {
      "cell_type": "code",
      "execution_count": null,
      "metadata": {
        "colab": {
          "base_uri": "https://localhost:8080/"
        },
        "id": "5Kpuk1y4N-t0",
        "outputId": "3231af4b-992e-4b9e-e6c3-d932aebdce0d"
      },
      "outputs": [
        {
          "data": {
            "text/plain": [
              "(np.str_('chuva'), np.str_('forte'), np.str_('na'), '[UNK]')"
            ]
          },
          "execution_count": 19,
          "metadata": {},
          "output_type": "execute_result"
        }
      ],
      "source": [
        "# conferindo as palavras que correnspodem a alguns dos índices gerados na condificação:\n",
        "voc[2267],voc[691], voc[22], voc[1]"
      ]
    },
    {
      "cell_type": "code",
      "execution_count": null,
      "metadata": {
        "colab": {
          "base_uri": "https://localhost:8080/"
        },
        "id": "AwVrcoM_lS6o",
        "outputId": "4461c593-76e1-412c-b079-825a954c87a9"
      },
      "outputs": [
        {
          "data": {
            "text/plain": [
              "12471"
            ]
          },
          "execution_count": 20,
          "metadata": {},
          "output_type": "execute_result"
        }
      ],
      "source": [
        "# um dicionario com todas as palavras do vocabulario e seus indices de 0 a len(voc)-1\n",
        "word_index = dict(zip(voc, range(len(voc))))\n",
        "len(voc)"
      ]
    },
    {
      "cell_type": "code",
      "execution_count": null,
      "metadata": {
        "colab": {
          "base_uri": "https://localhost:8080/"
        },
        "id": "qH4UeadIQpps",
        "outputId": "b2ab9dae-cfe4-45e5-f4f1-85b8cd98b6cd"
      },
      "outputs": [
        {
          "data": {
            "text/plain": [
              "2267"
            ]
          },
          "execution_count": 21,
          "metadata": {},
          "output_type": "execute_result"
        }
      ],
      "source": [
        "word_index['chuva']"
      ]
    },
    {
      "cell_type": "markdown",
      "metadata": {
        "id": "owZsRFiHlS6p"
      },
      "source": [
        "## Usando embeddings pré-treinadas\n",
        "####Há várias opções de embeddings já treinadas em português no site do NILC nesse [link](http://nilc.icmc.usp.br/nilc/index.php/repositorio-de-word-embeddings-do-nilc)"
      ]
    },
    {
      "cell_type": "code",
      "execution_count": null,
      "metadata": {
        "colab": {
          "base_uri": "https://localhost:8080/"
        },
        "id": "INmx9tQKrocB",
        "outputId": "b9495a60-2491-495f-d6d2-52679a0b9236"
      },
      "outputs": [
        {
          "name": "stdout",
          "output_type": "stream",
          "text": [
            "  % Total    % Received % Xferd  Average Speed   Time    Time     Time  Current\n",
            "                                 Dload  Upload   Total   Spent    Left  Speed\n",
            "100  299M  100  299M    0     0  10.4M      0  0:00:28  0:00:28 --:--:-- 11.2M\n",
            "Archive:  skip_s100.zip\n",
            "  inflating: skip_s100.txt           \n"
          ]
        }
      ],
      "source": [
        "#Opção 1: baixando as embeddings do NILC\n",
        "# !curl http://143.107.183.175:22980/download.php?file=embeddings/glove/glove_s100.zip > glove_s100.zip\n",
        "# !unzip -o glove_s100.zip\n",
        "\n",
        "!curl http://143.107.183.175:22980/download.php?file=embeddings/fasttext/skip_s100.zip > skip_s100.zip\n",
        "!unzip -o skip_s100.zip\n"
      ]
    },
    {
      "cell_type": "code",
      "execution_count": null,
      "metadata": {
        "id": "s2a_VogyM9Ex"
      },
      "outputs": [],
      "source": [
        "#embFile = 'fast_cbow_s50.txt'\n",
        "#embFile = 'fast_skip_s100.txt'\n",
        "embFile = 'skip_s100.txt'\n",
        "#embFile = 'w2v_skip_s300.txt'\n",
        "# embFile = 'glove_s100.txt'\n",
        "embedding_dim = 100\n"
      ]
    },
    {
      "cell_type": "code",
      "execution_count": null,
      "metadata": {
        "id": "XLkzZsJINL52"
      },
      "outputs": [],
      "source": [
        "#Opção 2 para quem tem as embeddings no seu drive\n",
        "# from google.colab import drive\n",
        "# drive.mount('/content/drive')\n",
        "# embFile = f\"/content/drive/MyDrive/Colab Notebooks/embeddings/{embFile}\""
      ]
    },
    {
      "cell_type": "code",
      "execution_count": null,
      "metadata": {
        "colab": {
          "base_uri": "https://localhost:8080/"
        },
        "id": "76JBEOqElS6p",
        "outputId": "56813436-5970-436c-98f4-5ca57727d477"
      },
      "outputs": [
        {
          "name": "stdout",
          "output_type": "stream",
          "text": [
            "Encontrados 929605 vetores de palavras.\n"
          ]
        }
      ],
      "source": [
        "# verificando o arquivo de embeddings e carregando para uma matriz: cada linha da matriz tem o numero de dimensões das embeddings\n",
        "embeddings_index = {}\n",
        "with open(embFile) as f:\n",
        "    l=0\n",
        "    for line in f:\n",
        "        if l>0:\n",
        "            pos = line.find(' ')\n",
        "            word = line[0:pos]\n",
        "            vector = line[pos:len(line)]\n",
        "            vector = vector.replace('\\n','')\n",
        "            vector = vector.strip()\n",
        "            vector = list(map(float, vector.split(' ')))\n",
        "            embeddings_index[word] = vector\n",
        "        l += 1\n",
        "print(f\"Encontrados {len(embeddings_index)} vetores de palavras.\")"
      ]
    },
    {
      "cell_type": "markdown",
      "metadata": {
        "id": "yGMMgjon-ElN"
      },
      "source": [
        "Verificando palavras do arquivo de embeddings:"
      ]
    },
    {
      "cell_type": "code",
      "execution_count": null,
      "metadata": {
        "colab": {
          "base_uri": "https://localhost:8080/"
        },
        "id": "FEIgmb9jg95O",
        "outputId": "fdbc34f7-2ae1-47c4-e9b4-90a87b505a9b"
      },
      "outputs": [
        {
          "name": "stdout",
          "output_type": "stream",
          "text": [
            "primeiro token:  ,\n",
            "embeddigns do primeiro token:  [0.19787, 0.040916, 0.0082059, -0.15349, -0.24492, -0.055641, -0.17153, -0.04697, 0.20225, -0.079832, 0.089199, 0.039603, -0.09521, -0.0095435, 0.039155, -0.23808, -0.40891, 0.097563, -0.12359, -0.12023, -0.13557, 0.0041987, 0.12311, 0.045338, 0.00015713, -0.14143, -0.1923, 0.11139, 0.15076, 0.079623, 0.27701, 0.1229, -0.16766, -0.13915, -0.30957, -0.086924, 0.25666, -0.24716, -0.35433, 0.32706, -0.21388, -0.16521, 0.047764, -0.14421, -0.27477, 0.16616, 0.089759, 0.34937, -0.11097, 0.061492, -0.069643, 0.44458, -0.073322, -0.1286, 0.015, 0.29297, -0.42703, 0.17069, 0.22864, 0.16299, 0.21503, -0.03303, 0.011901, 0.20363, 0.3327, -0.23554, -0.11752, -0.18648, 0.067902, -0.033799, 0.0095426, 0.024427, 0.37478, 0.19837, -0.19143, -0.012367, 0.4497, -0.16549, 0.26319, 0.018696, 0.020859, -0.1106, 0.017879, -0.2289, -0.27333, 0.022579, 0.14598, -0.12368, -0.011224, -0.43002, -0.023896, 0.30938, -0.23384, 0.094746, -0.3298, 0.31299, -0.065709, -0.2361, 0.28736, -0.41801]\n",
            "---------------\n",
            "centésimo token:  contra\n",
            "embeddigns do centesimo token:  [0.31527, 0.21304, 0.012137, -0.21399, -0.22512, 0.21519, -0.016415, -0.18769, -0.093291, -0.46044, 0.26061, 0.41521, 0.16878, 0.069369, -0.12755, -0.21487, -0.1111, 0.11544, 0.15372, -0.44069, -0.64697, 0.31952, 0.052726, -0.036587, 0.16929, -0.026722, -0.33044, 0.24768, 0.29923, -0.28867, 0.26163, 0.25197, 0.017404, -0.45843, -0.26584, -0.33083, 0.047826, 0.12608, -0.97992, 0.64436, -0.71894, 0.23964, -0.22289, 0.0063681, 0.16977, -0.16416, -0.088728, 0.029682, -0.1478, -0.28103, 0.27114, 0.47906, -0.14624, 0.2263, 0.0032746, 0.15852, -0.8336, 0.4513, -0.20379, -0.023623, 0.28665, 0.38979, -0.36173, -0.17248, 0.2699, -0.42894, -0.033309, -0.58447, -0.18444, 0.25648, 0.2603, -0.013591, 0.29834, 0.15566, -0.10332, 0.31201, 0.1496, -0.4744, 0.61277, 0.33747, -0.23516, 0.081944, -0.081835, -0.25399, -0.21304, 0.33387, 0.36385, 0.047224, 0.059215, -0.51864, -0.30207, 0.47457, -0.15048, -0.17774, -0.21052, 1.0105, 0.41953, -0.12134, 0.47117, -0.25294]\n",
            "---------------\n",
            "ultimo token:  enterococci\n",
            "embeddigns do ultimo token:  [0.29303, -0.078407, -0.65884, 0.19443, 0.29668, -0.16322, 0.18216, 0.62947, 0.28184, -0.0028218, -0.56821, -0.55198, 0.48175, -0.11793, -0.025404, -0.69901, -0.82848, 0.3824, -0.29564, -0.44392, -0.68148, -0.56316, -0.62876, 0.57987, -0.034669, -0.2401, 0.28817, 0.0060594, -0.56396, 0.40359, 0.7368, 0.36339, 0.050012, -0.28364, -0.71614, -0.85692, 0.079023, -0.48264, -1.1242, 0.42734, 0.047741, -0.087914, 0.1836, -1.0989, -0.038123, -0.038289, 0.18179, 0.63417, 0.49265, -0.11967, 1.4087, 0.43927, 0.30044, -0.4786, 0.80906, -0.19456, -0.33166, 0.71489, 0.57075, 0.15077, 0.29221, -0.3889, -0.37519, 0.44634, -0.097112, -0.25347, -0.070022, -0.27275, 0.59205, -0.23132, -0.19948, -0.48955, 0.16722, 0.13422, 0.3675, 0.20321, 0.061542, -0.52106, 0.96698, 0.53599, 0.16581, -0.1122, 1.05, -0.22342, -0.89825, 0.66382, -0.28802, -0.13092, 0.696, -0.27253, 0.57787, -0.26586, 0.79181, -0.03064, 0.86574, 0.70854, 0.58653, -0.45176, 0.1857, 0.2601]\n"
          ]
        }
      ],
      "source": [
        "primeira = list(embeddings_index.keys())[0]\n",
        "print('primeiro token: ',primeira)\n",
        "print('embeddigns do primeiro token: ',embeddings_index[primeira])\n",
        "print('---------------')\n",
        "centesima = list(embeddings_index.keys())[100]\n",
        "print('centésimo token: ',centesima)\n",
        "print('embeddigns do centesimo token: ',embeddings_index[centesima])\n",
        "print('---------------')\n",
        "ultima = list(embeddings_index.keys())[len(embeddings_index)-1]\n",
        "print('ultimo token: ',ultima)\n",
        "print('embeddigns do ultimo token: ',embeddings_index[ultima])\n"
      ]
    },
    {
      "cell_type": "code",
      "execution_count": null,
      "metadata": {
        "colab": {
          "base_uri": "https://localhost:8080/"
        },
        "id": "9DAs8uEQpm2p",
        "outputId": "4a869c94-66be-4825-f828-b2366956b13e"
      },
      "outputs": [
        {
          "data": {
            "text/plain": [
              "(12471, 12471, 929605)"
            ]
          },
          "execution_count": 26,
          "metadata": {},
          "output_type": "execute_result"
        }
      ],
      "source": [
        "len(word_index), len(voc),len(embeddings_index)"
      ]
    },
    {
      "cell_type": "code",
      "execution_count": null,
      "metadata": {
        "colab": {
          "base_uri": "https://localhost:8080/"
        },
        "id": "PnQiJgvfz0If",
        "outputId": "3b11ea3f-190f-4dd8-a429-2dd14e7875a1"
      },
      "outputs": [
        {
          "data": {
            "text/plain": [
              "20"
            ]
          },
          "execution_count": 27,
          "metadata": {},
          "output_type": "execute_result"
        }
      ],
      "source": [
        "word_index['mais']"
      ]
    },
    {
      "cell_type": "markdown",
      "metadata": {
        "id": "elr_h0ZF95fB"
      },
      "source": [
        "O proximo passo é efetuar o mapeamento entre as embeddings e as palavras do vocabulário do dataset. Prepara-se uma matriz de embeddings: uma matriz NumPy simples onde a entrada no índice `i` é o vetor pré-treinado para a palavra de índice `i` no vocabulário do nosso `vetorizador`."
      ]
    },
    {
      "cell_type": "code",
      "execution_count": null,
      "metadata": {
        "colab": {
          "base_uri": "https://localhost:8080/"
        },
        "id": "E02DsI-c3WmB",
        "outputId": "43629bcd-4f2b-4f02-9d61-8fa3ed03d1ac"
      },
      "outputs": [
        {
          "data": {
            "text/plain": [
              "100"
            ]
          },
          "execution_count": 28,
          "metadata": {},
          "output_type": "execute_result"
        }
      ],
      "source": [
        "embedding_dim"
      ]
    },
    {
      "cell_type": "code",
      "execution_count": null,
      "metadata": {
        "colab": {
          "base_uri": "https://localhost:8080/"
        },
        "id": "Sqd3XL7IlS6q",
        "outputId": "3016a3a0-3f00-4ffa-8954-4a6cfd44d33e"
      },
      "outputs": [
        {
          "name": "stdout",
          "output_type": "stream",
          "text": [
            "Mapeadas 11497 palavras e 974 não existem nas embeddings (OOV))\n"
          ]
        }
      ],
      "source": [
        "num_tokens = len(voc)\n",
        "hits = 0\n",
        "misses = 0\n",
        "\n",
        "# Preparando  a matriz de embeddings\n",
        "embedding_matrix = np.zeros((num_tokens, embedding_dim))\n",
        "for word, i in word_index.items():\n",
        "    if word in embeddings_index:\n",
        "        # print(word, i, len(embeddings_index[word]))\n",
        "        # Palavras não encontradas no índice de embeddings terão seus valores na matriz zerados\n",
        "        embedding_matrix[i] = embeddings_index[word]\n",
        "        hits += 1\n",
        "    else:\n",
        "        misses += 1\n",
        "print(f\"Mapeadas {hits} palavras e {misses} não existem nas embeddings (OOV))\")\n"
      ]
    },
    {
      "cell_type": "code",
      "execution_count": null,
      "metadata": {
        "colab": {
          "base_uri": "https://localhost:8080/"
        },
        "id": "ZRgITllfojwU",
        "outputId": "65a350ce-357e-4a6c-bcaa-7a77886c3671"
      },
      "outputs": [
        {
          "data": {
            "text/plain": [
              "((12471, 100), 12471)"
            ]
          },
          "execution_count": 30,
          "metadata": {},
          "output_type": "execute_result"
        }
      ],
      "source": [
        "# Tamanho da matrix de embeddings e do vocabulario:\n",
        "embedding_matrix.shape, len(vectorizer.get_vocabulary())"
      ]
    },
    {
      "cell_type": "markdown",
      "metadata": {
        "id": "aTmsH9U8lS6q"
      },
      "source": [
        "## Preparando o modelo"
      ]
    },
    {
      "cell_type": "markdown",
      "metadata": {
        "id": "_HP8FP_cdPON"
      },
      "source": [
        "### Embedding layer\n",
        "\n",
        "A matriz `embedding_matrix` é usada na definição do layer de embeddings."
      ]
    },
    {
      "cell_type": "code",
      "execution_count": null,
      "metadata": {
        "colab": {
          "base_uri": "https://localhost:8080/"
        },
        "id": "NudJqEsICqpi",
        "outputId": "25f19848-3fd2-47a6-8b57-fec3c2cedf48"
      },
      "outputs": [
        {
          "data": {
            "text/plain": [
              "(12471, 100, (12471, 100))"
            ]
          },
          "execution_count": 31,
          "metadata": {},
          "output_type": "execute_result"
        }
      ],
      "source": [
        "num_tokens, embedding_dim, embedding_matrix.shape"
      ]
    },
    {
      "cell_type": "code",
      "execution_count": null,
      "metadata": {
        "id": "UziYa38F_Pap"
      },
      "outputs": [],
      "source": [
        "embedding_layer = Embedding(\n",
        "    num_tokens,\n",
        "    embedding_dim,\n",
        "    trainable=False, #mantem o layer de embeddgins com os valores que está e nao treina isso junto coma  rede\n",
        ")\n",
        "embedding_layer.build((1,))\n",
        "#usa os pesos das embeddings\n",
        "embedding_layer.set_weights([embedding_matrix])"
      ]
    },
    {
      "cell_type": "markdown",
      "metadata": {
        "id": "7iMKqANk5UyR"
      },
      "source": [
        "Atividade opcional: treinar as embeddgins do dataset (por exemplo usando gensim, ou usando a propria rede)."
      ]
    },
    {
      "cell_type": "markdown",
      "metadata": {
        "id": "wZaRBvbC1rOx"
      },
      "source": [
        "### LSTM"
      ]
    },
    {
      "cell_type": "code",
      "execution_count": null,
      "metadata": {
        "id": "3cFi6Rgg6kW-"
      },
      "outputs": [],
      "source": [
        "import numpy as np\n",
        "import keras\n",
        "from keras import layers\n"
      ]
    },
    {
      "cell_type": "code",
      "execution_count": null,
      "metadata": {
        "colab": {
          "base_uri": "https://localhost:8080/",
          "height": 267
        },
        "id": "6mtKMOX7_uzq",
        "outputId": "39e1acad-f617-4f6f-f73c-ce52de95264d"
      },
      "outputs": [
        {
          "data": {
            "text/html": [
              "<pre style=\"white-space:pre;overflow-x:auto;line-height:normal;font-family:Menlo,'DejaVu Sans Mono',consolas,'Courier New',monospace\"><span style=\"font-weight: bold\">Model: \"functional\"</span>\n",
              "</pre>\n"
            ],
            "text/plain": [
              "\u001b[1mModel: \"functional\"\u001b[0m\n"
            ]
          },
          "metadata": {},
          "output_type": "display_data"
        },
        {
          "data": {
            "text/html": [
              "<pre style=\"white-space:pre;overflow-x:auto;line-height:normal;font-family:Menlo,'DejaVu Sans Mono',consolas,'Courier New',monospace\">┏━━━━━━━━━━━━━━━━━━━━━━━━━━━━━━━━━━━━━━┳━━━━━━━━━━━━━━━━━━━━━━━━━━━━━┳━━━━━━━━━━━━━━━━━┓\n",
              "┃<span style=\"font-weight: bold\"> Layer (type)                         </span>┃<span style=\"font-weight: bold\"> Output Shape                </span>┃<span style=\"font-weight: bold\">         Param # </span>┃\n",
              "┡━━━━━━━━━━━━━━━━━━━━━━━━━━━━━━━━━━━━━━╇━━━━━━━━━━━━━━━━━━━━━━━━━━━━━╇━━━━━━━━━━━━━━━━━┩\n",
              "│ input_layer (<span style=\"color: #0087ff; text-decoration-color: #0087ff\">InputLayer</span>)             │ (<span style=\"color: #00d7ff; text-decoration-color: #00d7ff\">None</span>, <span style=\"color: #00d7ff; text-decoration-color: #00d7ff\">None</span>)                │               <span style=\"color: #00af00; text-decoration-color: #00af00\">0</span> │\n",
              "├──────────────────────────────────────┼─────────────────────────────┼─────────────────┤\n",
              "│ embedding (<span style=\"color: #0087ff; text-decoration-color: #0087ff\">Embedding</span>)                │ (<span style=\"color: #00d7ff; text-decoration-color: #00d7ff\">None</span>, <span style=\"color: #00d7ff; text-decoration-color: #00d7ff\">None</span>, <span style=\"color: #00af00; text-decoration-color: #00af00\">100</span>)           │       <span style=\"color: #00af00; text-decoration-color: #00af00\">1,247,100</span> │\n",
              "├──────────────────────────────────────┼─────────────────────────────┼─────────────────┤\n",
              "│ bidirectional (<span style=\"color: #0087ff; text-decoration-color: #0087ff\">Bidirectional</span>)        │ (<span style=\"color: #00d7ff; text-decoration-color: #00d7ff\">None</span>, <span style=\"color: #00af00; text-decoration-color: #00af00\">128</span>)                 │          <span style=\"color: #00af00; text-decoration-color: #00af00\">84,480</span> │\n",
              "├──────────────────────────────────────┼─────────────────────────────┼─────────────────┤\n",
              "│ dense (<span style=\"color: #0087ff; text-decoration-color: #0087ff\">Dense</span>)                        │ (<span style=\"color: #00d7ff; text-decoration-color: #00d7ff\">None</span>, <span style=\"color: #00af00; text-decoration-color: #00af00\">1</span>)                   │             <span style=\"color: #00af00; text-decoration-color: #00af00\">129</span> │\n",
              "└──────────────────────────────────────┴─────────────────────────────┴─────────────────┘\n",
              "</pre>\n"
            ],
            "text/plain": [
              "┏━━━━━━━━━━━━━━━━━━━━━━━━━━━━━━━━━━━━━━┳━━━━━━━━━━━━━━━━━━━━━━━━━━━━━┳━━━━━━━━━━━━━━━━━┓\n",
              "┃\u001b[1m \u001b[0m\u001b[1mLayer (type)                        \u001b[0m\u001b[1m \u001b[0m┃\u001b[1m \u001b[0m\u001b[1mOutput Shape               \u001b[0m\u001b[1m \u001b[0m┃\u001b[1m \u001b[0m\u001b[1m        Param #\u001b[0m\u001b[1m \u001b[0m┃\n",
              "┡━━━━━━━━━━━━━━━━━━━━━━━━━━━━━━━━━━━━━━╇━━━━━━━━━━━━━━━━━━━━━━━━━━━━━╇━━━━━━━━━━━━━━━━━┩\n",
              "│ input_layer (\u001b[38;5;33mInputLayer\u001b[0m)             │ (\u001b[38;5;45mNone\u001b[0m, \u001b[38;5;45mNone\u001b[0m)                │               \u001b[38;5;34m0\u001b[0m │\n",
              "├──────────────────────────────────────┼─────────────────────────────┼─────────────────┤\n",
              "│ embedding (\u001b[38;5;33mEmbedding\u001b[0m)                │ (\u001b[38;5;45mNone\u001b[0m, \u001b[38;5;45mNone\u001b[0m, \u001b[38;5;34m100\u001b[0m)           │       \u001b[38;5;34m1,247,100\u001b[0m │\n",
              "├──────────────────────────────────────┼─────────────────────────────┼─────────────────┤\n",
              "│ bidirectional (\u001b[38;5;33mBidirectional\u001b[0m)        │ (\u001b[38;5;45mNone\u001b[0m, \u001b[38;5;34m128\u001b[0m)                 │          \u001b[38;5;34m84,480\u001b[0m │\n",
              "├──────────────────────────────────────┼─────────────────────────────┼─────────────────┤\n",
              "│ dense (\u001b[38;5;33mDense\u001b[0m)                        │ (\u001b[38;5;45mNone\u001b[0m, \u001b[38;5;34m1\u001b[0m)                   │             \u001b[38;5;34m129\u001b[0m │\n",
              "└──────────────────────────────────────┴─────────────────────────────┴─────────────────┘\n"
            ]
          },
          "metadata": {},
          "output_type": "display_data"
        },
        {
          "data": {
            "text/html": [
              "<pre style=\"white-space:pre;overflow-x:auto;line-height:normal;font-family:Menlo,'DejaVu Sans Mono',consolas,'Courier New',monospace\"><span style=\"font-weight: bold\"> Total params: </span><span style=\"color: #00af00; text-decoration-color: #00af00\">1,331,709</span> (5.08 MB)\n",
              "</pre>\n"
            ],
            "text/plain": [
              "\u001b[1m Total params: \u001b[0m\u001b[38;5;34m1,331,709\u001b[0m (5.08 MB)\n"
            ]
          },
          "metadata": {},
          "output_type": "display_data"
        },
        {
          "data": {
            "text/html": [
              "<pre style=\"white-space:pre;overflow-x:auto;line-height:normal;font-family:Menlo,'DejaVu Sans Mono',consolas,'Courier New',monospace\"><span style=\"font-weight: bold\"> Trainable params: </span><span style=\"color: #00af00; text-decoration-color: #00af00\">84,609</span> (330.50 KB)\n",
              "</pre>\n"
            ],
            "text/plain": [
              "\u001b[1m Trainable params: \u001b[0m\u001b[38;5;34m84,609\u001b[0m (330.50 KB)\n"
            ]
          },
          "metadata": {},
          "output_type": "display_data"
        },
        {
          "data": {
            "text/html": [
              "<pre style=\"white-space:pre;overflow-x:auto;line-height:normal;font-family:Menlo,'DejaVu Sans Mono',consolas,'Courier New',monospace\"><span style=\"font-weight: bold\"> Non-trainable params: </span><span style=\"color: #00af00; text-decoration-color: #00af00\">1,247,100</span> (4.76 MB)\n",
              "</pre>\n"
            ],
            "text/plain": [
              "\u001b[1m Non-trainable params: \u001b[0m\u001b[38;5;34m1,247,100\u001b[0m (4.76 MB)\n"
            ]
          },
          "metadata": {},
          "output_type": "display_data"
        }
      ],
      "source": [
        "#configura um vetor de inputs que tera os identificadores do vocabulario\n",
        "inputs = keras.Input(shape=(None,), dtype=\"int32\")\n",
        "\n",
        "# converte as embeddgins de cada input\n",
        "embedded_sequences = embedding_layer(inputs)\n",
        "\n",
        "# adiciona uma LSTM bidirecional\n",
        "x = layers.Bidirectional(layers.LSTM(64))(embedded_sequences)\n",
        "\n",
        "# adiciona um classificador binário\n",
        "outputs = layers.Dense(1, activation=\"sigmoid\")(x)\n",
        "\n",
        "# Cria o modelo\n",
        "model = keras.Model(inputs, outputs)\n",
        "\n",
        "#Exibe o resumo do modelo e suas camadas\n",
        "model.summary()"
      ]
    },
    {
      "cell_type": "markdown",
      "metadata": {
        "id": "J3Ib_y1D4cJb"
      },
      "source": [
        "Estamos usando `binary_crossentropy` como loss para a classificação binária.\n",
        "\n",
        "[`Adam`](https://keras.io/api/optimizers/adam/) é o otimizador usado com `learning_rate` default de 0.001."
      ]
    },
    {
      "cell_type": "code",
      "execution_count": null,
      "metadata": {
        "id": "8w9tAw5vX4LA"
      },
      "outputs": [],
      "source": [
        "model.compile(optimizer='adam',\n",
        "              loss='binary_crossentropy',\n",
        "              metrics=['accuracy'])"
      ]
    },
    {
      "cell_type": "code",
      "execution_count": null,
      "metadata": {
        "colab": {
          "base_uri": "https://localhost:8080/",
          "height": 273
        },
        "id": "x9Ka-P6SnIXm",
        "outputId": "7ad32195-8842-4949-fdc7-5504d0c722c1"
      },
      "outputs": [
        {
          "data": {
            "image/png": "[encoded data removed]",
            "text/plain": [
              "<IPython.core.display.Image object>"
            ]
          },
          "execution_count": 36,
          "metadata": {},
          "output_type": "execute_result"
        }
      ],
      "source": [
        "keras.utils.plot_model(model, show_layer_names=False, rankdir='LR', show_layer_activations=True)"
      ]
    },
    {
      "cell_type": "markdown",
      "metadata": {
        "id": "wGcPvQThlS6r"
      },
      "source": [
        "## Treinando o modelo\n",
        "\n",
        "Convertendo o texto dos 3 datasets (treino, val e teste) em vetores com índices do vocabulário, usando o vetorizador definido anteriormente."
      ]
    },
    {
      "cell_type": "code",
      "execution_count": null,
      "metadata": {
        "colab": {
          "base_uri": "https://localhost:8080/"
        },
        "id": "g2MBI58VKI9w",
        "outputId": "b6151a1d-4724-47b5-aa6f-1bff3b1176e6"
      },
      "outputs": [
        {
          "data": {
            "text/plain": [
              "((7940, 128), (1986, 128), (6000, 128))"
            ]
          },
          "execution_count": 37,
          "metadata": {},
          "output_type": "execute_result"
        }
      ],
      "source": [
        "x_train = vectorizer(np.array([[s] for s in train_samples])).numpy()\n",
        "x_val = vectorizer(np.array([[s] for s in val_samples])).numpy()\n",
        "x_test = vectorizer(np.array([[s] for s in test_samples])).numpy()\n",
        "\n",
        "y_train = np.array(train_labels)\n",
        "y_val = np.array(val_labels)\n",
        "y_test = np.array(test_labels)\n",
        "\n",
        "x_train.shape, x_val.shape, x_test.shape"
      ]
    },
    {
      "cell_type": "code",
      "execution_count": null,
      "metadata": {
        "colab": {
          "base_uri": "https://localhost:8080/"
        },
        "id": "imqG3txONU84",
        "outputId": "65cd91b4-6c91-44ee-b6fb-276e8195e8ad"
      },
      "outputs": [
        {
          "data": {
            "text/plain": [
              "('péssimo pedi começo do ano e ainda tá aguardando nota fiscal com previsão de entrega só em abril como uma compradora regular do site estou insatisfeita',\n",
              " array([ 121,  307, 1630,   12,  368,    3,   35,  622,  228,  164,  354,\n",
              "          11,  489,    5,   18,   54,   16, 1116,   41,   21, 4166, 1278,\n",
              "          12,   73,   43,  584,    0,    0,    0,    0,    0,    0,    0,\n",
              "           0,    0,    0,    0,    0,    0,    0,    0,    0,    0,    0,\n",
              "           0,    0,    0,    0,    0,    0,    0,    0,    0,    0,    0,\n",
              "           0,    0,    0,    0,    0,    0,    0,    0,    0,    0,    0,\n",
              "           0,    0,    0,    0,    0,    0,    0,    0,    0,    0,    0,\n",
              "           0,    0,    0,    0,    0,    0,    0,    0,    0,    0,    0,\n",
              "           0,    0,    0,    0,    0,    0,    0,    0,    0,    0,    0,\n",
              "           0,    0,    0,    0,    0,    0,    0,    0,    0,    0,    0,\n",
              "           0,    0,    0,    0,    0,    0,    0,    0,    0,    0,    0,\n",
              "           0,    0,    0,    0,    0,    0,    0]))"
            ]
          },
          "execution_count": 38,
          "metadata": {},
          "output_type": "execute_result"
        }
      ],
      "source": [
        "i=10\n",
        "train_samples[i], x_train[i]"
      ]
    },
    {
      "cell_type": "code",
      "execution_count": null,
      "metadata": {
        "colab": {
          "base_uri": "https://localhost:8080/"
        },
        "id": "2eLgQCNgyKBV",
        "outputId": "4fd01e4c-3caa-4605-bcea-016e55f5e4bc"
      },
      "outputs": [
        {
          "data": {
            "text/plain": [
              "array(['positivo', 'negativo'], dtype=object)"
            ]
          },
          "execution_count": 39,
          "metadata": {},
          "output_type": "execute_result"
        }
      ],
      "source": [
        "class_names = df_train.label_descr.unique()\n",
        "class_names"
      ]
    },
    {
      "cell_type": "code",
      "execution_count": null,
      "metadata": {
        "colab": {
          "base_uri": "https://localhost:8080/"
        },
        "id": "vfu4OQUBJprt",
        "outputId": "c63f1838-8b45-42a7-b652-6120d43a6f6b"
      },
      "outputs": [
        {
          "name": "stdout",
          "output_type": "stream",
          "text": [
            "Epoch 1/10\n",
            "\u001b[1m125/125\u001b[0m \u001b[32m━━━━━━━━━━━━━━━━━━━━\u001b[0m\u001b[37m\u001b[0m \u001b[1m8s\u001b[0m 19ms/step - accuracy: 0.7392 - loss: 0.5344 - val_accuracy: 0.8580 - val_loss: 0.3418\n",
            "Epoch 2/10\n",
            "\u001b[1m125/125\u001b[0m \u001b[32m━━━━━━━━━━━━━━━━━━━━\u001b[0m\u001b[37m\u001b[0m \u001b[1m2s\u001b[0m 14ms/step - accuracy: 0.8386 - loss: 0.3746 - val_accuracy: 0.8781 - val_loss: 0.3136\n",
            "Epoch 3/10\n",
            "\u001b[1m125/125\u001b[0m \u001b[32m━━━━━━━━━━━━━━━━━━━━\u001b[0m\u001b[37m\u001b[0m \u001b[1m2s\u001b[0m 15ms/step - accuracy: 0.8741 - loss: 0.3117 - val_accuracy: 0.8847 - val_loss: 0.2858\n",
            "Epoch 4/10\n",
            "\u001b[1m125/125\u001b[0m \u001b[32m━━━━━━━━━━━━━━━━━━━━\u001b[0m\u001b[37m\u001b[0m \u001b[1m3s\u001b[0m 14ms/step - accuracy: 0.8881 - loss: 0.2723 - val_accuracy: 0.8988 - val_loss: 0.2689\n",
            "Epoch 5/10\n",
            "\u001b[1m125/125\u001b[0m \u001b[32m━━━━━━━━━━━━━━━━━━━━\u001b[0m\u001b[37m\u001b[0m \u001b[1m2s\u001b[0m 17ms/step - accuracy: 0.8899 - loss: 0.2658 - val_accuracy: 0.8867 - val_loss: 0.2825\n",
            "Epoch 6/10\n",
            "\u001b[1m125/125\u001b[0m \u001b[32m━━━━━━━━━━━━━━━━━━━━\u001b[0m\u001b[37m\u001b[0m \u001b[1m2s\u001b[0m 18ms/step - accuracy: 0.9049 - loss: 0.2333 - val_accuracy: 0.9018 - val_loss: 0.2532\n",
            "Epoch 7/10\n",
            "\u001b[1m125/125\u001b[0m \u001b[32m━━━━━━━━━━━━━━━━━━━━\u001b[0m\u001b[37m\u001b[0m \u001b[1m2s\u001b[0m 14ms/step - accuracy: 0.9164 - loss: 0.2120 - val_accuracy: 0.9109 - val_loss: 0.2319\n",
            "Epoch 8/10\n",
            "\u001b[1m125/125\u001b[0m \u001b[32m━━━━━━━━━━━━━━━━━━━━\u001b[0m\u001b[37m\u001b[0m \u001b[1m3s\u001b[0m 15ms/step - accuracy: 0.9166 - loss: 0.2144 - val_accuracy: 0.8983 - val_loss: 0.2623\n",
            "Epoch 9/10\n",
            "\u001b[1m125/125\u001b[0m \u001b[32m━━━━━━━━━━━━━━━━━━━━\u001b[0m\u001b[37m\u001b[0m \u001b[1m2s\u001b[0m 14ms/step - accuracy: 0.9171 - loss: 0.2076 - val_accuracy: 0.9048 - val_loss: 0.2441\n",
            "Epoch 10/10\n",
            "\u001b[1m125/125\u001b[0m \u001b[32m━━━━━━━━━━━━━━━━━━━━\u001b[0m\u001b[37m\u001b[0m \u001b[1m2s\u001b[0m 14ms/step - accuracy: 0.9249 - loss: 0.1947 - val_accuracy: 0.9134 - val_loss: 0.2353\n",
            "CPU times: user 24.6 s, sys: 1.38 s, total: 25.9 s\n",
            "Wall time: 27.4 s\n"
          ]
        }
      ],
      "source": [
        "%%time\n",
        "history = model.fit(x_train, y_train, batch_size=64, epochs=10, validation_data=(x_val, y_val))"
      ]
    },
    {
      "cell_type": "code",
      "execution_count": null,
      "metadata": {
        "colab": {
          "base_uri": "https://localhost:8080/",
          "height": 719
        },
        "id": "EzQ3i8LC6BaE",
        "outputId": "dd8a5afb-3826-4b25-8abd-a1d6da980c34"
      },
      "outputs": [
        {
          "data": {
            "text/plain": [
              "(0.8019080758094788, 1.0)"
            ]
          },
          "execution_count": 41,
          "metadata": {},
          "output_type": "execute_result"
        },
        {
          "data": {
            "image/png": "[encoded data removed]",
            "text/plain": [
              "<Figure size 1600x800 with 2 Axes>"
            ]
          },
          "metadata": {},
          "output_type": "display_data"
        }
      ],
      "source": [
        "plt.figure(figsize=(16, 8))\n",
        "plt.subplot(1, 2, 1)\n",
        "plot_graphs(history, 'loss')\n",
        "plt.ylim(0, None)\n",
        "plt.subplot(1, 2, 2)\n",
        "plot_graphs(history, 'accuracy')\n",
        "plt.ylim(None, 1)\n"
      ]
    },
    {
      "cell_type": "markdown",
      "metadata": {
        "id": "_Nprn2BAAA66"
      },
      "source": [
        "## Avaliando a Qualidade do Modelo\n",
        "\n",
        "\n",
        "A função `model.evaluate` prevê a saída para a entrada fornecida e, em seguida, calcula a função de métricas especificadas em `model.compile` com base em `y_true` e `y_pred`.\n",
        "\n",
        "O `model.predict` apenas retorna o y_pred, mas ao final devem chegar no mesmo valor."
      ]
    },
    {
      "cell_type": "code",
      "execution_count": null,
      "metadata": {
        "id": "aNzOQfeBa4q0"
      },
      "outputs": [],
      "source": [
        "from sklearn.metrics import accuracy_score, f1_score, confusion_matrix, ConfusionMatrixDisplay"
      ]
    },
    {
      "cell_type": "code",
      "execution_count": null,
      "metadata": {
        "colab": {
          "base_uri": "https://localhost:8080/",
          "height": 206
        },
        "id": "-LVYUpjQa4Nd",
        "outputId": "061e0c6f-d64b-4ff7-a365-e8023506417e"
      },
      "outputs": [
        {
          "data": {
            "application/vnd.google.colaboratory.intrinsic+json": {
              "summary": "{\n  \"name\": \"df_test\",\n  \"rows\": 5,\n  \"fields\": [\n    {\n      \"column\": \"label\",\n      \"properties\": {\n        \"dtype\": \"number\",\n        \"std\": 0,\n        \"min\": 0,\n        \"max\": 1,\n        \"num_unique_values\": 2,\n        \"samples\": [\n          0,\n          1\n        ],\n        \"semantic_type\": \"\",\n        \"description\": \"\"\n      }\n    },\n    {\n      \"column\": \"text\",\n      \"properties\": {\n        \"dtype\": \"string\",\n        \"num_unique_values\": 5,\n        \"samples\": [\n          \"pedi tamnho g e veio tamanho m fica apertado e machuca e demorou pra entregarem\",\n          \"n\\u00e3o gostei se \\u00e9 bonita mais o material e muito ruim n\\u00e3o recomendo\"\n        ],\n        \"semantic_type\": \"\",\n        \"description\": \"\"\n      }\n    },\n    {\n      \"column\": \"label_descr\",\n      \"properties\": {\n        \"dtype\": \"category\",\n        \"num_unique_values\": 2,\n        \"samples\": [\n          \"negativo\",\n          \"positivo\"\n        ],\n        \"semantic_type\": \"\",\n        \"description\": \"\"\n      }\n    },\n    {\n      \"column\": \"text_original\",\n      \"properties\": {\n        \"dtype\": \"string\",\n        \"num_unique_values\": 5,\n        \"samples\": [\n          \"Pedi tamnho G e veio tamanho m, fica apertado e machuca.  E demorou.pra entregarem.\",\n          \"N\\u00e3o gostei se \\u00e9 bonita mais o material e muito ruim n\\u00e3o recomendo ...\"\n        ],\n        \"semantic_type\": \"\",\n        \"description\": \"\"\n      }\n    }\n  ]\n}",
              "type": "dataframe"
            },
            "text/html": [
              "\n",
              "  <div id=\"df-615d4e0d-1a1e-42df-8dd2-31de3a4ea573\" class=\"colab-df-container\">\n",
              "    <div>\n",
              "<style scoped>\n",
              "    .dataframe tbody tr th:only-of-type {\n",
              "        vertical-align: middle;\n",
              "    }\n",
              "\n",
              "    .dataframe tbody tr th {\n",
              "        vertical-align: top;\n",
              "    }\n",
              "\n",
              "    .dataframe thead th {\n",
              "        text-align: right;\n",
              "    }\n",
              "</style>\n",
              "<table border=\"1\" class=\"dataframe\">\n",
              "  <thead>\n",
              "    <tr style=\"text-align: right;\">\n",
              "      <th></th>\n",
              "      <th>label</th>\n",
              "      <th>text</th>\n",
              "      <th>label_descr</th>\n",
              "      <th>text_original</th>\n",
              "    </tr>\n",
              "  </thead>\n",
              "  <tbody>\n",
              "    <tr>\n",
              "      <th>1507</th>\n",
              "      <td>1</td>\n",
              "      <td>muito boa fácil instalação e configuração imag...</td>\n",
              "      <td>positivo</td>\n",
              "      <td>Muito boa, fácil instalação e configuração. Im...</td>\n",
              "    </tr>\n",
              "    <tr>\n",
              "      <th>5641</th>\n",
              "      <td>0</td>\n",
              "      <td>pedi tamnho g e veio tamanho m fica apertado e...</td>\n",
              "      <td>negativo</td>\n",
              "      <td>Pedi tamnho G e veio tamanho m, fica apertado ...</td>\n",
              "    </tr>\n",
              "    <tr>\n",
              "      <th>3220</th>\n",
              "      <td>0</td>\n",
              "      <td>a pedra do anel já caiu o anel foi dado com me...</td>\n",
              "      <td>negativo</td>\n",
              "      <td>A pedra do anel já caiu , o anel foi dado com ...</td>\n",
              "    </tr>\n",
              "    <tr>\n",
              "      <th>176</th>\n",
              "      <td>1</td>\n",
              "      <td>é do tamanho de uma cafeteira será muito prati...</td>\n",
              "      <td>positivo</td>\n",
              "      <td>É do tamanho de uma cafeteira, será muito prat...</td>\n",
              "    </tr>\n",
              "    <tr>\n",
              "      <th>4991</th>\n",
              "      <td>0</td>\n",
              "      <td>não gostei se é bonita mais o material e muito...</td>\n",
              "      <td>negativo</td>\n",
              "      <td>Não gostei se é bonita mais o material e muito...</td>\n",
              "    </tr>\n",
              "  </tbody>\n",
              "</table>\n",
              "</div>\n",
              "    <div class=\"colab-df-buttons\">\n",
              "\n",
              "  <div class=\"colab-df-container\">\n",
              "    <button class=\"colab-df-convert\" onclick=\"convertToInteractive('df-615d4e0d-1a1e-42df-8dd2-31de3a4ea573')\"\n",
              "            title=\"Convert this dataframe to an interactive table.\"\n",
              "            style=\"display:none;\">\n",
              "\n",
              "  <svg xmlns=\"http://www.w3.org/2000/svg\" height=\"24px\" viewBox=\"0 -960 960 960\">\n",
              "    <path d=\"M120-120v-720h720v720H120Zm60-500h600v-160H180v160Zm220 220h160v-160H400v160Zm0 220h160v-160H400v160ZM180-400h160v-160H180v160Zm440 0h160v-160H620v160ZM180-180h160v-160H180v160Zm440 0h160v-160H620v160Z\"/>\n",
              "  </svg>\n",
              "    </button>\n",
              "\n",
              "  <style>\n",
              "    .colab-df-container {\n",
              "      display:flex;\n",
              "      gap: 12px;\n",
              "    }\n",
              "\n",
              "    .colab-df-convert {\n",
              "      background-color: #E8F0FE;\n",
              "      border: none;\n",
              "      border-radius: 50%;\n",
              "      cursor: pointer;\n",
              "      display: none;\n",
              "      fill: #1967D2;\n",
              "      height: 32px;\n",
              "      padding: 0 0 0 0;\n",
              "      width: 32px;\n",
              "    }\n",
              "\n",
              "    .colab-df-convert:hover {\n",
              "      background-color: #E2EBFA;\n",
              "      box-shadow: 0px 1px 2px rgba(60, 64, 67, 0.3), 0px 1px 3px 1px rgba(60, 64, 67, 0.15);\n",
              "      fill: #174EA6;\n",
              "    }\n",
              "\n",
              "    .colab-df-buttons div {\n",
              "      margin-bottom: 4px;\n",
              "    }\n",
              "\n",
              "    [theme=dark] .colab-df-convert {\n",
              "      background-color: #3B4455;\n",
              "      fill: #D2E3FC;\n",
              "    }\n",
              "\n",
              "    [theme=dark] .colab-df-convert:hover {\n",
              "      background-color: #434B5C;\n",
              "      box-shadow: 0px 1px 3px 1px rgba(0, 0, 0, 0.15);\n",
              "      filter: drop-shadow(0px 1px 2px rgba(0, 0, 0, 0.3));\n",
              "      fill: #FFFFFF;\n",
              "    }\n",
              "  </style>\n",
              "\n",
              "    <script>\n",
              "      const buttonEl =\n",
              "        document.querySelector('#df-615d4e0d-1a1e-42df-8dd2-31de3a4ea573 button.colab-df-convert');\n",
              "      buttonEl.style.display =\n",
              "        google.colab.kernel.accessAllowed ? 'block' : 'none';\n",
              "\n",
              "      async function convertToInteractive(key) {\n",
              "        const element = document.querySelector('#df-615d4e0d-1a1e-42df-8dd2-31de3a4ea573');\n",
              "        const dataTable =\n",
              "          await google.colab.kernel.invokeFunction('convertToInteractive',\n",
              "                                                    [key], {});\n",
              "        if (!dataTable) return;\n",
              "\n",
              "        const docLinkHtml = 'Like what you see? Visit the ' +\n",
              "          '<a target=\"_blank\" href=https://colab.research.google.com/notebooks/data_table.ipynb>data table notebook</a>'\n",
              "          + ' to learn more about interactive tables.';\n",
              "        element.innerHTML = '';\n",
              "        dataTable['output_type'] = 'display_data';\n",
              "        await google.colab.output.renderOutput(dataTable, element);\n",
              "        const docLink = document.createElement('div');\n",
              "        docLink.innerHTML = docLinkHtml;\n",
              "        element.appendChild(docLink);\n",
              "      }\n",
              "    </script>\n",
              "  </div>\n",
              "\n",
              "\n",
              "<div id=\"df-e744867c-4446-406e-883e-9c6133ff73b4\">\n",
              "  <button class=\"colab-df-quickchart\" onclick=\"quickchart('df-e744867c-4446-406e-883e-9c6133ff73b4')\"\n",
              "            title=\"Suggest charts\"\n",
              "            style=\"display:none;\">\n",
              "\n",
              "<svg xmlns=\"http://www.w3.org/2000/svg\" height=\"24px\"viewBox=\"0 0 24 24\"\n",
              "     width=\"24px\">\n",
              "    <g>\n",
              "        <path d=\"M19 3H5c-1.1 0-2 .9-2 2v14c0 1.1.9 2 2 2h14c1.1 0 2-.9 2-2V5c0-1.1-.9-2-2-2zM9 17H7v-7h2v7zm4 0h-2V7h2v10zm4 0h-2v-4h2v4z\"/>\n",
              "    </g>\n",
              "</svg>\n",
              "  </button>\n",
              "\n",
              "<style>\n",
              "  .colab-df-quickchart {\n",
              "      --bg-color: #E8F0FE;\n",
              "      --fill-color: #1967D2;\n",
              "      --hover-bg-color: #E2EBFA;\n",
              "      --hover-fill-color: #174EA6;\n",
              "      --disabled-fill-color: #AAA;\n",
              "      --disabled-bg-color: #DDD;\n",
              "  }\n",
              "\n",
              "  [theme=dark] .colab-df-quickchart {\n",
              "      --bg-color: #3B4455;\n",
              "      --fill-color: #D2E3FC;\n",
              "      --hover-bg-color: #434B5C;\n",
              "      --hover-fill-color: #FFFFFF;\n",
              "      --disabled-bg-color: #3B4455;\n",
              "      --disabled-fill-color: #666;\n",
              "  }\n",
              "\n",
              "  .colab-df-quickchart {\n",
              "    background-color: var(--bg-color);\n",
              "    border: none;\n",
              "    border-radius: 50%;\n",
              "    cursor: pointer;\n",
              "    display: none;\n",
              "    fill: var(--fill-color);\n",
              "    height: 32px;\n",
              "    padding: 0;\n",
              "    width: 32px;\n",
              "  }\n",
              "\n",
              "  .colab-df-quickchart:hover {\n",
              "    background-color: var(--hover-bg-color);\n",
              "    box-shadow: 0 1px 2px rgba(60, 64, 67, 0.3), 0 1px 3px 1px rgba(60, 64, 67, 0.15);\n",
              "    fill: var(--button-hover-fill-color);\n",
              "  }\n",
              "\n",
              "  .colab-df-quickchart-complete:disabled,\n",
              "  .colab-df-quickchart-complete:disabled:hover {\n",
              "    background-color: var(--disabled-bg-color);\n",
              "    fill: var(--disabled-fill-color);\n",
              "    box-shadow: none;\n",
              "  }\n",
              "\n",
              "  .colab-df-spinner {\n",
              "    border: 2px solid var(--fill-color);\n",
              "    border-color: transparent;\n",
              "    border-bottom-color: var(--fill-color);\n",
              "    animation:\n",
              "      spin 1s steps(1) infinite;\n",
              "  }\n",
              "\n",
              "  @keyframes spin {\n",
              "    0% {\n",
              "      border-color: transparent;\n",
              "      border-bottom-color: var(--fill-color);\n",
              "      border-left-color: var(--fill-color);\n",
              "    }\n",
              "    20% {\n",
              "      border-color: transparent;\n",
              "      border-left-color: var(--fill-color);\n",
              "      border-top-color: var(--fill-color);\n",
              "    }\n",
              "    30% {\n",
              "      border-color: transparent;\n",
              "      border-left-color: var(--fill-color);\n",
              "      border-top-color: var(--fill-color);\n",
              "      border-right-color: var(--fill-color);\n",
              "    }\n",
              "    40% {\n",
              "      border-color: transparent;\n",
              "      border-right-color: var(--fill-color);\n",
              "      border-top-color: var(--fill-color);\n",
              "    }\n",
              "    60% {\n",
              "      border-color: transparent;\n",
              "      border-right-color: var(--fill-color);\n",
              "    }\n",
              "    80% {\n",
              "      border-color: transparent;\n",
              "      border-right-color: var(--fill-color);\n",
              "      border-bottom-color: var(--fill-color);\n",
              "    }\n",
              "    90% {\n",
              "      border-color: transparent;\n",
              "      border-bottom-color: var(--fill-color);\n",
              "    }\n",
              "  }\n",
              "</style>\n",
              "\n",
              "  <script>\n",
              "    async function quickchart(key) {\n",
              "      const quickchartButtonEl =\n",
              "        document.querySelector('#' + key + ' button');\n",
              "      quickchartButtonEl.disabled = true;  // To prevent multiple clicks.\n",
              "      quickchartButtonEl.classList.add('colab-df-spinner');\n",
              "      try {\n",
              "        const charts = await google.colab.kernel.invokeFunction(\n",
              "            'suggestCharts', [key], {});\n",
              "      } catch (error) {\n",
              "        console.error('Error during call to suggestCharts:', error);\n",
              "      }\n",
              "      quickchartButtonEl.classList.remove('colab-df-spinner');\n",
              "      quickchartButtonEl.classList.add('colab-df-quickchart-complete');\n",
              "    }\n",
              "    (() => {\n",
              "      let quickchartButtonEl =\n",
              "        document.querySelector('#df-e744867c-4446-406e-883e-9c6133ff73b4 button');\n",
              "      quickchartButtonEl.style.display =\n",
              "        google.colab.kernel.accessAllowed ? 'block' : 'none';\n",
              "    })();\n",
              "  </script>\n",
              "</div>\n",
              "\n",
              "    </div>\n",
              "  </div>\n"
            ],
            "text/plain": [
              "      label                                               text label_descr  \\\n",
              "1507      1  muito boa fácil instalação e configuração imag...    positivo   \n",
              "5641      0  pedi tamnho g e veio tamanho m fica apertado e...    negativo   \n",
              "3220      0  a pedra do anel já caiu o anel foi dado com me...    negativo   \n",
              "176       1  é do tamanho de uma cafeteira será muito prati...    positivo   \n",
              "4991      0  não gostei se é bonita mais o material e muito...    negativo   \n",
              "\n",
              "                                          text_original  \n",
              "1507  Muito boa, fácil instalação e configuração. Im...  \n",
              "5641  Pedi tamnho G e veio tamanho m, fica apertado ...  \n",
              "3220  A pedra do anel já caiu , o anel foi dado com ...  \n",
              "176   É do tamanho de uma cafeteira, será muito prat...  \n",
              "4991  Não gostei se é bonita mais o material e muito...  "
            ]
          },
          "execution_count": 43,
          "metadata": {},
          "output_type": "execute_result"
        }
      ],
      "source": [
        "df_test.sample(n=5)"
      ]
    },
    {
      "cell_type": "code",
      "execution_count": null,
      "metadata": {
        "colab": {
          "base_uri": "https://localhost:8080/"
        },
        "id": "XAZYIvQ9-yBA",
        "outputId": "f2571a0d-5955-450e-9837-0d32db2b8830"
      },
      "outputs": [
        {
          "data": {
            "text/plain": [
              "('péssimo pedi começo do ano e ainda tá aguardando nota fiscal com previsão de entrega só em abril como uma compradora regular do site estou insatisfeita',\n",
              " array([ 121,  307, 1630,   12,  368,    3,   35,  622,  228,  164,  354,\n",
              "          11,  489,    5,   18,   54,   16, 1116,   41,   21, 4166, 1278,\n",
              "          12,   73,   43,  584,    0,    0,    0,    0,    0,    0,    0,\n",
              "           0,    0,    0,    0,    0,    0,    0,    0,    0,    0,    0,\n",
              "           0,    0,    0,    0,    0,    0,    0,    0,    0,    0,    0,\n",
              "           0,    0,    0,    0,    0,    0,    0,    0,    0,    0,    0,\n",
              "           0,    0,    0,    0,    0,    0,    0,    0,    0,    0,    0,\n",
              "           0,    0,    0,    0,    0,    0,    0,    0,    0,    0,    0,\n",
              "           0,    0,    0,    0,    0,    0,    0,    0,    0,    0,    0,\n",
              "           0,    0,    0,    0,    0,    0,    0,    0,    0,    0,    0,\n",
              "           0,    0,    0,    0,    0,    0,    0,    0,    0,    0,    0,\n",
              "           0,    0,    0,    0,    0,    0,    0]))"
            ]
          },
          "execution_count": 44,
          "metadata": {},
          "output_type": "execute_result"
        }
      ],
      "source": [
        "i=10\n",
        "train_samples[i], x_train[i]"
      ]
    },
    {
      "cell_type": "code",
      "execution_count": null,
      "metadata": {
        "colab": {
          "base_uri": "https://localhost:8080/"
        },
        "id": "2KZP4_shLbet",
        "outputId": "6ea24ccb-bed0-45e5-fdc8-ffe06eae1732"
      },
      "outputs": [
        {
          "name": "stdout",
          "output_type": "stream",
          "text": [
            "Test Loss: 0.21954\n",
            "Test Accuracy: 0.91450\n"
          ]
        }
      ],
      "source": [
        "test_loss, test_acc = model.evaluate(x_test, y_test, verbose = False)\n",
        "print(f'Test Loss: {test_loss:.5f}')\n",
        "print(f'Test Accuracy: {test_acc:.5f}')"
      ]
    },
    {
      "cell_type": "code",
      "execution_count": null,
      "metadata": {
        "colab": {
          "base_uri": "https://localhost:8080/"
        },
        "id": "ddyjr8taabHx",
        "outputId": "3a5902d6-0123-4135-9d0b-c92dfa899648"
      },
      "outputs": [
        {
          "name": "stdout",
          "output_type": "stream",
          "text": [
            "\u001b[1m188/188\u001b[0m \u001b[32m━━━━━━━━━━━━━━━━━━━━\u001b[0m\u001b[37m\u001b[0m \u001b[1m1s\u001b[0m 6ms/step\n",
            "Acurácia: 0.91450\n"
          ]
        },
        {
          "data": {
            "text/plain": [
              "[1, 1, 1, 0, 1, 1, 0, 1, 1, 1, 1, 1, 1, 1, 1]"
            ]
          },
          "execution_count": 46,
          "metadata": {},
          "output_type": "execute_result"
        }
      ],
      "source": [
        "y_prob = model.predict(np.array(x_test))\n",
        "# convertendo o vetor de probabilidads em um vetor de predições binárias\n",
        "# y_pred = [int(i > .5) for i in y_prob]\n",
        "y_pred = [int(i > .5) for i in y_prob.flatten()]\n",
        "print(f\"Acurácia: {accuracy_score(y_test, y_pred):.5f}\")\n",
        "y_pred[0:15]\n"
      ]
    },
    {
      "cell_type": "code",
      "execution_count": null,
      "metadata": {
        "colab": {
          "base_uri": "https://localhost:8080/",
          "height": 486
        },
        "id": "QDhEqtS0Z5XF",
        "outputId": "2d4d1e65-0f85-455b-d7cd-231926bd09d1"
      },
      "outputs": [
        {
          "name": "stdout",
          "output_type": "stream",
          "text": [
            "Acurácia: 0.91450\n",
            "F1-macro: 0.91449\n"
          ]
        },
        {
          "data": {
            "image/png": "[encoded data removed]",
            "text/plain": [
              "<Figure size 640x480 with 2 Axes>"
            ]
          },
          "metadata": {},
          "output_type": "display_data"
        }
      ],
      "source": [
        "#matriz de confusão\n",
        "print(f\"Acurácia: {accuracy_score(y_test, y_pred):.5f}\")\n",
        "print(f\"F1-macro: {f1_score(y_test, y_pred, average='macro'):.5f}\")\n",
        "cm = confusion_matrix(y_test, y_pred)\n",
        "cm_display = ConfusionMatrixDisplay(confusion_matrix = cm, display_labels = ['negative','positive'])\n",
        "cm_display.plot()\n",
        "plt.show()"
      ]
    },
    {
      "cell_type": "markdown",
      "metadata": {
        "id": "ANabzDzFX7cA"
      },
      "source": [
        "##Examinando as instâncias mal classificadas"
      ]
    },
    {
      "cell_type": "code",
      "execution_count": null,
      "metadata": {
        "id": "cgYIwunMQP5f"
      },
      "outputs": [],
      "source": [
        "erros  = list (zip(df_test['text'].values,df_test['text_original'].values,y_test,y_pred)) #criando lista com os erros\n",
        "erros = [item for item in erros if item[2] != item[3]] #removendo as instâncias corretas\n",
        "df_erros = pd.DataFrame(erros,columns =['Texto','Original','True','Pred']) #gerando um dataframe para ficar mais fácil de trabalhar"
      ]
    },
    {
      "cell_type": "code",
      "execution_count": null,
      "metadata": {
        "id": "6q6gwLXhQivh"
      },
      "outputs": [],
      "source": [
        "#acrescentando colunas FP e FN no dataframe com os erros\n",
        "df_erros['FP'] = df_erros.apply(lambda x: 1 if ((x['Pred']==1) & (x['True']==0)) else 0, axis=1)\n",
        "df_erros['FN'] = df_erros.apply(lambda x: 1 if ((x['Pred']==0) & (x['True']==1)) else 0, axis=1)"
      ]
    },
    {
      "cell_type": "code",
      "execution_count": null,
      "metadata": {
        "colab": {
          "base_uri": "https://localhost:8080/"
        },
        "id": "fDUISBJw9J1i",
        "outputId": "7eb1f5db-30c0-492c-fe48-625462039d66"
      },
      "outputs": [
        {
          "name": "stdout",
          "output_type": "stream",
          "text": [
            "Há  513  instâncias mal classificadas.\n"
          ]
        }
      ],
      "source": [
        "print('Há ', len(df_erros),' instâncias mal classificadas.')"
      ]
    },
    {
      "cell_type": "code",
      "execution_count": null,
      "metadata": {
        "colab": {
          "base_uri": "https://localhost:8080/",
          "height": 423
        },
        "id": "NdIdgqUIjSXN",
        "outputId": "a8b4acc6-265e-43e3-d9b2-e4ada9579810"
      },
      "outputs": [
        {
          "data": {
            "application/vnd.google.colaboratory.intrinsic+json": {
              "summary": "{\n  \"name\": \"df_erros[df_erros['FN']==1]\",\n  \"rows\": 233,\n  \"fields\": [\n    {\n      \"column\": \"Texto\",\n      \"properties\": {\n        \"dtype\": \"string\",\n        \"num_unique_values\": 233,\n        \"samples\": [\n          \"j\\u00e1 havia dado de tudo para os meus c\\u00e3es e nada resolvia mas nexgard funciona de verdade\",\n          \"coloquei no meu gurgel supermini e realmente resolveu o problema de potencia agora falta bolar uma maneira de voltar a dirigir com um pouco de conforto j\\u00e1 que precisei retirar todos os bancos\",\n          \"apesar da nvi n\\u00e3o ser a minha tradu\\u00e7\\u00e3o preferida esta biblia cumpre bem o seu prop\\u00f3sito que \\u00e9 de estudo e anota\\u00e7\\u00f5es\"\n        ],\n        \"semantic_type\": \"\",\n        \"description\": \"\"\n      }\n    },\n    {\n      \"column\": \"Original\",\n      \"properties\": {\n        \"dtype\": \"string\",\n        \"num_unique_values\": 233,\n        \"samples\": [\n          \"J\\u00e1 havia dado de tudo para os meus c\\u00e3es e nada resolvia. Mas Nexgard funciona de verdade!\",\n          \"Coloquei no meu Gurgel Supermini 1992 e realmente resolveu o problema de potencia, agora falta bolar uma maneira de voltar a dirigir com um pouco de conforto j\\u00e1 que precisei retirar todos os bancos...\",\n          \"Apesar da NVI n\\u00e3o ser a minha tradu\\u00e7\\u00e3o preferida, esta biblia cumpre bem o seu prop\\u00f3sito que \\u00e9 de estudo e anota\\u00e7\\u00f5es\"\n        ],\n        \"semantic_type\": \"\",\n        \"description\": \"\"\n      }\n    },\n    {\n      \"column\": \"True\",\n      \"properties\": {\n        \"dtype\": \"number\",\n        \"std\": 0,\n        \"min\": 1,\n        \"max\": 1,\n        \"num_unique_values\": 1,\n        \"samples\": [\n          1\n        ],\n        \"semantic_type\": \"\",\n        \"description\": \"\"\n      }\n    },\n    {\n      \"column\": \"Pred\",\n      \"properties\": {\n        \"dtype\": \"number\",\n        \"std\": 0,\n        \"min\": 0,\n        \"max\": 0,\n        \"num_unique_values\": 1,\n        \"samples\": [\n          0\n        ],\n        \"semantic_type\": \"\",\n        \"description\": \"\"\n      }\n    },\n    {\n      \"column\": \"FP\",\n      \"properties\": {\n        \"dtype\": \"number\",\n        \"std\": 0,\n        \"min\": 0,\n        \"max\": 0,\n        \"num_unique_values\": 1,\n        \"samples\": [\n          0\n        ],\n        \"semantic_type\": \"\",\n        \"description\": \"\"\n      }\n    },\n    {\n      \"column\": \"FN\",\n      \"properties\": {\n        \"dtype\": \"number\",\n        \"std\": 0,\n        \"min\": 1,\n        \"max\": 1,\n        \"num_unique_values\": 1,\n        \"samples\": [\n          1\n        ],\n        \"semantic_type\": \"\",\n        \"description\": \"\"\n      }\n    }\n  ]\n}",
              "type": "dataframe"
            },
            "text/html": [
              "\n",
              "  <div id=\"df-22d29342-db06-45cc-9063-0c0615e7546f\" class=\"colab-df-container\">\n",
              "    <div>\n",
              "<style scoped>\n",
              "    .dataframe tbody tr th:only-of-type {\n",
              "        vertical-align: middle;\n",
              "    }\n",
              "\n",
              "    .dataframe tbody tr th {\n",
              "        vertical-align: top;\n",
              "    }\n",
              "\n",
              "    .dataframe thead th {\n",
              "        text-align: right;\n",
              "    }\n",
              "</style>\n",
              "<table border=\"1\" class=\"dataframe\">\n",
              "  <thead>\n",
              "    <tr style=\"text-align: right;\">\n",
              "      <th></th>\n",
              "      <th>Texto</th>\n",
              "      <th>Original</th>\n",
              "      <th>True</th>\n",
              "      <th>Pred</th>\n",
              "      <th>FP</th>\n",
              "      <th>FN</th>\n",
              "    </tr>\n",
              "  </thead>\n",
              "  <tbody>\n",
              "    <tr>\n",
              "      <th>0</th>\n",
              "      <td>chegou antes do prazo a caneta é fininha e nao...</td>\n",
              "      <td>Chegou antes do prazo, a caneta é fininha e na...</td>\n",
              "      <td>1</td>\n",
              "      <td>0</td>\n",
              "      <td>0</td>\n",
              "      <td>1</td>\n",
              "    </tr>\n",
              "    <tr>\n",
              "      <th>1</th>\n",
              "      <td>comprei entrega a jato para entregar em dia út...</td>\n",
              "      <td>Comprei entrega a jato para entregar em 1 dia ...</td>\n",
              "      <td>1</td>\n",
              "      <td>0</td>\n",
              "      <td>0</td>\n",
              "      <td>1</td>\n",
              "    </tr>\n",
              "    <tr>\n",
              "      <th>2</th>\n",
              "      <td>não liguem para o valor o material é de outro ...</td>\n",
              "      <td>Não liguem para o valor, o material é de outro...</td>\n",
              "      <td>1</td>\n",
              "      <td>0</td>\n",
              "      <td>0</td>\n",
              "      <td>1</td>\n",
              "    </tr>\n",
              "    <tr>\n",
              "      <th>3</th>\n",
              "      <td>o produto foi leal aquilo que o marketing anun...</td>\n",
              "      <td>O produto foi leal aquilo que o marketing anun...</td>\n",
              "      <td>1</td>\n",
              "      <td>0</td>\n",
              "      <td>0</td>\n",
              "      <td>1</td>\n",
              "    </tr>\n",
              "    <tr>\n",
              "      <th>4</th>\n",
              "      <td>acho extranho a americana vender este aparelho...</td>\n",
              "      <td>acHo extranho a AMERICANA VENDER ESTE APARELHO...</td>\n",
              "      <td>1</td>\n",
              "      <td>0</td>\n",
              "      <td>0</td>\n",
              "      <td>1</td>\n",
              "    </tr>\n",
              "    <tr>\n",
              "      <th>...</th>\n",
              "      <td>...</td>\n",
              "      <td>...</td>\n",
              "      <td>...</td>\n",
              "      <td>...</td>\n",
              "      <td>...</td>\n",
              "      <td>...</td>\n",
              "    </tr>\n",
              "    <tr>\n",
              "      <th>228</th>\n",
              "      <td>relógio bonito todo preto mas não é robusto qu...</td>\n",
              "      <td>Relógio bonito, todo preto, mas não é robusto ...</td>\n",
              "      <td>1</td>\n",
              "      <td>0</td>\n",
              "      <td>0</td>\n",
              "      <td>1</td>\n",
              "    </tr>\n",
              "    <tr>\n",
              "      <th>229</th>\n",
              "      <td>bem legal o celular tela grande bateria dura m...</td>\n",
              "      <td>Bem legal o celular,  tela grande,  bateria du...</td>\n",
              "      <td>1</td>\n",
              "      <td>0</td>\n",
              "      <td>0</td>\n",
              "      <td>1</td>\n",
              "    </tr>\n",
              "    <tr>\n",
              "      <th>230</th>\n",
              "      <td>cumpre o que promete apesar de aparência frági...</td>\n",
              "      <td>Cumpre o que promete, apesar de aparência frág...</td>\n",
              "      <td>1</td>\n",
              "      <td>0</td>\n",
              "      <td>0</td>\n",
              "      <td>1</td>\n",
              "    </tr>\n",
              "    <tr>\n",
              "      <th>231</th>\n",
              "      <td>apesar da nvi não ser a minha tradução preferi...</td>\n",
              "      <td>Apesar da NVI não ser a minha tradução preferi...</td>\n",
              "      <td>1</td>\n",
              "      <td>0</td>\n",
              "      <td>0</td>\n",
              "      <td>1</td>\n",
              "    </tr>\n",
              "    <tr>\n",
              "      <th>232</th>\n",
              "      <td>o produto é de qualidade e muito bom porém o a...</td>\n",
              "      <td>O produto é de qualidade e muito bom , porém o...</td>\n",
              "      <td>1</td>\n",
              "      <td>0</td>\n",
              "      <td>0</td>\n",
              "      <td>1</td>\n",
              "    </tr>\n",
              "  </tbody>\n",
              "</table>\n",
              "<p>233 rows × 6 columns</p>\n",
              "</div>\n",
              "    <div class=\"colab-df-buttons\">\n",
              "\n",
              "  <div class=\"colab-df-container\">\n",
              "    <button class=\"colab-df-convert\" onclick=\"convertToInteractive('df-22d29342-db06-45cc-9063-0c0615e7546f')\"\n",
              "            title=\"Convert this dataframe to an interactive table.\"\n",
              "            style=\"display:none;\">\n",
              "\n",
              "  <svg xmlns=\"http://www.w3.org/2000/svg\" height=\"24px\" viewBox=\"0 -960 960 960\">\n",
              "    <path d=\"M120-120v-720h720v720H120Zm60-500h600v-160H180v160Zm220 220h160v-160H400v160Zm0 220h160v-160H400v160ZM180-400h160v-160H180v160Zm440 0h160v-160H620v160ZM180-180h160v-160H180v160Zm440 0h160v-160H620v160Z\"/>\n",
              "  </svg>\n",
              "    </button>\n",
              "\n",
              "  <style>\n",
              "    .colab-df-container {\n",
              "      display:flex;\n",
              "      gap: 12px;\n",
              "    }\n",
              "\n",
              "    .colab-df-convert {\n",
              "      background-color: #E8F0FE;\n",
              "      border: none;\n",
              "      border-radius: 50%;\n",
              "      cursor: pointer;\n",
              "      display: none;\n",
              "      fill: #1967D2;\n",
              "      height: 32px;\n",
              "      padding: 0 0 0 0;\n",
              "      width: 32px;\n",
              "    }\n",
              "\n",
              "    .colab-df-convert:hover {\n",
              "      background-color: #E2EBFA;\n",
              "      box-shadow: 0px 1px 2px rgba(60, 64, 67, 0.3), 0px 1px 3px 1px rgba(60, 64, 67, 0.15);\n",
              "      fill: #174EA6;\n",
              "    }\n",
              "\n",
              "    .colab-df-buttons div {\n",
              "      margin-bottom: 4px;\n",
              "    }\n",
              "\n",
              "    [theme=dark] .colab-df-convert {\n",
              "      background-color: #3B4455;\n",
              "      fill: #D2E3FC;\n",
              "    }\n",
              "\n",
              "    [theme=dark] .colab-df-convert:hover {\n",
              "      background-color: #434B5C;\n",
              "      box-shadow: 0px 1px 3px 1px rgba(0, 0, 0, 0.15);\n",
              "      filter: drop-shadow(0px 1px 2px rgba(0, 0, 0, 0.3));\n",
              "      fill: #FFFFFF;\n",
              "    }\n",
              "  </style>\n",
              "\n",
              "    <script>\n",
              "      const buttonEl =\n",
              "        document.querySelector('#df-22d29342-db06-45cc-9063-0c0615e7546f button.colab-df-convert');\n",
              "      buttonEl.style.display =\n",
              "        google.colab.kernel.accessAllowed ? 'block' : 'none';\n",
              "\n",
              "      async function convertToInteractive(key) {\n",
              "        const element = document.querySelector('#df-22d29342-db06-45cc-9063-0c0615e7546f');\n",
              "        const dataTable =\n",
              "          await google.colab.kernel.invokeFunction('convertToInteractive',\n",
              "                                                    [key], {});\n",
              "        if (!dataTable) return;\n",
              "\n",
              "        const docLinkHtml = 'Like what you see? Visit the ' +\n",
              "          '<a target=\"_blank\" href=https://colab.research.google.com/notebooks/data_table.ipynb>data table notebook</a>'\n",
              "          + ' to learn more about interactive tables.';\n",
              "        element.innerHTML = '';\n",
              "        dataTable['output_type'] = 'display_data';\n",
              "        await google.colab.output.renderOutput(dataTable, element);\n",
              "        const docLink = document.createElement('div');\n",
              "        docLink.innerHTML = docLinkHtml;\n",
              "        element.appendChild(docLink);\n",
              "      }\n",
              "    </script>\n",
              "  </div>\n",
              "\n",
              "\n",
              "<div id=\"df-c7d1bfa9-c561-4d34-9bc9-d3f09c08e7f2\">\n",
              "  <button class=\"colab-df-quickchart\" onclick=\"quickchart('df-c7d1bfa9-c561-4d34-9bc9-d3f09c08e7f2')\"\n",
              "            title=\"Suggest charts\"\n",
              "            style=\"display:none;\">\n",
              "\n",
              "<svg xmlns=\"http://www.w3.org/2000/svg\" height=\"24px\"viewBox=\"0 0 24 24\"\n",
              "     width=\"24px\">\n",
              "    <g>\n",
              "        <path d=\"M19 3H5c-1.1 0-2 .9-2 2v14c0 1.1.9 2 2 2h14c1.1 0 2-.9 2-2V5c0-1.1-.9-2-2-2zM9 17H7v-7h2v7zm4 0h-2V7h2v10zm4 0h-2v-4h2v4z\"/>\n",
              "    </g>\n",
              "</svg>\n",
              "  </button>\n",
              "\n",
              "<style>\n",
              "  .colab-df-quickchart {\n",
              "      --bg-color: #E8F0FE;\n",
              "      --fill-color: #1967D2;\n",
              "      --hover-bg-color: #E2EBFA;\n",
              "      --hover-fill-color: #174EA6;\n",
              "      --disabled-fill-color: #AAA;\n",
              "      --disabled-bg-color: #DDD;\n",
              "  }\n",
              "\n",
              "  [theme=dark] .colab-df-quickchart {\n",
              "      --bg-color: #3B4455;\n",
              "      --fill-color: #D2E3FC;\n",
              "      --hover-bg-color: #434B5C;\n",
              "      --hover-fill-color: #FFFFFF;\n",
              "      --disabled-bg-color: #3B4455;\n",
              "      --disabled-fill-color: #666;\n",
              "  }\n",
              "\n",
              "  .colab-df-quickchart {\n",
              "    background-color: var(--bg-color);\n",
              "    border: none;\n",
              "    border-radius: 50%;\n",
              "    cursor: pointer;\n",
              "    display: none;\n",
              "    fill: var(--fill-color);\n",
              "    height: 32px;\n",
              "    padding: 0;\n",
              "    width: 32px;\n",
              "  }\n",
              "\n",
              "  .colab-df-quickchart:hover {\n",
              "    background-color: var(--hover-bg-color);\n",
              "    box-shadow: 0 1px 2px rgba(60, 64, 67, 0.3), 0 1px 3px 1px rgba(60, 64, 67, 0.15);\n",
              "    fill: var(--button-hover-fill-color);\n",
              "  }\n",
              "\n",
              "  .colab-df-quickchart-complete:disabled,\n",
              "  .colab-df-quickchart-complete:disabled:hover {\n",
              "    background-color: var(--disabled-bg-color);\n",
              "    fill: var(--disabled-fill-color);\n",
              "    box-shadow: none;\n",
              "  }\n",
              "\n",
              "  .colab-df-spinner {\n",
              "    border: 2px solid var(--fill-color);\n",
              "    border-color: transparent;\n",
              "    border-bottom-color: var(--fill-color);\n",
              "    animation:\n",
              "      spin 1s steps(1) infinite;\n",
              "  }\n",
              "\n",
              "  @keyframes spin {\n",
              "    0% {\n",
              "      border-color: transparent;\n",
              "      border-bottom-color: var(--fill-color);\n",
              "      border-left-color: var(--fill-color);\n",
              "    }\n",
              "    20% {\n",
              "      border-color: transparent;\n",
              "      border-left-color: var(--fill-color);\n",
              "      border-top-color: var(--fill-color);\n",
              "    }\n",
              "    30% {\n",
              "      border-color: transparent;\n",
              "      border-left-color: var(--fill-color);\n",
              "      border-top-color: var(--fill-color);\n",
              "      border-right-color: var(--fill-color);\n",
              "    }\n",
              "    40% {\n",
              "      border-color: transparent;\n",
              "      border-right-color: var(--fill-color);\n",
              "      border-top-color: var(--fill-color);\n",
              "    }\n",
              "    60% {\n",
              "      border-color: transparent;\n",
              "      border-right-color: var(--fill-color);\n",
              "    }\n",
              "    80% {\n",
              "      border-color: transparent;\n",
              "      border-right-color: var(--fill-color);\n",
              "      border-bottom-color: var(--fill-color);\n",
              "    }\n",
              "    90% {\n",
              "      border-color: transparent;\n",
              "      border-bottom-color: var(--fill-color);\n",
              "    }\n",
              "  }\n",
              "</style>\n",
              "\n",
              "  <script>\n",
              "    async function quickchart(key) {\n",
              "      const quickchartButtonEl =\n",
              "        document.querySelector('#' + key + ' button');\n",
              "      quickchartButtonEl.disabled = true;  // To prevent multiple clicks.\n",
              "      quickchartButtonEl.classList.add('colab-df-spinner');\n",
              "      try {\n",
              "        const charts = await google.colab.kernel.invokeFunction(\n",
              "            'suggestCharts', [key], {});\n",
              "      } catch (error) {\n",
              "        console.error('Error during call to suggestCharts:', error);\n",
              "      }\n",
              "      quickchartButtonEl.classList.remove('colab-df-spinner');\n",
              "      quickchartButtonEl.classList.add('colab-df-quickchart-complete');\n",
              "    }\n",
              "    (() => {\n",
              "      let quickchartButtonEl =\n",
              "        document.querySelector('#df-c7d1bfa9-c561-4d34-9bc9-d3f09c08e7f2 button');\n",
              "      quickchartButtonEl.style.display =\n",
              "        google.colab.kernel.accessAllowed ? 'block' : 'none';\n",
              "    })();\n",
              "  </script>\n",
              "</div>\n",
              "\n",
              "    </div>\n",
              "  </div>\n"
            ],
            "text/plain": [
              "                                                 Texto  \\\n",
              "0    chegou antes do prazo a caneta é fininha e nao...   \n",
              "1    comprei entrega a jato para entregar em dia út...   \n",
              "2    não liguem para o valor o material é de outro ...   \n",
              "3    o produto foi leal aquilo que o marketing anun...   \n",
              "4    acho extranho a americana vender este aparelho...   \n",
              "..                                                 ...   \n",
              "228  relógio bonito todo preto mas não é robusto qu...   \n",
              "229  bem legal o celular tela grande bateria dura m...   \n",
              "230  cumpre o que promete apesar de aparência frági...   \n",
              "231  apesar da nvi não ser a minha tradução preferi...   \n",
              "232  o produto é de qualidade e muito bom porém o a...   \n",
              "\n",
              "                                              Original  True  Pred  FP  FN  \n",
              "0    Chegou antes do prazo, a caneta é fininha e na...     1     0   0   1  \n",
              "1    Comprei entrega a jato para entregar em 1 dia ...     1     0   0   1  \n",
              "2    Não liguem para o valor, o material é de outro...     1     0   0   1  \n",
              "3    O produto foi leal aquilo que o marketing anun...     1     0   0   1  \n",
              "4    acHo extranho a AMERICANA VENDER ESTE APARELHO...     1     0   0   1  \n",
              "..                                                 ...   ...   ...  ..  ..  \n",
              "228  Relógio bonito, todo preto, mas não é robusto ...     1     0   0   1  \n",
              "229  Bem legal o celular,  tela grande,  bateria du...     1     0   0   1  \n",
              "230  Cumpre o que promete, apesar de aparência frág...     1     0   0   1  \n",
              "231  Apesar da NVI não ser a minha tradução preferi...     1     0   0   1  \n",
              "232  O produto é de qualidade e muito bom , porém o...     1     0   0   1  \n",
              "\n",
              "[233 rows x 6 columns]"
            ]
          },
          "execution_count": 51,
          "metadata": {},
          "output_type": "execute_result"
        }
      ],
      "source": [
        "#inspecionando os falsos negativos\n",
        "df_erros[df_erros['FN']==1]"
      ]
    },
    {
      "cell_type": "code",
      "execution_count": null,
      "metadata": {
        "colab": {
          "base_uri": "https://localhost:8080/",
          "height": 424
        },
        "id": "pMdQqblpYEXz",
        "outputId": "ac6955b6-13d8-478c-852c-4b49fc1b66ef"
      },
      "outputs": [
        {
          "data": {
            "application/vnd.google.colaboratory.intrinsic+json": {
              "summary": "{\n  \"name\": \"df_erros[df_erros['FP']==1]\",\n  \"rows\": 357,\n  \"fields\": [\n    {\n      \"column\": \"Texto\",\n      \"properties\": {\n        \"dtype\": \"string\",\n        \"num_unique_values\": 356,\n        \"samples\": [\n          \"produto bom por\\u00e9m a tampa veio quebrada isso atrapalha na hr de deixar fechada a garrafa e o l\\u00edquido cai na bolsa\",\n          \"o produto \\u00e9 bonito e f\\u00e1cil de montar chegou r\\u00e1pido o \\u00fanico problema \\u00e9 que chegou com o espelho quebrado entrei em contato con as lojas americanas e estou aguardando o espelho\",\n          \"vou procurar meus direitos no lugar de direito americanas n\\u00e3o mais\"\n        ],\n        \"semantic_type\": \"\",\n        \"description\": \"\"\n      }\n    },\n    {\n      \"column\": \"Original\",\n      \"properties\": {\n        \"dtype\": \"string\",\n        \"num_unique_values\": 356,\n        \"samples\": [\n          \"Produto bom, por\\u00e9m a tampa veio quebrada isso atrapalha na hr de deixar fechada a garrafa e o l\\u00edquido cai na bolsa.\",\n          \"O produto \\u00e9 bonito e f\\u00e1cil de montar. chegou r\\u00e1pido... O \\u00fanico problema \\u00e9 que chegou com o espelho quebrado... Entrei em contato con as lojas americanas e estou aguardando o espelho.\",\n          \"Vou procurar meus direitos no lugar de direito. Americanas n\\u00e3o mais.\"\n        ],\n        \"semantic_type\": \"\",\n        \"description\": \"\"\n      }\n    },\n    {\n      \"column\": \"True\",\n      \"properties\": {\n        \"dtype\": \"number\",\n        \"std\": 0,\n        \"min\": 0,\n        \"max\": 0,\n        \"num_unique_values\": 1,\n        \"samples\": [\n          0\n        ],\n        \"semantic_type\": \"\",\n        \"description\": \"\"\n      }\n    },\n    {\n      \"column\": \"Pred\",\n      \"properties\": {\n        \"dtype\": \"number\",\n        \"std\": 0,\n        \"min\": 1,\n        \"max\": 1,\n        \"num_unique_values\": 1,\n        \"samples\": [\n          1\n        ],\n        \"semantic_type\": \"\",\n        \"description\": \"\"\n      }\n    },\n    {\n      \"column\": \"FP\",\n      \"properties\": {\n        \"dtype\": \"number\",\n        \"std\": 0,\n        \"min\": 1,\n        \"max\": 1,\n        \"num_unique_values\": 1,\n        \"samples\": [\n          1\n        ],\n        \"semantic_type\": \"\",\n        \"description\": \"\"\n      }\n    },\n    {\n      \"column\": \"FN\",\n      \"properties\": {\n        \"dtype\": \"number\",\n        \"std\": 0,\n        \"min\": 0,\n        \"max\": 0,\n        \"num_unique_values\": 1,\n        \"samples\": [\n          0\n        ],\n        \"semantic_type\": \"\",\n        \"description\": \"\"\n      }\n    }\n  ]\n}",
              "type": "dataframe"
            },
            "text/html": [
              "\n",
              "  <div id=\"df-93cf747f-b9fc-4c80-b7be-6a88c34672df\" class=\"colab-df-container\">\n",
              "    <div>\n",
              "<style scoped>\n",
              "    .dataframe tbody tr th:only-of-type {\n",
              "        vertical-align: middle;\n",
              "    }\n",
              "\n",
              "    .dataframe tbody tr th {\n",
              "        vertical-align: top;\n",
              "    }\n",
              "\n",
              "    .dataframe thead th {\n",
              "        text-align: right;\n",
              "    }\n",
              "</style>\n",
              "<table border=\"1\" class=\"dataframe\">\n",
              "  <thead>\n",
              "    <tr style=\"text-align: right;\">\n",
              "      <th></th>\n",
              "      <th>Texto</th>\n",
              "      <th>Original</th>\n",
              "      <th>True</th>\n",
              "      <th>Pred</th>\n",
              "      <th>FP</th>\n",
              "      <th>FN</th>\n",
              "    </tr>\n",
              "  </thead>\n",
              "  <tbody>\n",
              "    <tr>\n",
              "      <th>198</th>\n",
              "      <td>a entrega foi super rápida mas o produto desli...</td>\n",
              "      <td>A entrega foi super rápida, mas o produto desl...</td>\n",
              "      <td>0</td>\n",
              "      <td>1</td>\n",
              "      <td>1</td>\n",
              "      <td>0</td>\n",
              "    </tr>\n",
              "    <tr>\n",
              "      <th>199</th>\n",
              "      <td>o produto comprado deu problema no touch scree...</td>\n",
              "      <td>O produto comprado deu problema no touch scree...</td>\n",
              "      <td>0</td>\n",
              "      <td>1</td>\n",
              "      <td>1</td>\n",
              "      <td>0</td>\n",
              "    </tr>\n",
              "    <tr>\n",
              "      <th>200</th>\n",
              "      <td>muito frágil de operação difícil não recomendo</td>\n",
              "      <td>Muito frágil de operação difícil. Não recomend...</td>\n",
              "      <td>0</td>\n",
              "      <td>1</td>\n",
              "      <td>1</td>\n",
              "      <td>0</td>\n",
              "    </tr>\n",
              "    <tr>\n",
              "      <th>201</th>\n",
              "      <td>o tamanho não confere com o da descrição não c...</td>\n",
              "      <td>O tamanho não confere com o da descrição,  não...</td>\n",
              "      <td>0</td>\n",
              "      <td>1</td>\n",
              "      <td>1</td>\n",
              "      <td>0</td>\n",
              "    </tr>\n",
              "    <tr>\n",
              "      <th>202</th>\n",
              "      <td>boa tarde a mercadoria veio faltando peças par...</td>\n",
              "      <td>boa tarde,a mercadoria veio faltando peças par...</td>\n",
              "      <td>0</td>\n",
              "      <td>1</td>\n",
              "      <td>1</td>\n",
              "      <td>0</td>\n",
              "    </tr>\n",
              "    <tr>\n",
              "      <th>...</th>\n",
              "      <td>...</td>\n",
              "      <td>...</td>\n",
              "      <td>...</td>\n",
              "      <td>...</td>\n",
              "      <td>...</td>\n",
              "      <td>...</td>\n",
              "    </tr>\n",
              "    <tr>\n",
              "      <th>550</th>\n",
              "      <td>na fotografia parece um equipamento bom mas é ...</td>\n",
              "      <td>Na fotografia parece um equipamento bom, mas é...</td>\n",
              "      <td>0</td>\n",
              "      <td>1</td>\n",
              "      <td>1</td>\n",
              "      <td>0</td>\n",
              "    </tr>\n",
              "    <tr>\n",
              "      <th>551</th>\n",
              "      <td>quanto ao vendedor muito bom pontual tudo cert...</td>\n",
              "      <td>Quanto ao vendedor, muito bom, pontual , tudo ...</td>\n",
              "      <td>0</td>\n",
              "      <td>1</td>\n",
              "      <td>1</td>\n",
              "      <td>0</td>\n",
              "    </tr>\n",
              "    <tr>\n",
              "      <th>552</th>\n",
              "      <td>ja tem mais de dias e nada do meu produto chegar</td>\n",
              "      <td>ja tem mais de 30 dias e nada do meu produto c...</td>\n",
              "      <td>0</td>\n",
              "      <td>1</td>\n",
              "      <td>1</td>\n",
              "      <td>0</td>\n",
              "    </tr>\n",
              "    <tr>\n",
              "      <th>553</th>\n",
              "      <td>não aprovei o produto pelas questões da qualid...</td>\n",
              "      <td>Não aprovei o produto pelas questões da qualid...</td>\n",
              "      <td>0</td>\n",
              "      <td>1</td>\n",
              "      <td>1</td>\n",
              "      <td>0</td>\n",
              "    </tr>\n",
              "    <tr>\n",
              "      <th>554</th>\n",
              "      <td>tão bom que não informa dados técnicos e nem a...</td>\n",
              "      <td>Tão bom que não informa dados técnicos e nem a...</td>\n",
              "      <td>0</td>\n",
              "      <td>1</td>\n",
              "      <td>1</td>\n",
              "      <td>0</td>\n",
              "    </tr>\n",
              "  </tbody>\n",
              "</table>\n",
              "<p>357 rows × 6 columns</p>\n",
              "</div>\n",
              "    <div class=\"colab-df-buttons\">\n",
              "\n",
              "  <div class=\"colab-df-container\">\n",
              "    <button class=\"colab-df-convert\" onclick=\"convertToInteractive('df-93cf747f-b9fc-4c80-b7be-6a88c34672df')\"\n",
              "            title=\"Convert this dataframe to an interactive table.\"\n",
              "            style=\"display:none;\">\n",
              "\n",
              "  <svg xmlns=\"http://www.w3.org/2000/svg\" height=\"24px\" viewBox=\"0 -960 960 960\">\n",
              "    <path d=\"M120-120v-720h720v720H120Zm60-500h600v-160H180v160Zm220 220h160v-160H400v160Zm0 220h160v-160H400v160ZM180-400h160v-160H180v160Zm440 0h160v-160H620v160ZM180-180h160v-160H180v160Zm440 0h160v-160H620v160Z\"/>\n",
              "  </svg>\n",
              "    </button>\n",
              "\n",
              "  <style>\n",
              "    .colab-df-container {\n",
              "      display:flex;\n",
              "      gap: 12px;\n",
              "    }\n",
              "\n",
              "    .colab-df-convert {\n",
              "      background-color: #E8F0FE;\n",
              "      border: none;\n",
              "      border-radius: 50%;\n",
              "      cursor: pointer;\n",
              "      display: none;\n",
              "      fill: #1967D2;\n",
              "      height: 32px;\n",
              "      padding: 0 0 0 0;\n",
              "      width: 32px;\n",
              "    }\n",
              "\n",
              "    .colab-df-convert:hover {\n",
              "      background-color: #E2EBFA;\n",
              "      box-shadow: 0px 1px 2px rgba(60, 64, 67, 0.3), 0px 1px 3px 1px rgba(60, 64, 67, 0.15);\n",
              "      fill: #174EA6;\n",
              "    }\n",
              "\n",
              "    .colab-df-buttons div {\n",
              "      margin-bottom: 4px;\n",
              "    }\n",
              "\n",
              "    [theme=dark] .colab-df-convert {\n",
              "      background-color: #3B4455;\n",
              "      fill: #D2E3FC;\n",
              "    }\n",
              "\n",
              "    [theme=dark] .colab-df-convert:hover {\n",
              "      background-color: #434B5C;\n",
              "      box-shadow: 0px 1px 3px 1px rgba(0, 0, 0, 0.15);\n",
              "      filter: drop-shadow(0px 1px 2px rgba(0, 0, 0, 0.3));\n",
              "      fill: #FFFFFF;\n",
              "    }\n",
              "  </style>\n",
              "\n",
              "    <script>\n",
              "      const buttonEl =\n",
              "        document.querySelector('#df-93cf747f-b9fc-4c80-b7be-6a88c34672df button.colab-df-convert');\n",
              "      buttonEl.style.display =\n",
              "        google.colab.kernel.accessAllowed ? 'block' : 'none';\n",
              "\n",
              "      async function convertToInteractive(key) {\n",
              "        const element = document.querySelector('#df-93cf747f-b9fc-4c80-b7be-6a88c34672df');\n",
              "        const dataTable =\n",
              "          await google.colab.kernel.invokeFunction('convertToInteractive',\n",
              "                                                    [key], {});\n",
              "        if (!dataTable) return;\n",
              "\n",
              "        const docLinkHtml = 'Like what you see? Visit the ' +\n",
              "          '<a target=\"_blank\" href=https://colab.research.google.com/notebooks/data_table.ipynb>data table notebook</a>'\n",
              "          + ' to learn more about interactive tables.';\n",
              "        element.innerHTML = '';\n",
              "        dataTable['output_type'] = 'display_data';\n",
              "        await google.colab.output.renderOutput(dataTable, element);\n",
              "        const docLink = document.createElement('div');\n",
              "        docLink.innerHTML = docLinkHtml;\n",
              "        element.appendChild(docLink);\n",
              "      }\n",
              "    </script>\n",
              "  </div>\n",
              "\n",
              "\n",
              "<div id=\"df-0f627b71-56f5-4704-acdc-a30010f87e22\">\n",
              "  <button class=\"colab-df-quickchart\" onclick=\"quickchart('df-0f627b71-56f5-4704-acdc-a30010f87e22')\"\n",
              "            title=\"Suggest charts\"\n",
              "            style=\"display:none;\">\n",
              "\n",
              "<svg xmlns=\"http://www.w3.org/2000/svg\" height=\"24px\"viewBox=\"0 0 24 24\"\n",
              "     width=\"24px\">\n",
              "    <g>\n",
              "        <path d=\"M19 3H5c-1.1 0-2 .9-2 2v14c0 1.1.9 2 2 2h14c1.1 0 2-.9 2-2V5c0-1.1-.9-2-2-2zM9 17H7v-7h2v7zm4 0h-2V7h2v10zm4 0h-2v-4h2v4z\"/>\n",
              "    </g>\n",
              "</svg>\n",
              "  </button>\n",
              "\n",
              "<style>\n",
              "  .colab-df-quickchart {\n",
              "      --bg-color: #E8F0FE;\n",
              "      --fill-color: #1967D2;\n",
              "      --hover-bg-color: #E2EBFA;\n",
              "      --hover-fill-color: #174EA6;\n",
              "      --disabled-fill-color: #AAA;\n",
              "      --disabled-bg-color: #DDD;\n",
              "  }\n",
              "\n",
              "  [theme=dark] .colab-df-quickchart {\n",
              "      --bg-color: #3B4455;\n",
              "      --fill-color: #D2E3FC;\n",
              "      --hover-bg-color: #434B5C;\n",
              "      --hover-fill-color: #FFFFFF;\n",
              "      --disabled-bg-color: #3B4455;\n",
              "      --disabled-fill-color: #666;\n",
              "  }\n",
              "\n",
              "  .colab-df-quickchart {\n",
              "    background-color: var(--bg-color);\n",
              "    border: none;\n",
              "    border-radius: 50%;\n",
              "    cursor: pointer;\n",
              "    display: none;\n",
              "    fill: var(--fill-color);\n",
              "    height: 32px;\n",
              "    padding: 0;\n",
              "    width: 32px;\n",
              "  }\n",
              "\n",
              "  .colab-df-quickchart:hover {\n",
              "    background-color: var(--hover-bg-color);\n",
              "    box-shadow: 0 1px 2px rgba(60, 64, 67, 0.3), 0 1px 3px 1px rgba(60, 64, 67, 0.15);\n",
              "    fill: var(--button-hover-fill-color);\n",
              "  }\n",
              "\n",
              "  .colab-df-quickchart-complete:disabled,\n",
              "  .colab-df-quickchart-complete:disabled:hover {\n",
              "    background-color: var(--disabled-bg-color);\n",
              "    fill: var(--disabled-fill-color);\n",
              "    box-shadow: none;\n",
              "  }\n",
              "\n",
              "  .colab-df-spinner {\n",
              "    border: 2px solid var(--fill-color);\n",
              "    border-color: transparent;\n",
              "    border-bottom-color: var(--fill-color);\n",
              "    animation:\n",
              "      spin 1s steps(1) infinite;\n",
              "  }\n",
              "\n",
              "  @keyframes spin {\n",
              "    0% {\n",
              "      border-color: transparent;\n",
              "      border-bottom-color: var(--fill-color);\n",
              "      border-left-color: var(--fill-color);\n",
              "    }\n",
              "    20% {\n",
              "      border-color: transparent;\n",
              "      border-left-color: var(--fill-color);\n",
              "      border-top-color: var(--fill-color);\n",
              "    }\n",
              "    30% {\n",
              "      border-color: transparent;\n",
              "      border-left-color: var(--fill-color);\n",
              "      border-top-color: var(--fill-color);\n",
              "      border-right-color: var(--fill-color);\n",
              "    }\n",
              "    40% {\n",
              "      border-color: transparent;\n",
              "      border-right-color: var(--fill-color);\n",
              "      border-top-color: var(--fill-color);\n",
              "    }\n",
              "    60% {\n",
              "      border-color: transparent;\n",
              "      border-right-color: var(--fill-color);\n",
              "    }\n",
              "    80% {\n",
              "      border-color: transparent;\n",
              "      border-right-color: var(--fill-color);\n",
              "      border-bottom-color: var(--fill-color);\n",
              "    }\n",
              "    90% {\n",
              "      border-color: transparent;\n",
              "      border-bottom-color: var(--fill-color);\n",
              "    }\n",
              "  }\n",
              "</style>\n",
              "\n",
              "  <script>\n",
              "    async function quickchart(key) {\n",
              "      const quickchartButtonEl =\n",
              "        document.querySelector('#' + key + ' button');\n",
              "      quickchartButtonEl.disabled = true;  // To prevent multiple clicks.\n",
              "      quickchartButtonEl.classList.add('colab-df-spinner');\n",
              "      try {\n",
              "        const charts = await google.colab.kernel.invokeFunction(\n",
              "            'suggestCharts', [key], {});\n",
              "      } catch (error) {\n",
              "        console.error('Error during call to suggestCharts:', error);\n",
              "      }\n",
              "      quickchartButtonEl.classList.remove('colab-df-spinner');\n",
              "      quickchartButtonEl.classList.add('colab-df-quickchart-complete');\n",
              "    }\n",
              "    (() => {\n",
              "      let quickchartButtonEl =\n",
              "        document.querySelector('#df-0f627b71-56f5-4704-acdc-a30010f87e22 button');\n",
              "      quickchartButtonEl.style.display =\n",
              "        google.colab.kernel.accessAllowed ? 'block' : 'none';\n",
              "    })();\n",
              "  </script>\n",
              "</div>\n",
              "\n",
              "    </div>\n",
              "  </div>\n"
            ],
            "text/plain": [
              "                                                 Texto  \\\n",
              "198  a entrega foi super rápida mas o produto desli...   \n",
              "199  o produto comprado deu problema no touch scree...   \n",
              "200     muito frágil de operação difícil não recomendo   \n",
              "201  o tamanho não confere com o da descrição não c...   \n",
              "202  boa tarde a mercadoria veio faltando peças par...   \n",
              "..                                                 ...   \n",
              "550  na fotografia parece um equipamento bom mas é ...   \n",
              "551  quanto ao vendedor muito bom pontual tudo cert...   \n",
              "552   ja tem mais de dias e nada do meu produto chegar   \n",
              "553  não aprovei o produto pelas questões da qualid...   \n",
              "554  tão bom que não informa dados técnicos e nem a...   \n",
              "\n",
              "                                              Original  True  Pred  FP  FN  \n",
              "198  A entrega foi super rápida, mas o produto desl...     0     1   1   0  \n",
              "199  O produto comprado deu problema no touch scree...     0     1   1   0  \n",
              "200  Muito frágil de operação difícil. Não recomend...     0     1   1   0  \n",
              "201  O tamanho não confere com o da descrição,  não...     0     1   1   0  \n",
              "202  boa tarde,a mercadoria veio faltando peças par...     0     1   1   0  \n",
              "..                                                 ...   ...   ...  ..  ..  \n",
              "550  Na fotografia parece um equipamento bom, mas é...     0     1   1   0  \n",
              "551  Quanto ao vendedor, muito bom, pontual , tudo ...     0     1   1   0  \n",
              "552  ja tem mais de 30 dias e nada do meu produto c...     0     1   1   0  \n",
              "553  Não aprovei o produto pelas questões da qualid...     0     1   1   0  \n",
              "554  Tão bom que não informa dados técnicos e nem a...     0     1   1   0  \n",
              "\n",
              "[357 rows x 6 columns]"
            ]
          },
          "execution_count": 53,
          "metadata": {},
          "output_type": "execute_result"
        }
      ],
      "source": [
        "#inspecionando os falsos positivos\n",
        "df_erros[df_erros['FP']==1]"
      ]
    },
    {
      "cell_type": "markdown",
      "metadata": {
        "id": "CgZr0mEcBevY"
      },
      "source": [
        "# Persistência\n",
        "\n",
        "Para persistencia do modelo e utilizar o mesmo sem precisar retreinar:\n",
        "\n",
        "https://www.tensorflow.org/guide/keras/save_and_serialize"
      ]
    }
  ],
  "metadata": {
    "accelerator": "GPU",
    "colab": {
      "gpuType": "T4",
      "provenance": []
    },
    "kernelspec": {
      "display_name": "Python 3",
      "name": "python3"
    },
    "language_info": {
      "name": "python"
    }
  },
  "nbformat": 4,
  "nbformat_minor": 0
}
