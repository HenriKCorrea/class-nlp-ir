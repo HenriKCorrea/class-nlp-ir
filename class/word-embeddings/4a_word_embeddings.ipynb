{
  "cells": [
    {
      "cell_type": "markdown",
      "metadata": {
        "id": "QX6EBvN2O2RS"
      },
      "source": [
        "#Ambiente"
      ]
    },
    {
      "cell_type": "code",
      "execution_count": null,
      "metadata": {},
      "outputs": [],
      "source": [
        "# Install environment dependencies\n",
        "%pip install unidecode nltk pandas numpy matplotlib seaborn scikit-learn yellowbrick setuptools plotly nbformat gensim==4.3.1 scipy==1.10.1"
      ]
    },
    {
      "cell_type": "code",
      "execution_count": null,
      "metadata": {
        "colab": {
          "base_uri": "https://localhost:8080/"
        },
        "id": "QbNeBVcgtyFC",
        "outputId": "6f33d28e-4667-4141-9869-69862810448e"
      },
      "outputs": [],
      "source": [
        "import pandas as pd\n",
        "import numpy as np\n",
        "import seaborn as sns\n",
        "import os\n",
        "import nltk\n",
        "nltk.download('punkt')"
      ]
    },
    {
      "cell_type": "markdown",
      "metadata": {
        "id": "JMhsfGp0v9Q0"
      },
      "source": [
        "# Datasets"
      ]
    },
    {
      "cell_type": "markdown",
      "metadata": {
        "id": "Gzls6277tPMZ"
      },
      "source": [
        "## AmericanasBR"
      ]
    },
    {
      "cell_type": "code",
      "execution_count": null,
      "metadata": {
        "colab": {
          "base_uri": "https://localhost:8080/"
        },
        "id": "1FlM6h2tJiAr",
        "outputId": "f3d3d88b-2b56-4c9b-eb44-c8a3720796f5"
      },
      "outputs": [],
      "source": [
        "#baixando os datasets\n",
        "!curl https://www.inf.ufrgs.br/~viviane/DS/B2W-Reviews01_binario5000_TRAIN.csv > B2W-Reviews01_binario5000_TRAIN.csv"
      ]
    },
    {
      "cell_type": "code",
      "execution_count": null,
      "metadata": {
        "id": "jSVPHBniLnjS"
      },
      "outputs": [],
      "source": [
        "df_train = pd.read_csv('B2W-Reviews01_binario5000_TRAIN.csv')"
      ]
    },
    {
      "cell_type": "code",
      "execution_count": null,
      "metadata": {
        "colab": {
          "base_uri": "https://localhost:8080/"
        },
        "id": "nZS5IvZZvLqW",
        "outputId": "582f69b5-4df2-4ac2-e633-df24b1311313"
      },
      "outputs": [],
      "source": [
        "classes = df_train.label.unique()\n",
        "classes"
      ]
    },
    {
      "cell_type": "markdown",
      "metadata": {
        "id": "Ytu6HROTqh-v"
      },
      "source": [
        "# Entendendo as Embeddigns\n",
        "\n",
        "A bilbioteca [Gensim](https://radimrehurek.com/gensim/models/word2vec.html) permite treinar e usar word embedings.\n",
        "\n",
        "A versão da biblioteca a ser usada neste notebook é a 4.\n",
        "\n",
        "Veja diferenças entre versão 3 e 4 neste [link](https://github.com/RaRe-Technologies/gensim/wiki/Migrating-from-Gensim-3.x-to-4)."
      ]
    },
    {
      "cell_type": "code",
      "execution_count": null,
      "metadata": {
        "id": "tZwzIODuZzb_"
      },
      "outputs": [],
      "source": [
        "from gensim import utils\n",
        "import gensim.models"
      ]
    },
    {
      "cell_type": "code",
      "execution_count": null,
      "metadata": {
        "colab": {
          "base_uri": "https://localhost:8080/",
          "height": 35
        },
        "id": "laNKAq4ZqolO",
        "outputId": "4a03c519-6664-4141-e8a4-b89dd3fbd7e5"
      },
      "outputs": [],
      "source": [
        "gensim.__version__"
      ]
    },
    {
      "cell_type": "markdown",
      "metadata": {
        "id": "rECvslSyRtnK"
      },
      "source": [
        "## Treinar embeddings"
      ]
    },
    {
      "cell_type": "markdown",
      "metadata": {
        "id": "dHgDDtT-EYaW"
      },
      "source": [
        "A biblioteca Gensim permite que você treine as embeddings do seu corpus\n",
        "\n",
        "https://radimrehurek.com/gensim/models/word2vec.html"
      ]
    },
    {
      "cell_type": "code",
      "execution_count": null,
      "metadata": {
        "id": "CdCIygDEZ6J9"
      },
      "outputs": [],
      "source": [
        "# classe para montar o dataset\n",
        "class PreProcess:\n",
        "    def __init__(self, docs):\n",
        "            self.lista_text = docs\n",
        "    def __iter__(self):\n",
        "        for line in self.lista_text:\n",
        "            # assume there's one document per line, tokens separated by whitespace:\n",
        "            yield utils.simple_preprocess(line) # este método tokeniza e faz algum preprocessamento\n",
        "            # https://tedboy.github.io/nlps/generated/generated/gensim.utils.simple_preprocess.html"
      ]
    },
    {
      "cell_type": "markdown",
      "metadata": {
        "id": "F4Hxvby03-II"
      },
      "source": [
        "Alguns parametros do [Word2vec](https://radimrehurek.com/gensim/models/word2vec.html#gensim.models.word2vec.Word2Vec)\n",
        "\n",
        "*   `vector_size` – dimensionalidade dos vetores das palavras.\n",
        "*   `window` – tamanho do contexto a considerar, por exemplo windows=5 irá considerar as 5 palavras à esquerda e as 5 palavras à direita da palavra atual como a janela de contexto. O modelo tentará então prever a palavra atual dado este contexto.\n",
        "*   `min_count` – ignora palavras com frequência total menor do que min_count.\n",
        "*   `sg` – o algoritmo de treinamento: 1 for skip-gram e diferente disto CBOW.\n",
        "\n",
        "\n",
        "\n"
      ]
    },
    {
      "cell_type": "code",
      "execution_count": null,
      "metadata": {
        "id": "y6dJTMldboyF"
      },
      "outputs": [],
      "source": [
        "sentences = PreProcess(df_train['text'].values)\n",
        "# assim treina o modelo usando as configurações padrão e estas especificadas aqui\n",
        "model = gensim.models.Word2Vec(sentences=sentences, vector_size=100, window=5, min_count=1, epochs=20, sg=1)"
      ]
    },
    {
      "cell_type": "markdown",
      "metadata": {
        "id": "8qtBllZ_ZhZg"
      },
      "source": [
        "Quando não se necessita mais do estado completo do modelo treinado (não precisa continuar treinando), `Gensim` permite separar os vetores treinados em [`KeyedVectors`](https://radimrehurek.com/gensim/models/keyedvectors.html#module-gensim.models.keyedvectors) possibilitando salvar apenas os vetores e suas chaves (as palavras).\n",
        "\n"
      ]
    },
    {
      "cell_type": "code",
      "execution_count": null,
      "metadata": {
        "colab": {
          "base_uri": "https://localhost:8080/"
        },
        "id": "DPFNNDBjWYUk",
        "outputId": "5a0a6d94-bf68-406d-9c9d-3e4164e03086"
      },
      "outputs": [],
      "source": [
        "# desta forma acessa somente as palavras e seus vetores\n",
        "word_vectors = model.wv\n",
        "word_vectors"
      ]
    },
    {
      "cell_type": "code",
      "execution_count": null,
      "metadata": {
        "colab": {
          "base_uri": "https://localhost:8080/"
        },
        "id": "Mb03ab4ChF_g",
        "outputId": "4c0f3def-3b56-45b6-aca2-66d03a2fd37c"
      },
      "outputs": [],
      "source": [
        "# total de palavras e as 10 primeiras\n",
        "words = list(word_vectors.key_to_index)\n",
        "print(f'O vocabulario contém {len(words)} palavras')\n",
        "print(words[0:10])"
      ]
    },
    {
      "cell_type": "code",
      "execution_count": null,
      "metadata": {
        "colab": {
          "base_uri": "https://localhost:8080/"
        },
        "id": "uUPeHBX3Qwfv",
        "outputId": "82fe1659-5c13-41e5-da93-dd50e93332ce"
      },
      "outputs": [],
      "source": [
        "# verificando o id de uma palavra:\n",
        "print('id de entrega:', word_vectors.key_to_index['entrega'])\n",
        "print('palavra do id 4:', word_vectors.index_to_key[4])"
      ]
    },
    {
      "cell_type": "code",
      "execution_count": null,
      "metadata": {
        "colab": {
          "base_uri": "https://localhost:8080/"
        },
        "id": "0xyK5DxQfqN-",
        "outputId": "89ecbfca-66bc-4739-f7a6-6abf693f12c6"
      },
      "outputs": [],
      "source": [
        "# ocorrências de uma palavra:\n",
        "palavra = 'entrega'\n",
        "palavra_cnt = word_vectors.get_vecattr(palavra, \"count\")\n",
        "print(f'A palavra {palavra} ocorre {palavra_cnt} vezes no dataset')"
      ]
    },
    {
      "cell_type": "markdown",
      "metadata": {
        "id": "VK_QJJC_wam3"
      },
      "source": [
        "Cada palavra única do corpus é representada por um vetor de tamanho `vector_size`, que corresponde ao número de dimnesões usado no treinamento."
      ]
    },
    {
      "cell_type": "code",
      "execution_count": null,
      "metadata": {
        "colab": {
          "base_uri": "https://localhost:8080/"
        },
        "id": "zH5BQAQZka54",
        "outputId": "65bbb71b-2486-405d-e1bf-a0db8c7caab2"
      },
      "outputs": [],
      "source": [
        "print(f\"Embeddings da palavra produto com dimensão {word_vectors['produto'].shape}\")\n",
        "word_vectors['produto']"
      ]
    },
    {
      "cell_type": "code",
      "execution_count": null,
      "metadata": {
        "colab": {
          "base_uri": "https://localhost:8080/"
        },
        "id": "WETGM-CmRnQM",
        "outputId": "1925c0f4-21e9-4f97-e5bd-f40eac972299"
      },
      "outputs": [],
      "source": [
        "# possuem representações diferentes:\n",
        "print(word_vectors['agua'][0:5])\n",
        "print(word_vectors['água'][0:5])"
      ]
    },
    {
      "cell_type": "markdown",
      "metadata": {
        "id": "pznwKP1DlNSL"
      },
      "source": [
        "Salvando as embeddings treinadas:"
      ]
    },
    {
      "cell_type": "code",
      "execution_count": null,
      "metadata": {
        "id": "R7iPViDMlRYS"
      },
      "outputs": [],
      "source": [
        "# salva o modelo em formato binario do gensim:\n",
        "model.save(\"word2vec.model\")"
      ]
    },
    {
      "cell_type": "code",
      "execution_count": null,
      "metadata": {
        "id": "AenWJ6gjYJat"
      },
      "outputs": [],
      "source": [
        "# salva em formato texto somete as palavras e seus vetores de embeddings\n",
        "word_vectors = model.wv\n",
        "word_vectors.save_word2vec_format(\"word2vec.txt\", binary= False)\n"
      ]
    },
    {
      "cell_type": "markdown",
      "metadata": {
        "id": "X5GQEryrN-pD"
      },
      "source": [
        "## Lendo os vetores"
      ]
    },
    {
      "cell_type": "code",
      "execution_count": null,
      "metadata": {
        "id": "0tGBA2cVySES"
      },
      "outputs": [],
      "source": [
        "word_vectors = gensim.models.KeyedVectors.load_word2vec_format('word2vec.txt', binary=False)"
      ]
    },
    {
      "cell_type": "code",
      "execution_count": null,
      "metadata": {
        "colab": {
          "base_uri": "https://localhost:8080/"
        },
        "id": "MTRWCiT5Y8fp",
        "outputId": "3fc631ce-7b8f-454f-e801-8693e18ee04b"
      },
      "outputs": [],
      "source": [
        "word_vectors"
      ]
    },
    {
      "cell_type": "code",
      "execution_count": null,
      "metadata": {
        "colab": {
          "base_uri": "https://localhost:8080/"
        },
        "id": "HXioQ7L9ZdcX",
        "outputId": "0a068ffc-65d6-4bcd-fccc-ba5acaee4749"
      },
      "outputs": [],
      "source": [
        "print('Total de palavras: ',len(word_vectors))\n",
        "print('id da palavra água:', word_vectors.key_to_index['água'])\n",
        "print(word_vectors['água'][0:10])"
      ]
    },
    {
      "cell_type": "code",
      "execution_count": null,
      "metadata": {
        "colab": {
          "base_uri": "https://localhost:8080/"
        },
        "id": "MJOBxeYOZ-6E",
        "outputId": "9674cec8-25f5-4f62-ecda-95003bbcba3e"
      },
      "outputs": [],
      "source": [
        "#somente os vetores das embeddings:\n",
        "vectors = word_vectors.vectors\n",
        "vectors"
      ]
    },
    {
      "cell_type": "code",
      "execution_count": null,
      "metadata": {
        "colab": {
          "base_uri": "https://localhost:8080/"
        },
        "id": "07MdSMqhbKws",
        "outputId": "ea6a40d5-4312-4ab6-ffeb-8c050b21831c"
      },
      "outputs": [],
      "source": [
        "# acessando o vetor da palavra água\n",
        "print(vectors[206][0:10])"
      ]
    },
    {
      "cell_type": "markdown",
      "metadata": {
        "id": "uIYVL44Y0c9I"
      },
      "source": [
        "## Visualizando embeddings"
      ]
    },
    {
      "cell_type": "code",
      "execution_count": null,
      "metadata": {
        "id": "2yY7TQQ_6pbu"
      },
      "outputs": [],
      "source": [
        "from sklearn.manifold import TSNE\n",
        "import plotly.express as px"
      ]
    },
    {
      "cell_type": "code",
      "execution_count": null,
      "metadata": {
        "colab": {
          "base_uri": "https://localhost:8080/"
        },
        "id": "0KBGJRwY4dpJ",
        "outputId": "6cf0c966-39b5-480c-c036-681bf5f314c7"
      },
      "outputs": [],
      "source": [
        "%%time\n",
        "tsne = TSNE(n_components=3, random_state=0)\n",
        "projections = tsne.fit_transform(vectors, )"
      ]
    },
    {
      "cell_type": "code",
      "execution_count": null,
      "metadata": {
        "colab": {
          "base_uri": "https://localhost:8080/",
          "height": 542
        },
        "id": "uu38uwKG3G9t",
        "outputId": "7153aff2-899b-40cd-aa30-b038e8515494"
      },
      "outputs": [],
      "source": [
        "dfP = pd.DataFrame(projections)\n",
        "dfP['word'] = words\n",
        "fig = px.scatter_3d(dfP, x=0, y=1, z=2,hover_data=['word'])\n",
        "fig.update_traces(marker_size=3)\n",
        "fig.show()"
      ]
    },
    {
      "cell_type": "markdown",
      "metadata": {
        "id": "Lrgxk-vFAvCA"
      },
      "source": [
        "Também é possível usar o [Embeddings Projector](https://projector.tensorflow.org/) do Tensorflow."
      ]
    },
    {
      "cell_type": "markdown",
      "metadata": {
        "id": "idlHuORf1N1X"
      },
      "source": [
        "## Usando embeddings já treinadas\n",
        "Podemos usar word embeddings que já foram treinadas e disponibilizadas"
      ]
    },
    {
      "cell_type": "markdown",
      "metadata": {
        "id": "Oi6Y9NGwaaMW"
      },
      "source": [
        "Existem modelos disponíveis no Gensim:"
      ]
    },
    {
      "cell_type": "code",
      "execution_count": null,
      "metadata": {
        "id": "xEmB7CHauA4Z"
      },
      "outputs": [],
      "source": [
        "import gensim.downloader as api"
      ]
    },
    {
      "cell_type": "code",
      "execution_count": null,
      "metadata": {
        "colab": {
          "base_uri": "https://localhost:8080/"
        },
        "id": "L9MPk08yxdQ3",
        "outputId": "01a8481d-5b5a-4d40-a90c-9f81adf09db0"
      },
      "outputs": [],
      "source": [
        "disponiveis = api.info()\n",
        "disponiveis.keys()"
      ]
    },
    {
      "cell_type": "code",
      "execution_count": null,
      "metadata": {
        "colab": {
          "base_uri": "https://localhost:8080/"
        },
        "id": "IWlRTz26x3En",
        "outputId": "80baa9a8-143d-4449-f249-f6dd52f73434"
      },
      "outputs": [],
      "source": [
        "disponiveis['models'].keys()"
      ]
    },
    {
      "cell_type": "code",
      "execution_count": null,
      "metadata": {
        "colab": {
          "base_uri": "https://localhost:8080/"
        },
        "id": "RscsXYD11UKS",
        "outputId": "bd3a2445-1f54-4af1-d636-65267acfec2b"
      },
      "outputs": [],
      "source": [
        "word_vectors = api.load(\"glove-wiki-gigaword-100\") #128Mb"
      ]
    },
    {
      "cell_type": "code",
      "execution_count": null,
      "metadata": {
        "colab": {
          "base_uri": "https://localhost:8080/"
        },
        "id": "yehHorH22Qb2",
        "outputId": "fd49306c-24b4-42a3-bf31-e446fa9dc462"
      },
      "outputs": [],
      "source": [
        "#é uma lista de palavras e seus vetores de embeddinsg treinados por alguém e em algum algoritmo que normlmente é especificado na nomenclatura do arquivo juntamente com o número de dimensões\n",
        "word_vectors"
      ]
    },
    {
      "cell_type": "markdown",
      "metadata": {
        "id": "RMRXUTLtuD3B"
      },
      "source": [
        "## Operações com embeddings"
      ]
    },
    {
      "cell_type": "markdown",
      "metadata": {
        "id": "gok9LrwociKF"
      },
      "source": [
        "A similaridade entre vetores de embeddings é dada pelo cosseno. Quanto mais próximo de 1 mais similar"
      ]
    },
    {
      "cell_type": "code",
      "execution_count": null,
      "metadata": {
        "colab": {
          "base_uri": "https://localhost:8080/"
        },
        "id": "svqKBFDzwjcu",
        "outputId": "3e9ad485-abd9-419e-f9cb-8df2afe641b6"
      },
      "outputs": [],
      "source": [
        "similarity = word_vectors.similarity('woman', 'man')\n",
        "similarity"
      ]
    },
    {
      "cell_type": "code",
      "execution_count": null,
      "metadata": {
        "colab": {
          "base_uri": "https://localhost:8080/"
        },
        "id": "SngXyxbWcp9H",
        "outputId": "984d950b-491f-459d-b29a-214c1eeb2344"
      },
      "outputs": [],
      "source": [
        "word_vectors.similarity('vehicle', 'car')"
      ]
    },
    {
      "cell_type": "code",
      "execution_count": null,
      "metadata": {
        "colab": {
          "base_uri": "https://localhost:8080/"
        },
        "id": "1wq-hQxfiHFW",
        "outputId": "5efffa97-0ddc-476a-cb2e-4c31381742e5"
      },
      "outputs": [],
      "source": [
        "similarity = word_vectors.similarity('woman', 'fruit')\n",
        "similarity"
      ]
    },
    {
      "cell_type": "code",
      "execution_count": null,
      "metadata": {
        "id": "Q3Kvn72EFjZj"
      },
      "outputs": [],
      "source": [
        "import numpy as np\n",
        "from numpy.linalg import norm"
      ]
    },
    {
      "cell_type": "code",
      "execution_count": null,
      "metadata": {
        "id": "DQms3Gu_Qxto"
      },
      "outputs": [],
      "source": [
        "A = word_vectors['woman']\n",
        "B = word_vectors['man']"
      ]
    },
    {
      "cell_type": "code",
      "execution_count": null,
      "metadata": {
        "colab": {
          "base_uri": "https://localhost:8080/"
        },
        "id": "3LIvqieFDv6R",
        "outputId": "21fe733c-b321-499b-bac4-3de6b751ace1"
      },
      "outputs": [],
      "source": [
        "# lembrando que o cosseno é o produto escalar normalizado\n",
        "cosine = np.dot(A,B)/(norm(A)*norm(B))\n",
        "print(\"Cosine Similarity:\", cosine)"
      ]
    },
    {
      "cell_type": "markdown",
      "metadata": {
        "id": "Unb8gbWTRGoT"
      },
      "source": [
        "\n",
        "queen = (king - man) + woman"
      ]
    },
    {
      "cell_type": "code",
      "execution_count": null,
      "metadata": {
        "colab": {
          "base_uri": "https://localhost:8080/"
        },
        "id": "RV65yn4kuLb_",
        "outputId": "19199bfc-6246-42d6-b737-fe22c8fdc4c0"
      },
      "outputs": [],
      "source": [
        "#testando o exemplo famoso do artigo do Mikolov sobre word2vec\n",
        "result = word_vectors.most_similar(positive=['woman', 'king'], negative=['man'], topn=1)\n",
        "print(result)"
      ]
    },
    {
      "cell_type": "code",
      "execution_count": null,
      "metadata": {
        "colab": {
          "base_uri": "https://localhost:8080/"
        },
        "id": "n-ii5xdx1gMa",
        "outputId": "78fbb283-81eb-4b3b-95e7-61941a66710c"
      },
      "outputs": [],
      "source": [
        "result = word_vectors.most_similar(positive=['woman', 'programmer'], negative=['man'], topn=1)\n",
        "print(result)"
      ]
    },
    {
      "cell_type": "markdown",
      "metadata": {
        "id": "gaQXeH93si6N"
      },
      "source": [
        "## Material suplementar - outras embeddings\n",
        "\n",
        "Glove: http://github.com/stanfordnlp/glove"
      ]
    },
    {
      "cell_type": "markdown",
      "metadata": {
        "id": "MdjWoZQmpR1M"
      },
      "source": [
        "\n",
        "Word2vec treinado no detalhe no Keras:\n",
        "https://www.tensorflow.org/tutorials/text/word2vec\n"
      ]
    },
    {
      "cell_type": "markdown",
      "metadata": {
        "id": "7fMpsmX_XQoC"
      },
      "source": [
        "Doc2Vec\n",
        "\n",
        "https://cs.stanford.edu/~quocle/paragraph_vector.pdf\n",
        "\n",
        "https://alvinntnu.github.io/python-notes/nlp/doc2vec.html"
      ]
    },
    {
      "cell_type": "markdown",
      "metadata": {
        "id": "rCVrUTeqNXrq"
      },
      "source": [
        "# Exercícios para entregar\n",
        "\n",
        "Carregue as embeddings indicadas em português para os três exercicios."
      ]
    },
    {
      "cell_type": "code",
      "execution_count": null,
      "metadata": {
        "colab": {
          "base_uri": "https://localhost:8080/"
        },
        "id": "Kd0fLnpmNXrs",
        "outputId": "85ee3915-c9c9-4ada-9dd9-2b4d7dbf0bb2"
      },
      "outputs": [],
      "source": [
        "#baixando as embeddings do NILC de http://nilc.icmc.usp.br/embeddings\n",
        "!curl http://143.107.183.175:22980/download.php?file=embeddings/word2vec/cbow_s100.zip > cbow_s100.zip\n",
        "!unzip -o cbow_s100.zip\n",
        "nomearq = 'cbow_s100.txt'"
      ]
    },
    {
      "cell_type": "code",
      "execution_count": null,
      "metadata": {
        "colab": {
          "base_uri": "https://localhost:8080/"
        },
        "id": "XYRi8T0ENXrt",
        "outputId": "a60bbc15-d9ca-40cb-d9f8-173955bb2bfa"
      },
      "outputs": [],
      "source": [
        "%%time\n",
        "word_vectors = gensim.models.KeyedVectors.load_word2vec_format(nomearq, binary=False)\n",
        "print('Carregado: ',nomearq)"
      ]
    },
    {
      "cell_type": "code",
      "execution_count": null,
      "metadata": {
        "colab": {
          "base_uri": "https://localhost:8080/"
        },
        "id": "VRDGx98KNXru",
        "outputId": "ef6612ab-2f2b-47b8-e5ff-162126391251"
      },
      "outputs": [],
      "source": [
        "# total de palavras e as 10 primeiras\n",
        "words = list(word_vectors.key_to_index)\n",
        "print(f'O vocabulario contém {len(words)}')"
      ]
    },
    {
      "cell_type": "markdown",
      "metadata": {
        "id": "nL9HbqA7NXrv"
      },
      "source": [
        "## Exercício 1\n",
        "\n",
        "A polissemia ocorre quando uma mesma palavra possui mais de um significado. Um exemplo de polissemia é a palavra “manga”, que pode ser parte de vestimenta ou uma fruta.\n",
        "\n",
        "a) Usando a função `most_similar` do Gensim, analise o resultado para a palavra \"manga\". Escolha outra palavra polissêmica que exista no vocabulário e verifique as palavras mais similares."
      ]
    },
    {
      "cell_type": "code",
      "execution_count": null,
      "metadata": {
        "id": "RUjBrax-NXrv"
      },
      "outputs": [],
      "source": [
        "# seu codigo aqui"
      ]
    },
    {
      "cell_type": "markdown",
      "metadata": {
        "id": "w7CNa6NnNXrx"
      },
      "source": [
        "b) O que você observa e qual a sua hipótese para explicar esse comportamento.\n",
        "\n",
        "> Sua análise aqui"
      ]
    },
    {
      "cell_type": "markdown",
      "metadata": {
        "id": "gcM4rPMiNXry"
      },
      "source": [
        "## Exercício 2\n",
        "\n",
        "a) Faça o exercício para duas palavras:\n",
        "\n",
        "Escolha uma palavra, um sinônimo e um antônimo da mesma.\n",
        "Calcule a distância euclideana e a similaridade do cosseno entre a palavra e seu sinônimo e a palavra e seu antônimo.\n",
        "\n",
        "\n",
        "\n",
        "\n"
      ]
    },
    {
      "cell_type": "code",
      "execution_count": null,
      "metadata": {
        "id": "p7NE6tYTNXry"
      },
      "outputs": [],
      "source": [
        "# seu codigo aqui"
      ]
    },
    {
      "cell_type": "markdown",
      "metadata": {
        "id": "V-9n_rCaNXrz"
      },
      "source": [
        "b) O que você observa e qual a sua hipótese para explicar esse comportamento.\n",
        "\n",
        "> Sua análise aqui"
      ]
    },
    {
      "cell_type": "markdown",
      "metadata": {
        "id": "7n4BEe-BNXr0"
      },
      "source": [
        "## Exercício 3\n",
        "\n",
        "a) Verifique as palavras mais similares em relação às palavras \"enfermeiro\" e \"enfermeira\"."
      ]
    },
    {
      "cell_type": "code",
      "execution_count": null,
      "metadata": {
        "id": "9kG1v7_yNXr0"
      },
      "outputs": [],
      "source": [
        "# seu codigo aqui"
      ]
    },
    {
      "cell_type": "markdown",
      "metadata": {
        "id": "Rk1N5z1ENXr1"
      },
      "source": [
        "b) Você observa algum viés? Se sim, qual sua hipótese.\n",
        "\n",
        "\n",
        "> Sua análise aqui\n",
        "\n"
      ]
    }
  ],
  "metadata": {
    "colab": {
      "provenance": []
    },
    "gpuClass": "standard",
    "kernelspec": {
      "display_name": ".venv",
      "language": "python",
      "name": "python3"
    },
    "language_info": {
      "codemirror_mode": {
        "name": "ipython",
        "version": 3
      },
      "file_extension": ".py",
      "mimetype": "text/x-python",
      "name": "python",
      "nbconvert_exporter": "python",
      "pygments_lexer": "ipython3",
      "version": "3.10.16"
    }
  },
  "nbformat": 4,
  "nbformat_minor": 0
}
